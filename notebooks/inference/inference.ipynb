{
  "nbformat": 4,
  "nbformat_minor": 0,
  "metadata": {
    "colab": {
      "provenance": [],
      "authorship_tag": "ABX9TyOjEeU/phxHhFcHKO4nWK6s",
      "include_colab_link": true
    },
    "kernelspec": {
      "name": "python3",
      "display_name": "Python 3"
    },
    "language_info": {
      "name": "python"
    }
  },
  "cells": [
    {
      "cell_type": "markdown",
      "metadata": {
        "id": "view-in-github",
        "colab_type": "text"
      },
      "source": [
        "<a href=\"https://colab.research.google.com/github/benjaminbrown038/Amazon/blob/main/notebooks/inference/inference.ipynb\" target=\"_parent\"><img src=\"https://colab.research.google.com/assets/colab-badge.svg\" alt=\"Open In Colab\"/></a>"
      ]
    },
    {
      "cell_type": "markdown",
      "source": [
        "# Running Inference of Models in Sagemaker"
      ],
      "metadata": {
        "id": "aZh1RKzC1EdW"
      }
    },
    {
      "cell_type": "markdown",
      "source": [],
      "metadata": {
        "id": "o7RLkzck1ErH"
      }
    },
    {
      "cell_type": "code",
      "source": [
        "inference_instance_type = \"ml.m5.xlarge\"\n",
        "inference_instance_type"
      ],
      "metadata": {
        "id": "Jm1KLbJm1FEu"
      },
      "execution_count": null,
      "outputs": []
    },
    {
      "cell_type": "markdown",
      "source": [],
      "metadata": {
        "id": "AhiDL0Y21FMG"
      }
    },
    {
      "cell_type": "code",
      "source": [
        "deploy_image_uri = image_uris.retrieve(\n",
        "    region=None,\n",
        "    framework=None,\n",
        "    image_scope=\"inference\",\n",
        "    model_id=infer_model_id,\n",
        "    model_version=infer_model_version,\n",
        "    instance_type=inference_instance_type)\n",
        "deploy_image_uri"
      ],
      "metadata": {
        "id": "eG4gFQQ61FRX"
      },
      "execution_count": null,
      "outputs": []
    },
    {
      "cell_type": "markdown",
      "source": [],
      "metadata": {
        "id": "01Y7H79N1FWv"
      }
    },
    {
      "cell_type": "code",
      "source": [
        "base_model_uri = model_uris.retrieve(model_id=infer_model_id, model_version=infer_model_version, model_scope=\"inference\")\n",
        "base_model_uri"
      ],
      "metadata": {
        "id": "8Th-h6O51Fb-"
      },
      "execution_count": null,
      "outputs": []
    },
    {
      "cell_type": "markdown",
      "source": [],
      "metadata": {
        "id": "J_aic0rO1FhW"
      }
    },
    {
      "cell_type": "code",
      "source": [
        "base_model_predictor = model.deploy(\n",
        "    initial_instance_count=1,\n",
        "    instance_type=inference_instance_type,\n",
        "    endpoint_name=endpoint_name)\n",
        "base_model_predictor"
      ],
      "metadata": {
        "id": "hk91ebFQ1Fl2"
      },
      "execution_count": null,
      "outputs": []
    },
    {
      "cell_type": "markdown",
      "source": [],
      "metadata": {
        "id": "n1aUgQJ31FrO"
      }
    },
    {
      "cell_type": "code",
      "source": [
        "key_prefix = \"inference-notebook-assets\"\n",
        "key_prefix"
      ],
      "metadata": {
        "id": "LvCuQh081Fv4"
      },
      "execution_count": null,
      "outputs": []
    },
    {
      "cell_type": "markdown",
      "source": [],
      "metadata": {
        "id": "v5l9DjX_1ahg"
      }
    },
    {
      "cell_type": "code",
      "source": [],
      "metadata": {
        "id": "ovZWAqT41amn"
      },
      "execution_count": null,
      "outputs": []
    },
    {
      "cell_type": "markdown",
      "source": [],
      "metadata": {
        "id": "3KlLQcMz1asA"
      }
    },
    {
      "cell_type": "code",
      "source": [],
      "metadata": {
        "id": "XM5_VhQ91awu"
      },
      "execution_count": null,
      "outputs": []
    },
    {
      "cell_type": "markdown",
      "source": [],
      "metadata": {
        "id": "TlPywhMT1a14"
      }
    },
    {
      "cell_type": "code",
      "source": [],
      "metadata": {
        "id": "Y-N18Ad31a8P"
      },
      "execution_count": null,
      "outputs": []
    },
    {
      "cell_type": "markdown",
      "source": [],
      "metadata": {
        "id": "oQQHFrFg1bBo"
      }
    },
    {
      "cell_type": "code",
      "source": [],
      "metadata": {
        "id": "J_F96jPG1bGR"
      },
      "execution_count": null,
      "outputs": []
    }
  ]
}