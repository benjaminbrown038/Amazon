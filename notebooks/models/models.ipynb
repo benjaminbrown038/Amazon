{
  "nbformat": 4,
  "nbformat_minor": 0,
  "metadata": {
    "colab": {
      "provenance": [],
      "authorship_tag": "ABX9TyNQCUWuwGiY39g1EW1Pmkkr",
      "include_colab_link": true
    },
    "kernelspec": {
      "name": "python3",
      "display_name": "Python 3"
    },
    "language_info": {
      "name": "python"
    }
  },
  "cells": [
    {
      "cell_type": "markdown",
      "metadata": {
        "id": "view-in-github",
        "colab_type": "text"
      },
      "source": [
        "<a href=\"https://colab.research.google.com/github/benjaminbrown038/Amazon/blob/main/notebooks/models/models.ipynb\" target=\"_parent\"><img src=\"https://colab.research.google.com/assets/colab-badge.svg\" alt=\"Open In Colab\"/></a>"
      ]
    },
    {
      "cell_type": "markdown",
      "source": [
        "# Pretrained Model Architectures in AWS\n",
        "\n",
        "- Model ID\n",
        "\n",
        "    -\n",
        "\n",
        "- Finetunabele\n"
      ],
      "metadata": {
        "id": "1ZqChtQ2VY86"
      }
    },
    {
      "cell_type": "markdown",
      "source": [
        "#### Imports"
      ],
      "metadata": {
        "id": "YsCOeojIVY_b"
      }
    },
    {
      "cell_type": "code",
      "source": [
        "%%capture\n",
        "!pip3 install sagemaker\n",
        "import sagemaker\n",
        "from sagemaker.estimator import Estimator\n",
        "from sagemaker.model import Model\n",
        "from sagemaker.predictor import Predictor"
      ],
      "metadata": {
        "id": "3OOODE9aWggz"
      },
      "execution_count": 1,
      "outputs": []
    },
    {
      "cell_type": "markdown",
      "source": [],
      "metadata": {
        "id": "6GA68cDxX2zP"
      }
    },
    {
      "cell_type": "code",
      "source": [
        "base_model_predictor = model.deploy(\n",
        "    initial_instance_count=1,\n",
        "    instance_type=inference_instance_type,\n",
        "    endpoint_name=endpoint_name)"
      ],
      "metadata": {
        "id": "4MotTf5YVYcj"
      },
      "execution_count": null,
      "outputs": []
    },
    {
      "cell_type": "markdown",
      "source": [],
      "metadata": {
        "id": "-JWKq-xHX3sf"
      }
    },
    {
      "cell_type": "code",
      "source": [
        "ic_estimator = Estimator(\n",
        "    role=aws_role,\n",
        "    image_uri=train_image_uri,\n",
        "    source_dir=train_source_uri,\n",
        "    model_uri=train_model_uri,\n",
        "    entry_point=\"transfer_learning.py\",\n",
        "    instance_count=1,\n",
        "    instance_type=training_instance_type,\n",
        "    max_run=360000,\n",
        "    hyperparameters=hyperparameters,\n",
        "    output_path=s3_output_location,\n",
        "    base_job_name=training_job_name)"
      ],
      "metadata": {
        "id": "Zr0e3DHTVYfS"
      },
      "execution_count": null,
      "outputs": []
    },
    {
      "cell_type": "markdown",
      "source": [],
      "metadata": {
        "id": "qfKORJ1HX4jP"
      }
    },
    {
      "cell_type": "code",
      "source": [
        "incremental_train_estimator = Estimator(\n",
        "    role=aws_role,\n",
        "    image_uri=train_image_uri,\n",
        "    source_dir=train_source_uri,\n",
        "    model_uri=last_trained_model_path,\n",
        "    entry_point=\"transfer_learning.py\",\n",
        "    instance_count=1,\n",
        "    instance_type=training_instance_type,\n",
        "    max_run=360000,\n",
        "    hyperparameters=hyperparameters,\n",
        "    output_path=incremental_s3_output_location,\n",
        "    base_job_name=incremental_training_job_name)"
      ],
      "metadata": {
        "id": "iUlSGdYAVYhy"
      },
      "execution_count": null,
      "outputs": []
    }
  ]
}