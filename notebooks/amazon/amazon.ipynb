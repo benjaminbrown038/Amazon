{
  "nbformat": 4,
  "nbformat_minor": 0,
  "metadata": {
    "colab": {
      "provenance": [],
      "authorship_tag": "ABX9TyPksM20K7T+couje3yZo+8P",
      "include_colab_link": true
    },
    "kernelspec": {
      "name": "python3",
      "display_name": "Python 3"
    },
    "language_info": {
      "name": "python"
    }
  },
  "cells": [
    {
      "cell_type": "markdown",
      "metadata": {
        "id": "view-in-github",
        "colab_type": "text"
      },
      "source": [
        "<a href=\"https://colab.research.google.com/github/benjaminbrown038/Amazon/blob/main/notebooks/amazon/amazon.ipynb\" target=\"_parent\"><img src=\"https://colab.research.google.com/assets/colab-badge.svg\" alt=\"Open In Colab\"/></a>"
      ]
    },
    {
      "cell_type": "markdown",
      "source": [
        "# Amazon\n",
        "\n",
        "## Computer Vision\n",
        "\n",
        "- Image Classification\n",
        "- Object Detection\n",
        "- Semantic Segmentation\n",
        "- Instance Segmentation\n",
        "- Image Embedding\n",
        "\n",
        "## Text\n",
        "\n",
        "- Text Classification\n",
        "- Sentence Pair Classification\n",
        "- Question Answering\n",
        "- Named Entity Recognition\n",
        "- Text Summarization\n",
        "- Text Generation\n",
        "- Machine Translation\n",
        "- Text Embedding\n",
        "\n",
        "\n",
        "## Tabular\n",
        "\n",
        "- Tabular Classification (LightGBM & Catboost)\n",
        "- Tabular Classification (XGBoost & Scikit-learn Linear Learner)\n",
        "- Tabular Classification (AutoGluon)\n",
        "- Tabular Classification (TabTransformer)\n",
        "- Tabular Regression (LightGBM & Catboost)\n",
        "- Tabular Regression (XGBoost & Scikit-learn Linear Learner)\n",
        "- Tabular Regression (AutoGluon)\n",
        "- Tabular Regression (TabTransformer)"
      ],
      "metadata": {
        "id": "eSDVecTsglGb"
      }
    },
    {
      "cell_type": "markdown",
      "source": [
        "#### Imports"
      ],
      "metadata": {
        "id": "KVKF-sk0glSC"
      }
    },
    {
      "cell_type": "code",
      "source": [
        "%%capture\n",
        "!pip3 install sagemaker\n",
        "import logging\n",
        "import time\n",
        "\n",
        "import boto3\n",
        "\n",
        "import sagemaker\n",
        "from sagemaker.xgboost import XGBoost\n",
        "from sagemaker.experiments.run import Run\n",
        "from sagemaker.analytics import ExperimentAnalytics"
      ],
      "metadata": {
        "id": "UUeZGmrrglcC"
      },
      "execution_count": null,
      "outputs": []
    },
    {
      "cell_type": "code",
      "source": [
        "role = sagemaker.get_execution_role()\n",
        "role"
      ],
      "metadata": {
        "id": "ey_VRQb29egB"
      },
      "execution_count": null,
      "outputs": []
    },
    {
      "cell_type": "code",
      "source": [
        "region = boto3.Session().region_name\n",
        "region"
      ],
      "metadata": {
        "id": "qHyt9QQCglx6"
      },
      "execution_count": null,
      "outputs": []
    },
    {
      "cell_type": "code",
      "source": [
        "sagemaker_session = sagemaker.Session()\n",
        "sagemaker_session"
      ],
      "metadata": {
        "id": "wDJCHS6GumP7"
      },
      "execution_count": null,
      "outputs": []
    },
    {
      "cell_type": "code",
      "source": [
        "bucket_name = sagemaker_session.default_bucket()\n",
        "bucket_name"
      ],
      "metadata": {
        "id": "IU-oy3UUgmFt"
      },
      "execution_count": null,
      "outputs": []
    },
    {
      "cell_type": "code",
      "source": [
        "prefix = \"end-to-end-ml\"\n",
        "prefix"
      ],
      "metadata": {
        "id": "LsyYymx7gmPj"
      },
      "execution_count": null,
      "outputs": []
    },
    {
      "cell_type": "markdown",
      "source": [
        "## Hugging Face"
      ],
      "metadata": {
        "id": "M8JM_CVc4Pkn"
      }
    },
    {
      "cell_type": "markdown",
      "source": [
        "#### Imports"
      ],
      "metadata": {
        "id": "O0CgpIxE6GFM"
      }
    },
    {
      "cell_type": "code",
      "source": [
        "%%capture\n",
        "!pip3 install sagemaker --upgrade\n",
        "!pip3 install datasets\n",
        "\n",
        "import boto3\n",
        "import datasets\n",
        "import sagemaker\n",
        "from sagemaker.huggingface import HuggingFace, TrainingCompilerConfig\n",
        "from sagemaker.s3 import S3Downloader\n",
        "import transformers\n",
        "\n",
        "import argparse\n",
        "import os"
      ],
      "metadata": {
        "id": "VDOzkIwa6VCV"
      },
      "execution_count": null,
      "outputs": []
    },
    {
      "cell_type": "code",
      "source": [
        "sess = sagemaker.Session()\n",
        "role = sagemaker.get_execution_role()\n",
        "role2 = iam_client.get_role(RoleName='role-name-of-your-iam-role-with-right-permissions')['Role']['Arn']\n",
        "iam_client = boto3.client('iam')"
      ],
      "metadata": {
        "id": "ybr8QknGXXlu"
      },
      "execution_count": null,
      "outputs": []
    },
    {
      "cell_type": "code",
      "source": [
        "if __name__ == \"__main__\":\n",
        "\n",
        "    parser = argparse.ArgumentParser()\n",
        "\n",
        "    parser.add_argument(\"--epochs\", type=int, default=3)\n",
        "    parser.add_argument(\"--per_device_train_batch_size\", type=int, default=32)\n",
        "    parser.add_argument(\"--model_name_or_path\", type=str)\n",
        "\n",
        "    parser.add_argument(\"--model-dir\", type=str, default=os.environ[\"SM_MODEL_DIR\"])\n",
        "    parser.add_argument(\"--training_dir\", type=str, default=os.environ[\"SM_CHANNEL_TRAIN\"])\n",
        "    parser.add_argument(\"--test_dir\", type=str, default=os.environ[\"SM_CHANNEL_TEST\"])"
      ],
      "metadata": {
        "id": "WyM-fTNjXXob"
      },
      "execution_count": null,
      "outputs": []
    },
    {
      "cell_type": "code",
      "source": [
        "hyperparameters={'epochs': 1,\n",
        "                 'per_device_train_batch_size': 32,\n",
        "                 'model_name_or_path': 'distilbert-base-uncased'}\n",
        "hyperparameters"
      ],
      "metadata": {
        "id": "lng9UpW8XpXt",
        "outputId": "e3f8745e-40da-4a29-c0db-e4a819cf0b58",
        "colab": {
          "base_uri": "https://localhost:8080/"
        }
      },
      "execution_count": null,
      "outputs": [
        {
          "output_type": "execute_result",
          "data": {
            "text/plain": [
              "{'epochs': 1,\n",
              " 'per_device_train_batch_size': 32,\n",
              " 'model_name_or_path': 'distilbert-base-uncased'}"
            ]
          },
          "metadata": {},
          "execution_count": 5
        }
      ]
    },
    {
      "cell_type": "code",
      "source": [
        "huggingface_estimator = HuggingFace(\n",
        "        entry_point='train.py',\n",
        "        source_dir='./scripts',\n",
        "        instance_type='ml.p3.2xlarge',\n",
        "        instance_count=1,\n",
        "        role=role,\n",
        "        transformers_version='4.26',\n",
        "        pytorch_version='1.13',\n",
        "        py_version='py39',\n",
        "        hyperparameters = hyperparameters)\n",
        "huggingface_estimator"
      ],
      "metadata": {
        "id": "Wr0ZbdVk99IZ"
      },
      "execution_count": null,
      "outputs": []
    },
    {
      "cell_type": "code",
      "source": [
        "huggingface_estimator.fit(\n",
        "  {'train': 's3://sagemaker-us-east-1-558105141721/samples/datasets/imdb/train',\n",
        "   'test': 's3://sagemaker-us-east-1-558105141721/samples/datasets/imdb/test'})"
      ],
      "metadata": {
        "id": "scz5Bz7fXfUl"
      },
      "execution_count": null,
      "outputs": []
    },
    {
      "cell_type": "code",
      "source": [
        "/opt/conda/bin/python train.py --epochs 1 --model_name_or_path distilbert-base-uncased --per_device_train_batch_size 32"
      ],
      "metadata": {
        "id": "L2Jm40wVXfYE"
      },
      "execution_count": null,
      "outputs": []
    },
    {
      "cell_type": "code",
      "source": [
        "S3Downloader.download(\n",
        "    s3_uri=huggingface_estimator.model_data,\n",
        "    local_path='.',\n",
        "    sagemaker_session=sess)"
      ],
      "metadata": {
        "id": "oReasakTXfdk"
      },
      "execution_count": null,
      "outputs": []
    },
    {
      "cell_type": "code",
      "source": [
        "distribution = {'smdistributed':{'dataparallel':{ 'enabled': True }}}\n",
        "distribution"
      ],
      "metadata": {
        "id": "cjtokviOXfgz",
        "outputId": "1bb7d8b8-c994-44c1-fd6e-d3e2af5bdee6",
        "colab": {
          "base_uri": "https://localhost:8080/"
        }
      },
      "execution_count": null,
      "outputs": [
        {
          "output_type": "execute_result",
          "data": {
            "text/plain": [
              "{'smdistributed': {'dataparallel': {'enabled': True}}}"
            ]
          },
          "metadata": {},
          "execution_count": 7
        }
      ]
    },
    {
      "cell_type": "code",
      "source": [
        "huggingface_estimator = HuggingFace(\n",
        "        entry_point='train.py',\n",
        "        source_dir='./scripts',\n",
        "        instance_type='ml.p3dn.24xlarge',\n",
        "        instance_count=2,\n",
        "        role=role,\n",
        "        transformers_version='4.26.0',\n",
        "        pytorch_version='1.13.1',\n",
        "        py_version='py39',\n",
        "        hyperparameters = hyperparameters,\n",
        "        distribution = distribution)\n",
        "huggingface_estimator"
      ],
      "metadata": {
        "id": "JAgh55UOYJ_g"
      },
      "execution_count": null,
      "outputs": []
    },
    {
      "cell_type": "code",
      "source": [
        "mpi_options = {\n",
        "    \"enabled\" : True,\n",
        "    \"processes_per_host\" : 8}\n",
        "mpi_options"
      ],
      "metadata": {
        "id": "EY26o46mYKCY",
        "outputId": "15f232ab-0243-44e2-bd4c-dfbfb71c09c8",
        "colab": {
          "base_uri": "https://localhost:8080/"
        }
      },
      "execution_count": null,
      "outputs": [
        {
          "output_type": "execute_result",
          "data": {
            "text/plain": [
              "{'enabled': True, 'processes_per_host': 8}"
            ]
          },
          "metadata": {},
          "execution_count": 8
        }
      ]
    },
    {
      "cell_type": "code",
      "source": [
        "smp_options = {\n",
        "        \"enabled\":True,\n",
        "        \"parameters\": {\n",
        "        \"microbatches\": 4,\n",
        "        \"placement_strategy\": \"spread\",\n",
        "        \"pipeline\": \"interleaved\",\n",
        "        \"optimize\": \"speed\",\n",
        "        \"partitions\": 4,\n",
        "        \"ddp\": True}}\n",
        "smp_options"
      ],
      "metadata": {
        "id": "CSmw5miOYKFk",
        "outputId": "7f8b7cde-8300-40b4-f17d-046f5caefc43",
        "colab": {
          "base_uri": "https://localhost:8080/"
        }
      },
      "execution_count": null,
      "outputs": [
        {
          "output_type": "execute_result",
          "data": {
            "text/plain": [
              "{'enabled': True,\n",
              " 'parameters': {'microbatches': 4,\n",
              "  'placement_strategy': 'spread',\n",
              "  'pipeline': 'interleaved',\n",
              "  'optimize': 'speed',\n",
              "  'partitions': 4,\n",
              "  'ddp': True}}"
            ]
          },
          "metadata": {},
          "execution_count": 9
        }
      ]
    },
    {
      "cell_type": "code",
      "source": [
        "distribution={\n",
        "    \"smdistributed\": {\"modelparallel\": smp_options},\n",
        "    \"mpi\": mpi_options}\n",
        "distribution"
      ],
      "metadata": {
        "id": "-PCefXWfYKId",
        "outputId": "c093a270-1a7e-4a87-d03d-fca59bc8ebf1",
        "colab": {
          "base_uri": "https://localhost:8080/"
        }
      },
      "execution_count": null,
      "outputs": [
        {
          "output_type": "execute_result",
          "data": {
            "text/plain": [
              "{'smdistributed': {'modelparallel': {'enabled': True,\n",
              "   'parameters': {'microbatches': 4,\n",
              "    'placement_strategy': 'spread',\n",
              "    'pipeline': 'interleaved',\n",
              "    'optimize': 'speed',\n",
              "    'partitions': 4,\n",
              "    'ddp': True}}},\n",
              " 'mpi': {'enabled': True, 'processes_per_host': 8}}"
            ]
          },
          "metadata": {},
          "execution_count": 10
        }
      ]
    },
    {
      "cell_type": "code",
      "source": [
        "huggingface_estimator = HuggingFace(\n",
        "        entry_point='train.py',\n",
        "        source_dir='./scripts',\n",
        "        instance_type='ml.p3dn.24xlarge',\n",
        "        instance_count=2,\n",
        "        role=role,\n",
        "        transformers_version='4.26.0',\n",
        "        pytorch_version='1.13.1',\n",
        "        py_version='py39',\n",
        "        hyperparameters = hyperparameters,\n",
        "        distribution = distribution)\n",
        "huggingface_estimator"
      ],
      "metadata": {
        "id": "n0oTTeXrYKLS"
      },
      "execution_count": null,
      "outputs": []
    },
    {
      "cell_type": "code",
      "source": [
        "hyperparameters={'epochs': 1,\n",
        "                 'train_batch_size': 32,\n",
        "                 'model_name':'distilbert-base-uncased',\n",
        "                 'output_dir':'/opt/ml/checkpoints'}\n",
        "hyperparameters"
      ],
      "metadata": {
        "id": "kf8_di0iYKOF",
        "outputId": "f431312b-d41a-467f-bae9-d98971959548",
        "colab": {
          "base_uri": "https://localhost:8080/"
        }
      },
      "execution_count": null,
      "outputs": [
        {
          "output_type": "execute_result",
          "data": {
            "text/plain": [
              "{'epochs': 1,\n",
              " 'train_batch_size': 32,\n",
              " 'model_name': 'distilbert-base-uncased',\n",
              " 'output_dir': '/opt/ml/checkpoints'}"
            ]
          },
          "metadata": {},
          "execution_count": 11
        }
      ]
    },
    {
      "cell_type": "code",
      "source": [
        "huggingface_estimator = HuggingFace(\n",
        "        entry_point='train.py',\n",
        "        source_dir='./scripts',\n",
        "        instance_type='ml.p3.2xlarge',\n",
        "        instance_count=1,\n",
        "\t      checkpoint_s3_uri=f's3://{sess.default_bucket()}/checkpoints'\n",
        "        use_spot_instances=True,\n",
        "        max_wait=3600,\n",
        "        max_run=1000,\n",
        "        role=role,\n",
        "        transformers_version='4.26',\n",
        "        pytorch_version='1.13',\n",
        "        py_version='py39',\n",
        "        hyperparameters = hyperparameters)\n",
        "huggingface_estimator"
      ],
      "metadata": {
        "id": "bEVvlAOzYKQ1"
      },
      "execution_count": null,
      "outputs": []
    },
    {
      "cell_type": "code",
      "source": [
        "git_config = {'repo': 'https://github.com/huggingface/transformers.git','branch': 'v4.4.2'}\n",
        "git_config"
      ],
      "metadata": {
        "id": "tkCXlWHRYKTf",
        "outputId": "256521c5-02b4-4e0e-a861-fd98aae51f7f",
        "colab": {
          "base_uri": "https://localhost:8080/"
        }
      },
      "execution_count": null,
      "outputs": [
        {
          "output_type": "execute_result",
          "data": {
            "text/plain": [
              "{'repo': 'https://github.com/huggingface/transformers.git', 'branch': 'v4.4.2'}"
            ]
          },
          "metadata": {},
          "execution_count": 12
        }
      ]
    },
    {
      "cell_type": "code",
      "source": [
        "huggingface_estimator = HuggingFace(\n",
        "        entry_point='run_glue.py',\n",
        "        source_dir='./examples/pytorch/text-classification',\n",
        "        git_config=git_config,\n",
        "        instance_type='ml.p3.2xlarge',\n",
        "        instance_count=1,\n",
        "        role=role,\n",
        "        transformers_version='4.26',\n",
        "        pytorch_version='1.13',\n",
        "        py_version='py39',\n",
        "        hyperparameters=hyperparameters)\n",
        "huggingface_estimator"
      ],
      "metadata": {
        "id": "UptX1RgXXXrj"
      },
      "execution_count": null,
      "outputs": []
    },
    {
      "cell_type": "code",
      "source": [
        "metric_definitions = [\n",
        "    {\"Name\": \"train_runtime\", \"Regex\": \"train_runtime.*=\\D*(.*?)$\"},\n",
        "    {\"Name\": \"eval_accuracy\", \"Regex\": \"eval_accuracy.*=\\D*(.*?)$\"},\n",
        "    {\"Name\": \"eval_loss\", \"Regex\": \"eval_loss.*=\\D*(.*?)$\"}]\n",
        "metric_definitions"
      ],
      "metadata": {
        "id": "o-HjxL60ZCDf",
        "outputId": "4de3e5aa-87a2-47ad-aad9-e25d79ad6d11",
        "colab": {
          "base_uri": "https://localhost:8080/"
        }
      },
      "execution_count": null,
      "outputs": [
        {
          "output_type": "execute_result",
          "data": {
            "text/plain": [
              "[{'Name': 'train_runtime', 'Regex': 'train_runtime.*=\\\\D*(.*?)$'},\n",
              " {'Name': 'eval_accuracy', 'Regex': 'eval_accuracy.*=\\\\D*(.*?)$'},\n",
              " {'Name': 'eval_loss', 'Regex': 'eval_loss.*=\\\\D*(.*?)$'}]"
            ]
          },
          "metadata": {},
          "execution_count": 13
        }
      ]
    },
    {
      "cell_type": "code",
      "source": [
        "huggingface_estimator = HuggingFace(\n",
        "        entry_point='train.py',\n",
        "        source_dir='./scripts',\n",
        "        instance_type='ml.p3.2xlarge',\n",
        "        instance_count=1,\n",
        "        role=role,\n",
        "        transformers_version='4.26',\n",
        "        pytorch_version='1.13',\n",
        "        py_version='py39',\n",
        "        metric_definitions=metric_definitions,\n",
        "        hyperparameters = hyperparameters)\n",
        "huggingface_estimator"
      ],
      "metadata": {
        "id": "L1VZ8L0nZD7v"
      },
      "execution_count": null,
      "outputs": []
    },
    {
      "cell_type": "code",
      "source": [
        "huggingface_estimator=HuggingFace(\n",
        "    compiler_config=TrainingCompilerConfig())\n",
        "huggingface_estimator"
      ],
      "metadata": {
        "id": "DqDDKrD86GKk"
      },
      "execution_count": null,
      "outputs": []
    },
    {
      "cell_type": "markdown",
      "source": [
        "# PyTorch\n",
        "### Use PyTorch with the SageMaker Python SDK\n",
        "\n",
        "- Train\n",
        "\n",
        "- Deploy"
      ],
      "metadata": {
        "id": "-nq2Oc6l50Iy"
      }
    },
    {
      "cell_type": "code",
      "source": [
        "%%capture\n",
        "\n",
        "import argparse\n",
        "import os\n",
        "\n",
        "import torch\n",
        "import torch.distributed as dist\n",
        "from sagemaker.pytorch import PyTorch\n",
        "\n",
        "from six import BytesIO\n",
        "\n",
        "from sagemaker import get_execution_role\n",
        "from sagemaker.tensorflow import TensorFlow\n",
        "from sagemaker.tensorflow import TensorFlowModel"
      ],
      "metadata": {
        "id": "4dDRyS4bilAh"
      },
      "execution_count": null,
      "outputs": []
    },
    {
      "cell_type": "code",
      "source": [
        "if __name__ =='__main__':\n",
        "\n",
        "    parser = argparse.ArgumentParser()\n",
        "    parser.add_argument('--epochs', type=int, default=50)\n",
        "    parser.add_argument('--batch-size', type=int, default=64)\n",
        "    parser.add_argument('--learning-rate', type=float, default=0.05)\n",
        "    parser.add_argument('--use-cuda', type=bool, default=False)\n",
        "    parser.add_argument('--output-data-dir', type=str, default=os.environ['SM_OUTPUT_DATA_DIR'])\n",
        "    parser.add_argument('--model-dir', type=str, default=os.environ['SM_MODEL_DIR'])\n",
        "    parser.add_argument('--train', type=str, default=os.environ['SM_CHANNEL_TRAIN'])\n",
        "    parser.add_argument('--test', type=str, default=os.environ['SM_CHANNEL_TEST'])\n",
        "    args, _ = parser.parse_known_args()"
      ],
      "metadata": {
        "id": "i6A5C_O--Gog"
      },
      "execution_count": null,
      "outputs": []
    },
    {
      "cell_type": "code",
      "source": [
        "if __name__=='__main__':\n",
        "\n",
        "    parser.add_argument('--model-dir', type=str, default=os.environ['SM_MODEL_DIR'])\n",
        "    args, _ = parser.parse_known_args()\n",
        "    with open(os.path.join(args.model_dir, 'model.pth'), 'wb') as f:\n",
        "        torch.save(model.state_dict(), f)"
      ],
      "metadata": {
        "id": "4T_PCDsDbw1d"
      },
      "execution_count": null,
      "outputs": []
    },
    {
      "cell_type": "code",
      "source": [
        "model_dir = os.path.join(model_dir, \"model.pt\")\n",
        "model_dir"
      ],
      "metadata": {
        "id": "1rqWhZpu-K4G"
      },
      "execution_count": null,
      "outputs": []
    },
    {
      "cell_type": "code",
      "source": [
        "torch.jit.save(model, model_dir)"
      ],
      "metadata": {
        "id": "a-ajC9Aag3FQ"
      },
      "execution_count": null,
      "outputs": []
    },
    {
      "cell_type": "code",
      "source": [
        "pytorch_estimator = PyTorch('pytorch-train.py',\n",
        "                            instance_type='ml.p3.2xlarge',\n",
        "                            instance_count=1,\n",
        "                            framework_version='1.8.0',\n",
        "                            py_version='py3',\n",
        "                            hyperparameters = {'epochs': 20, 'batch-size': 64, 'learning-rate': 0.1})\n",
        "pytorch_estimator"
      ],
      "metadata": {
        "id": "u2_w-o64bxJZ"
      },
      "execution_count": null,
      "outputs": []
    },
    {
      "cell_type": "code",
      "source": [
        "pytorch_estimator.fit({'train': 's3://my-data-bucket/path/to/my/training/data',\n",
        "                       'test': 's3://my-data-bucket/path/to/my/test/data'})"
      ],
      "metadata": {
        "id": "QCmSrTubglbn"
      },
      "execution_count": null,
      "outputs": []
    },
    {
      "cell_type": "code",
      "source": [
        "{'train':'s3://my-bucket/my-training-data',\n",
        " 'eval':'s3://my-bucket/my-evaluation-data'}"
      ],
      "metadata": {
        "id": "yK1dMj-UbxTE",
        "outputId": "14ce173d-63fb-4422-f613-4068f62d7377",
        "colab": {
          "base_uri": "https://localhost:8080/"
        }
      },
      "execution_count": null,
      "outputs": [
        {
          "output_type": "execute_result",
          "data": {
            "text/plain": [
              "{'train': 's3://my-bucket/my-training-data',\n",
              " 'eval': 's3://my-bucket/my-evaluation-data'}"
            ]
          },
          "metadata": {},
          "execution_count": 20
        }
      ]
    },
    {
      "cell_type": "code",
      "source": [
        "if args.distributed:\n",
        "    world_size = len(args.hosts)\n",
        "    os.environ['WORLD_SIZE'] = str(world_size)\n",
        "    host_rank = args.hosts.index(args.current_host)\n",
        "    dist.init_process_group(backend=args.backend, rank=host_rank)"
      ],
      "metadata": {
        "id": "66BVK-bBbxc6"
      },
      "execution_count": null,
      "outputs": []
    },
    {
      "cell_type": "code",
      "source": [
        "pt_estimator = PyTorch(\n",
        "    entry_point=\"train_ptddp.py\",\n",
        "    role=\"SageMakerRole\",\n",
        "    framework_version=\"1.12.0\",\n",
        "    py_version=\"py38\",\n",
        "    instance_count=2,\n",
        "    instance_type=\"ml.p4d.24xlarge\",\n",
        "    distribution={\n",
        "        \"pytorchddp\": {\n",
        "            \"enabled\": True}})\n",
        "pt_estimator"
      ],
      "metadata": {
        "id": "KdFKTTdJbyTW"
      },
      "execution_count": null,
      "outputs": []
    },
    {
      "cell_type": "code",
      "source": [
        "pt_estimator = PyTorch(\n",
        "    entry_point=\"train_ptddp.py\",\n",
        "    role=\"SageMakerRole\",\n",
        "    framework_version=\"1.13.1\",\n",
        "    py_version=\"py38\",\n",
        "    instance_count=2,\n",
        "    instance_type=\"ml.p4d.24xlarge\",\n",
        "    distribution={\n",
        "        \"torch_distributed\": {\n",
        "        \"enabled\": True}})\n",
        "pt_estimator"
      ],
      "metadata": {
        "id": "YFUD-PRzfhyy"
      },
      "execution_count": null,
      "outputs": []
    },
    {
      "cell_type": "code",
      "source": [
        "dist.init_process_group('xla')"
      ],
      "metadata": {
        "id": "KFhxeprffiH-"
      },
      "execution_count": null,
      "outputs": []
    },
    {
      "cell_type": "code",
      "source": [
        "pt_estimator = PyTorch(\n",
        "    entry_point=\"train_torch_distributed.py\",\n",
        "    role=\"SageMakerRole\",\n",
        "    framework_version=\"1.11.0\",\n",
        "    py_version=\"py38\",\n",
        "    instance_count=1,\n",
        "    instance_type=\"ml.trn1.2xlarge\",\n",
        "    distribution={\n",
        "        \"torch_distributed\": {\n",
        "            \"enabled\": True}})\n",
        "pt_estimator"
      ],
      "metadata": {
        "id": "Dwu_FiFIfiR1"
      },
      "execution_count": null,
      "outputs": []
    },
    {
      "cell_type": "code",
      "source": [
        "pt_estimator.fit(\"s3://bucket/path/to/training/data\")"
      ],
      "metadata": {
        "id": "Uo8GN80hhauH"
      },
      "execution_count": null,
      "outputs": []
    },
    {
      "cell_type": "code",
      "source": [
        "pt_estimator = PyTorch(\n",
        "    entry_point=\"train_torch_distributed.py\",\n",
        "    role=\"SageMakerRole\",\n",
        "    framework_version=\"1.11.0\",\n",
        "    py_version=\"py38\",\n",
        "    instance_count=2,\n",
        "    instance_type=\"ml.trn1.32xlarge\",\n",
        "    distribution={\n",
        "        \"torch_distributed\": {\n",
        "            \"enabled\": True}})\n",
        "pt_estimator"
      ],
      "metadata": {
        "id": "CIl8PIk_fibh"
      },
      "execution_count": null,
      "outputs": []
    },
    {
      "cell_type": "code",
      "source": [
        "pt_estimator.fit(\"s3://bucket/path/to/training/data\")"
      ],
      "metadata": {
        "id": "5A3tFB_Ehj4o"
      },
      "execution_count": null,
      "outputs": []
    },
    {
      "cell_type": "code",
      "source": [
        "pytorch_estimator = PyTorch(entry_point='train_and_deploy.py',\n",
        "                            instance_type='ml.p3.2xlarge',\n",
        "                            instance_count=1,\n",
        "                            framework_version='1.8.0',\n",
        "                            py_version='py3')\n",
        "pytorch_estimator"
      ],
      "metadata": {
        "id": "VHFWV0bBfiuo"
      },
      "execution_count": null,
      "outputs": []
    },
    {
      "cell_type": "code",
      "source": [
        "pytorch_estimator.fit('s3://my_bucket/my_training_data/')"
      ],
      "metadata": {
        "id": "qwlXtyxMhu-3"
      },
      "execution_count": null,
      "outputs": []
    },
    {
      "cell_type": "code",
      "source": [
        "predictor = pytorch_estimator.deploy(instance_type='ml.m4.xlarge',initial_instance_count=1)\n",
        "predictor"
      ],
      "metadata": {
        "id": "pYR6DMWZ-Os2"
      },
      "execution_count": null,
      "outputs": []
    },
    {
      "cell_type": "code",
      "source": [
        "response = predictor.predict(data)\n",
        "response"
      ],
      "metadata": {
        "id": "qu3GPhjd-QuW"
      },
      "execution_count": null,
      "outputs": []
    },
    {
      "cell_type": "code",
      "source": [
        "predictor = pytorch_estimator.deploy(instance_type='ml.m4.xlarge',\n",
        "                                     initial_instance_count=1,\n",
        "                                     accelerator_type='ml.eia2.medium')\n",
        "predictor"
      ],
      "metadata": {
        "id": "i3ZX0gG-fi4Q"
      },
      "execution_count": null,
      "outputs": []
    },
    {
      "cell_type": "code",
      "source": [
        "def model_fn(model_dir, context)"
      ],
      "metadata": {
        "id": "-WDswjOt-VF_"
      },
      "execution_count": null,
      "outputs": []
    },
    {
      "cell_type": "code",
      "source": [
        "def model_fn(model_dir, context):\n",
        "    model = Your_Model()\n",
        "    with open(os.path.join(model_dir, 'model.pth'), 'rb') as f:\n",
        "        model.load_state_dict(torch.load(f))\n",
        "    return model"
      ],
      "metadata": {
        "id": "6Ko8HtfofxjY"
      },
      "execution_count": null,
      "outputs": []
    },
    {
      "cell_type": "code",
      "source": [
        "def model_fn(model_dir):\n",
        "    model = torch.jit.load('model.pth', map_location=torch.device('cpu'))\n",
        "    if torch.__version__ == '1.5.1':\n",
        "        import torcheia\n",
        "        model = model.eval()\n",
        "        model = torcheia.jit.attach_eia(model, 0)\n",
        "    return model"
      ],
      "metadata": {
        "id": "qIHSxAJ9fxzo"
      },
      "execution_count": null,
      "outputs": []
    },
    {
      "cell_type": "code",
      "source": [
        "input_object = input_fn(request_body, request_content_type, context)\n",
        "input_object"
      ],
      "metadata": {
        "id": "1Ypd5_AD-jIA"
      },
      "execution_count": null,
      "outputs": []
    },
    {
      "cell_type": "code",
      "source": [
        "prediction = predict_fn(input_object, model, context)\n",
        "prediction"
      ],
      "metadata": {
        "id": "FuvnUhBNiEfQ"
      },
      "execution_count": null,
      "outputs": []
    },
    {
      "cell_type": "code",
      "source": [
        "output = output_fn(prediction, response_content_type, context)\n",
        "output"
      ],
      "metadata": {
        "id": "2tc5HsHjiEiB"
      },
      "execution_count": null,
      "outputs": []
    },
    {
      "cell_type": "code",
      "source": [
        "def input_fn(request_body, request_content_type):\n",
        "    if request_content_type == 'application/python-pickle':\n",
        "        return torch.load(BytesIO(request_body))\n",
        "    else:\n",
        "        pass"
      ],
      "metadata": {
        "id": "f0H5IF4PfyWQ"
      },
      "execution_count": null,
      "outputs": []
    },
    {
      "cell_type": "code",
      "source": [
        "def predict_fn(input_object, model, context)"
      ],
      "metadata": {
        "id": "Ue41sWIhfyjZ"
      },
      "execution_count": null,
      "outputs": []
    },
    {
      "cell_type": "code",
      "source": [
        "def predict_fn(input_data, model):\n",
        "    device = torch.device('cuda' if torch.cuda.is_available() else 'cpu')\n",
        "    model.to(device)\n",
        "    model.eval()\n",
        "    with torch.no_grad():\n",
        "        return model(input_data.to(device))"
      ],
      "metadata": {
        "id": "urcRCEAPfyvw"
      },
      "execution_count": null,
      "outputs": []
    },
    {
      "cell_type": "code",
      "source": [
        "def predict_fn(input_data, model, context):\n",
        "    device = torch.device(\"cuda:\" + str(context.system_properties.get(\"gpu_id\")) if torch.cuda.is_available() else \"cpu\")\n",
        "    model.to(device)\n",
        "    model.eval()\n",
        "    with torch.no_grad():\n",
        "        return model(input_data.to(device))"
      ],
      "metadata": {
        "id": "eKwS9g1Kf-KI"
      },
      "execution_count": null,
      "outputs": []
    },
    {
      "cell_type": "code",
      "source": [
        "def predict_fn(input_data, model):\n",
        "    device = torch.device(\"cpu\")\n",
        "    model = model.to(device)\n",
        "    input_data = data.to(device)\n",
        "    model.eval()\n",
        "    with torch.jit.optimized_execution(True, {\"target_device\": \"eia:0\"}):\n",
        "        output = model(input_data)"
      ],
      "metadata": {
        "id": "96HgTihif-VR"
      },
      "execution_count": null,
      "outputs": []
    },
    {
      "cell_type": "code",
      "source": [
        "def predict_fn(input_data, model):\n",
        "    device = torch.device(\"cpu\")\n",
        "    input_data = data.to(device)\n",
        "    torch._C._jit_set_profiling_executor(False)\n",
        "    with torch.jit.optimized_execution(True):\n",
        "        output = model.forward(input_data)"
      ],
      "metadata": {
        "id": "VrTfIjhrf-g0"
      },
      "execution_count": null,
      "outputs": []
    },
    {
      "cell_type": "code",
      "source": [
        "role = get_execution_role()\n",
        "role"
      ],
      "metadata": {
        "id": "CCNV58zmf-2b"
      },
      "execution_count": null,
      "outputs": []
    },
    {
      "cell_type": "code",
      "source": [
        "def output_fn(prediction, content_type, context):"
      ],
      "metadata": {
        "id": "4FpIvh5N-pUQ"
      },
      "execution_count": null,
      "outputs": []
    },
    {
      "cell_type": "code",
      "source": [
        "pytorch_model = PyTorchModel(model_data='s3://my-bucket/my-path/model.tar.gz', role=role,entry_point='inference.py')\n",
        "pytorch_model"
      ],
      "metadata": {
        "id": "UKMUnsGxi_Cx"
      },
      "execution_count": null,
      "outputs": []
    },
    {
      "cell_type": "code",
      "source": [
        "predictor = pytorch_model.deploy(instance_type='ml.c4.xlarge', initial_instance_count=1)\n",
        "predictor"
      ],
      "metadata": {
        "id": "DA3_Prhli_Fi"
      },
      "execution_count": null,
      "outputs": []
    },
    {
      "cell_type": "code",
      "source": [
        "my_training_job_name = 'MyAwesomePyTorchTrainingJob'\n",
        "my_training_job_name"
      ],
      "metadata": {
        "id": "fQgBK37pf_BC"
      },
      "execution_count": null,
      "outputs": []
    },
    {
      "cell_type": "code",
      "source": [
        "pytorch_estimator = PyTorch.attach(my_training_job_name)\n",
        "pytorch_estimator"
      ],
      "metadata": {
        "id": "qeSK_guujGNT"
      },
      "execution_count": null,
      "outputs": []
    },
    {
      "cell_type": "markdown",
      "source": [
        "## Tensorflow\n",
        "\n",
        "#### Deploying to TensorFlow Serving Endpoints"
      ],
      "metadata": {
        "id": "so_m2Sn14P65"
      }
    },
    {
      "cell_type": "code",
      "source": [
        "estimator = TensorFlow(\n",
        "    entry_point=\"tf-train.py\",\n",
        "    instance_count=1,\n",
        "    instance_type=\"ml.c4.xlarge\",\n",
        "    framework_version=\"2.2\",\n",
        "    py_version=\"py37\")\n",
        "estimator"
      ],
      "metadata": {
        "id": "W_RU9u3-4QAQ"
      },
      "execution_count": null,
      "outputs": []
    },
    {
      "cell_type": "code",
      "source": [
        "estimator.fit(inputs)"
      ],
      "metadata": {
        "id": "zkH-vZOIjxwd"
      },
      "execution_count": null,
      "outputs": []
    },
    {
      "cell_type": "code",
      "source": [
        "predictor = estimator.deploy(initial_instance_count=1, instance_type=\"ml.c5.xlarge\")\n",
        "predictor"
      ],
      "metadata": {
        "id": "oa0-OUTajxy0"
      },
      "execution_count": null,
      "outputs": []
    },
    {
      "cell_type": "code",
      "source": [
        "model = TensorFlowModel(model_data='s3://mybucket/model.tar.gz', role='MySageMakerRole')\n",
        "model"
      ],
      "metadata": {
        "id": "ZPQj38xEcaEg"
      },
      "execution_count": null,
      "outputs": []
    },
    {
      "cell_type": "code",
      "source": [
        "predictor = model.deploy(initial_instance_count=1, instance_type='ml.c5.xlarge')\n",
        "predictor"
      ],
      "metadata": {
        "id": "3yjeIisPkFWl"
      },
      "execution_count": null,
      "outputs": []
    },
    {
      "cell_type": "code",
      "source": [
        "model = TensorFlowModel(model_data='s3://mybucket/model.tar.gz', role='MySageMakerRole')\n",
        "model"
      ],
      "metadata": {
        "id": "ZNWBrA86cagX"
      },
      "execution_count": null,
      "outputs": []
    },
    {
      "cell_type": "code",
      "source": [
        "predictor = model.deploy(initial_instance_count=1, instance_type='ml.c5.xlarge', accelerator_type='ml.eia1.medium')\n",
        "predictor"
      ],
      "metadata": {
        "id": "6TNt79UikF9i"
      },
      "execution_count": null,
      "outputs": []
    },
    {
      "cell_type": "code",
      "source": [
        "input = {'instances': [1.0, 2.0, 5.0]}\n",
        "input"
      ],
      "metadata": {
        "id": "mKOjptWWcaqq"
      },
      "execution_count": null,
      "outputs": []
    },
    {
      "cell_type": "code",
      "source": [
        "result = predictor.predict(input)\n",
        "result"
      ],
      "metadata": {
        "id": "tMrFxZpAkVz0"
      },
      "execution_count": null,
      "outputs": []
    },
    {
      "cell_type": "code",
      "source": [
        "{'predictions': [3.5, 4.0, 5.5]}"
      ],
      "metadata": {
        "id": "99xi7gTfca1A"
      },
      "execution_count": null,
      "outputs": []
    },
    {
      "cell_type": "code",
      "source": [
        "input = {'signature_name': 'tensorflow/serving/regress',\n",
        "         'examples': [{'x': 1.0}, {'x': 2.0}]}\n",
        "input"
      ],
      "metadata": {
        "id": "rUb-mvz-ca-w"
      },
      "execution_count": null,
      "outputs": []
    },
    {
      "cell_type": "code",
      "source": [
        "result = predictor.regress(input)\n",
        "result"
      ],
      "metadata": {
        "id": "JkV3ot2Rke3d"
      },
      "execution_count": null,
      "outputs": []
    },
    {
      "cell_type": "code",
      "source": [
        "{'results': [3.5, 4.0]}"
      ],
      "metadata": {
        "id": "XsxcqXvMke6b"
      },
      "execution_count": null,
      "outputs": []
    },
    {
      "cell_type": "code",
      "source": [
        "input = {'instances': [\n",
        "    [1.0, 2.0, 5.0],\n",
        "    [1.0, 2.0, 5.0],\n",
        "    [1.0, 2.0, 5.0]]}\n",
        "input"
      ],
      "metadata": {
        "id": "SiIeL6UCcbP_"
      },
      "execution_count": null,
      "outputs": []
    },
    {
      "cell_type": "code",
      "source": [
        "result = predictor.predict(input)\n",
        "result"
      ],
      "metadata": {
        "id": "5oDG3k63kwTV"
      },
      "execution_count": null,
      "outputs": []
    },
    {
      "cell_type": "code",
      "source": [
        "{'predictions': [\n",
        "  [3.5, 4.0, 5.5],\n",
        "  [3.5, 4.0, 5.5],\n",
        "  [3.5, 4.0, 5.5]]}"
      ],
      "metadata": {
        "id": "2Vwfs6HLkwWj"
      },
      "execution_count": null,
      "outputs": []
    },
    {
      "cell_type": "code",
      "source": [
        "input = [[1.0, 2.0, 5.0],\n",
        "        [1.0, 2.0, 5.0]]\n",
        "input"
      ],
      "metadata": {
        "id": "DZg-QzYfcbY5"
      },
      "execution_count": null,
      "outputs": []
    },
    {
      "cell_type": "code",
      "source": [
        "result = predictor.predict(input)\n",
        "result"
      ],
      "metadata": {
        "id": "GozjIhVbleLU"
      },
      "execution_count": null,
      "outputs": []
    },
    {
      "cell_type": "code",
      "source": [
        "{'predictions': [\n",
        "  [3.5, 4.0, 5.5],\n",
        "  [3.5, 4.0, 5.5]]}"
      ],
      "metadata": {
        "id": "yh_dhg_KleOZ"
      },
      "execution_count": null,
      "outputs": []
    },
    {
      "cell_type": "code",
      "source": [
        "input = {'x': [1.0, 2.0, 5.0]}\n",
        "input"
      ],
      "metadata": {
        "id": "_7RqsMezcbiQ"
      },
      "execution_count": null,
      "outputs": []
    },
    {
      "cell_type": "code",
      "source": [
        "{'predictions': [[3.5, 4.0, 5.5]]}"
      ],
      "metadata": {
        "id": "MCaeB9TilqU0"
      },
      "execution_count": null,
      "outputs": []
    },
    {
      "cell_type": "code",
      "source": [
        "predictor = Predictor('endpoint-name', serializer=None, content_type='application/jsonlines')\n",
        "predictor"
      ],
      "metadata": {
        "id": "wyeY_YBucbz3"
      },
      "execution_count": null,
      "outputs": []
    },
    {
      "cell_type": "code",
      "source": [
        "input = '''{'x': [1.0, 2.0, 5.0]}\n",
        "{'x': [1.0, 2.0, 5.0]}\n",
        "{'x': [1.0, 2.0, 5.0]}'''\n",
        "input"
      ],
      "metadata": {
        "id": "Tub5Kizvlt40"
      },
      "execution_count": null,
      "outputs": []
    },
    {
      "cell_type": "code",
      "source": [
        "result = predictor.predict(input)\n",
        "result"
      ],
      "metadata": {
        "id": "iQctNr9rlt7V"
      },
      "execution_count": null,
      "outputs": []
    },
    {
      "cell_type": "code",
      "source": [
        "{'predictions': [\n",
        "  [3.5, 4.0, 5.5],\n",
        "  [3.5, 4.0, 5.5],\n",
        "  [3.5, 4.0, 5.5]]}"
      ],
      "metadata": {
        "id": "TBA0l754lsNM"
      },
      "execution_count": null,
      "outputs": []
    },
    {
      "cell_type": "code",
      "source": [
        "predictor = Predictor('endpoint-name', serializer=sagemaker.serializers.CSVSerializer())\n",
        "predictor"
      ],
      "metadata": {
        "id": "y1bUiYIucb95"
      },
      "execution_count": null,
      "outputs": []
    },
    {
      "cell_type": "code",
      "source": [
        "input = '1.0,2.0,5.0\\n1.0,2.0,5.0\\n1.0,2.0,5.0'\n",
        "input"
      ],
      "metadata": {
        "id": "wANe1NSjpLBH"
      },
      "execution_count": null,
      "outputs": []
    },
    {
      "cell_type": "code",
      "source": [
        "result = predictor.predict(input)\n",
        "result"
      ],
      "metadata": {
        "id": "P7-FEf7ZpLDt"
      },
      "execution_count": null,
      "outputs": []
    },
    {
      "cell_type": "code",
      "source": [
        "{'predictions': [\n",
        "  [3.5, 4.0, 5.5],\n",
        "  [3.5, 4.0, 5.5],\n",
        "  [3.5, 4.0, 5.5]]}"
      ],
      "metadata": {
        "id": "ydXgTdVgpNo_"
      },
      "execution_count": null,
      "outputs": []
    },
    {
      "cell_type": "code",
      "source": [
        "model = Model(entry_point='inference.py',\n",
        "              model_data='s3://mybucket/model.tar.gz',\n",
        "              role='MySageMakerRole')\n",
        "model"
      ],
      "metadata": {
        "id": "_3Ckos1jccGh"
      },
      "execution_count": null,
      "outputs": []
    },
    {
      "cell_type": "code",
      "source": [
        "def input_handler(data, context):\n",
        "\n",
        "    if context.request_content_type == 'application/json':\n",
        "        d = data.read().decode('utf-8')\n",
        "        return d if len(d) else ''\n",
        "\n",
        "    if context.request_content_type == 'text/csv':\n",
        "        return json.dumps({\n",
        "            'instances': [float(x) for x in data.read().decode('utf-8').split(',')]})\n",
        "\n",
        "    raise ValueError('{{\"error\": \"unsupported content type {}\"}}'.format(\n",
        "        context.request_content_type or \"unknown\"))"
      ],
      "metadata": {
        "id": "-dm_OWnEcgIH"
      },
      "execution_count": null,
      "outputs": []
    },
    {
      "cell_type": "code",
      "source": [
        "def output_handler(data, context):\n",
        "    if data.status_code != 200:\n",
        "        raise ValueError(data.content.decode('utf-8'))\n",
        "    response_content_type = context.accept_header\n",
        "    prediction = data.content\n",
        "    return prediction, response_content_type"
      ],
      "metadata": {
        "id": "GUEhmhjo-vO4"
      },
      "execution_count": null,
      "outputs": []
    },
    {
      "cell_type": "code",
      "source": [
        "def handler(data, context):\n",
        "    processed_input = _process_input(data, context)\n",
        "    response = requests.post(context.rest_uri, data=processed_input)\n",
        "    return _process_output(response, context)"
      ],
      "metadata": {
        "id": "7NEhB1TC-wgI"
      },
      "execution_count": null,
      "outputs": []
    },
    {
      "cell_type": "code",
      "source": [
        "def _process_input(data, context):\n",
        "    if context.request_content_type == 'application/json':\n",
        "\n",
        "        d = data.read().decode('utf-8')\n",
        "        return d if len(d) else ''\n",
        "\n",
        "    if context.request_content_type == 'text/csv':\n",
        "\n",
        "        return json.dumps({\n",
        "            'instances': [float(x) for x in data.read().decode('utf-8').split(',')]})\n",
        "\n",
        "    raise ValueError('{{\"error\": \"unsupported content type {}\"}}'.format(\n",
        "        context.request_content_type or \"unknown\"))"
      ],
      "metadata": {
        "id": "ISYTqHNT-wjh"
      },
      "execution_count": null,
      "outputs": []
    },
    {
      "cell_type": "code",
      "source": [
        "def _process_output(data, context):\n",
        "    if data.status_code != 200:\n",
        "        raise ValueError(data.content.decode('utf-8'))\n",
        "\n",
        "    response_content_type = context.accept_header\n",
        "    prediction = data.content\n",
        "    return prediction, response_content_type"
      ],
      "metadata": {
        "id": "tUnUX48M-wrn"
      },
      "execution_count": null,
      "outputs": []
    },
    {
      "cell_type": "code",
      "source": [
        "model = Model(entry_point='inference.py',\n",
        "              source_dir='source/directory',\n",
        "              model_data='s3://mybucket/model.tar.gz',\n",
        "              role='MySageMakerRole')\n",
        "model"
      ],
      "metadata": {
        "id": "FS37IjOedcXZ"
      },
      "execution_count": null,
      "outputs": []
    },
    {
      "cell_type": "code",
      "source": [
        "model = Model(entry_point='inference.py',\n",
        "              dependencies=['/path/to/folder/named/lib'],\n",
        "              model_data='s3://mybucket/model.tar.gz',\n",
        "              role='MySageMakerRole')\n",
        "model"
      ],
      "metadata": {
        "id": "k-w_fa4Rdchd"
      },
      "execution_count": null,
      "outputs": []
    },
    {
      "cell_type": "code",
      "source": [
        "aws s3 cp s3://mybucket/models/model1/model.tar.gz model1.tar.gz"
      ],
      "metadata": {
        "id": "hThwX1ROdcrk"
      },
      "execution_count": null,
      "outputs": []
    },
    {
      "cell_type": "code",
      "source": [
        "aws s3 cp s3://mybucket/models/model2/model.tar.gz model2.tar.gz"
      ],
      "metadata": {
        "id": "9gGTlLBJp6cf"
      },
      "execution_count": null,
      "outputs": []
    },
    {
      "cell_type": "code",
      "source": [
        "mkdir -p multi/model1"
      ],
      "metadata": {
        "id": "yZwxVSLWp6hw"
      },
      "execution_count": null,
      "outputs": []
    },
    {
      "cell_type": "code",
      "source": [
        "mkdir -p multi/model2"
      ],
      "metadata": {
        "id": "QvkXKC__p6kx"
      },
      "execution_count": null,
      "outputs": []
    },
    {
      "cell_type": "code",
      "source": [
        "tar xvf model1.tar.gz -C ./multi/model1"
      ],
      "metadata": {
        "id": "0k-6B72Wp6np"
      },
      "execution_count": null,
      "outputs": []
    },
    {
      "cell_type": "code",
      "source": [
        "tar xvf model2.tar.gz -C ./multi/model2"
      ],
      "metadata": {
        "id": "FPOE8MNup6p4"
      },
      "execution_count": null,
      "outputs": []
    },
    {
      "cell_type": "code",
      "source": [
        "mv multi/model1/export/Servo/* multi/model1/"
      ],
      "metadata": {
        "id": "WduSktHWdc1C"
      },
      "execution_count": null,
      "outputs": []
    },
    {
      "cell_type": "code",
      "source": [
        "mv multi/model2/export/Servo/* multi/model2/"
      ],
      "metadata": {
        "id": "ZqYsUFMrqEHZ"
      },
      "execution_count": null,
      "outputs": []
    },
    {
      "cell_type": "code",
      "source": [
        "rm -fr multi/model1/export"
      ],
      "metadata": {
        "id": "gS9vT2E1qEKO"
      },
      "execution_count": null,
      "outputs": []
    },
    {
      "cell_type": "code",
      "source": [
        "rm -fr multi/model2/export"
      ],
      "metadata": {
        "id": "QRsQ38BRqEM_"
      },
      "execution_count": null,
      "outputs": []
    },
    {
      "cell_type": "code",
      "source": [
        "tar -C \"$PWD/multi/\" -czvf multi.tar.gz multi/"
      ],
      "metadata": {
        "id": "rme5hMgWdc_L"
      },
      "execution_count": null,
      "outputs": []
    },
    {
      "cell_type": "code",
      "source": [
        "aws s3 cp multi.tar.gz s3://mybucket/models/multi.tar.gz"
      ],
      "metadata": {
        "id": "Lf5P7QJdddIq"
      },
      "execution_count": null,
      "outputs": []
    },
    {
      "cell_type": "code",
      "source": [
        "role = 'SageMakerRole'\n",
        "role"
      ],
      "metadata": {
        "id": "Odfaq43RddSD"
      },
      "execution_count": null,
      "outputs": []
    },
    {
      "cell_type": "code",
      "source": [
        "model_data = 's3://mybucket/models/multi.tar.gz'\n",
        "model_data"
      ],
      "metadata": {
        "id": "1mcO_wLeqU7u"
      },
      "execution_count": null,
      "outputs": []
    },
    {
      "cell_type": "code",
      "source": [
        "env = {'SAGEMAKER_TFS_DEFAULT_MODEL_NAME': 'model1'}\n",
        "env"
      ],
      "metadata": {
        "id": "bshQInLzqU_G"
      },
      "execution_count": null,
      "outputs": []
    },
    {
      "cell_type": "code",
      "source": [
        "model = Model(model_data=model_data, role=role, framework_version='1.11', env=env)\n",
        "model"
      ],
      "metadata": {
        "id": "vk9LxsZ7qVB-"
      },
      "execution_count": null,
      "outputs": []
    },
    {
      "cell_type": "code",
      "source": [
        "predictor = model.deploy(initial_instance_count=1, instance_type='ml.c5.xlarge')\n",
        "predictor"
      ],
      "metadata": {
        "id": "2yn35CstqVEh"
      },
      "execution_count": null,
      "outputs": []
    },
    {
      "cell_type": "code",
      "source": [
        "endpoint = predictor.endpoint_name\n",
        "endpoint"
      ],
      "metadata": {
        "id": "nInNiFBoddby"
      },
      "execution_count": null,
      "outputs": []
    },
    {
      "cell_type": "code",
      "source": [
        "model2_predictor = Predictor(endpoint, model_name='model2')\n",
        "model2_predictor"
      ],
      "metadata": {
        "id": "8gXxDgp_qmhf"
      },
      "execution_count": null,
      "outputs": []
    },
    {
      "cell_type": "code",
      "source": [
        "result = model2_predictor.predict()\n",
        "result"
      ],
      "metadata": {
        "id": "GG7FvT7Wqmkw"
      },
      "execution_count": null,
      "outputs": []
    },
    {
      "cell_type": "code",
      "source": [
        "aws sagemaker-runtime invoke-endpoint \\\n",
        "    --endpoint-name my-endpoint \\\n",
        "    --content-type 'application/json' \\\n",
        "    --body '{\"instances\": [1.0, 2.0, 5.0]}' \\\n",
        "    >(cat) 1>/dev/null"
      ],
      "metadata": {
        "id": "2CB2lBdIddlC"
      },
      "execution_count": null,
      "outputs": []
    },
    {
      "cell_type": "code",
      "source": [
        "# Predict request for specific model name\n",
        "aws sagemaker-runtime invoke-endpoint \\\n",
        "    --endpoint-name my-endpoint \\\n",
        "    --content-type 'application/json' \\\n",
        "    --body '{\"instances\": [1.0, 2.0, 5.0]}' \\\n",
        "    --custom-attributes 'tfs-model-name=other_model' \\\n",
        "    >(cat) 1>/dev/null"
      ],
      "metadata": {
        "id": "iUWj4LH--4hI"
      },
      "execution_count": null,
      "outputs": []
    },
    {
      "cell_type": "code",
      "source": [
        "# TensorFlow Serving REST API - regress request\n",
        "aws sagemaker-runtime invoke-endpoint \\\n",
        "    --endpoint-name my-endpoint \\\n",
        "    --content-type 'application/json' \\\n",
        "    --body '{\"signature_name\": \"tensorflow/serving/regress\",\"examples\": [{\"x\": 1.0}]}' \\\n",
        "    --custom-attributes 'tfs-method=regress' \\\n",
        "    >(cat) 1>/dev/null"
      ],
      "metadata": {
        "id": "5YB3ME_4-4kQ"
      },
      "execution_count": null,
      "outputs": []
    },
    {
      "cell_type": "code",
      "source": [
        "# Simple json request (2 instances)\n",
        "aws sagemaker-runtime invoke-endpoint \\\n",
        "    --endpoint-name my-endpoint \\\n",
        "    --content-type 'application/json' \\\n",
        "    --body '[[1.0, 2.0, 5.0],[2.0, 3.0, 4.0]]' \\\n",
        "    >(cat) 1>/dev/null"
      ],
      "metadata": {
        "id": "rMRrYamG-4nR"
      },
      "execution_count": null,
      "outputs": []
    },
    {
      "cell_type": "code",
      "source": [
        "# CSV request (2 rows)\n",
        "aws sagemaker-runtime invoke-endpoint \\\n",
        "    --endpoint-name my-endpoint \\\n",
        "    --content-type 'text/csv' \\\n",
        "    --body \"1.0,2.0,5.0\"$'\\n'\"2.0,3.0,4.0\" \\\n",
        "    >(cat) 1>/dev/null"
      ],
      "metadata": {
        "id": "FdGHdd7j-4qJ"
      },
      "execution_count": null,
      "outputs": []
    },
    {
      "cell_type": "code",
      "source": [
        "# Line delimited JSON from an input file\n",
        "aws sagemaker-runtime invoke-endpoint \\\n",
        "    --endpoint-name my-endpoint \\\n",
        "    --content-type 'application/jsons' \\\n",
        "    --body \"$(cat input.jsons)\" \\\n",
        "    results.json"
      ],
      "metadata": {
        "id": "DVafYB9f_BzS"
      },
      "execution_count": null,
      "outputs": []
    },
    {
      "cell_type": "markdown",
      "source": [
        "## Image Classification"
      ],
      "metadata": {
        "id": "ktbkIiilddp7"
      }
    },
    {
      "cell_type": "code",
      "source": [
        "!pip3 install sagemaker ipywidgets --upgrade --quiet\n",
        "import sagemaker, boto3, json\n",
        "from sagemaker import get_execution_role\n",
        "import IPython\n",
        "import ipywidgets as widgets\n",
        "from sagemaker import image_uris, model_uris, script_uris\n",
        "from sagemaker.model import Model\n",
        "from sagemaker.predictor import Predictor\n",
        "from sagemaker.utils import name_from_base\n",
        "from IPython.core.display import HTML\n",
        "from sagemaker import image_uris, model_uris, script_uris, hyperparameters\n",
        "from sagemaker import hyperparameters\n",
        "from sagemaker.tuner import ContinuousParameter\n",
        "from sagemaker.estimator import Estimator\n",
        "from sagemaker.utils import name_from_base\n",
        "from sagemaker.tuner import HyperparameterTuner\n",
        "from IPython.core.display import HTML"
      ],
      "metadata": {
        "id": "KR3p9qjPddum"
      },
      "execution_count": null,
      "outputs": []
    },
    {
      "cell_type": "code",
      "source": [
        "aws_role = get_execution_role()\n",
        "aws_region = boto3.Session().region_name\n",
        "sess = sagemaker.Session()"
      ],
      "metadata": {
        "id": "W_mYd4XVZUVX"
      },
      "execution_count": null,
      "outputs": []
    },
    {
      "cell_type": "markdown",
      "source": [],
      "metadata": {
        "id": "QTC46QaIZ5bO"
      }
    },
    {
      "cell_type": "code",
      "source": [
        "(model_id,\n",
        "    model_version) =\n",
        "     (\n",
        "    \"pytorch-ic-mobilenet-v2\",\n",
        "    \"*\")"
      ],
      "metadata": {
        "id": "q5XTswKlZUYW"
      },
      "execution_count": null,
      "outputs": []
    },
    {
      "cell_type": "markdown",
      "source": [],
      "metadata": {
        "id": "ryjnKn94Z5E-"
      }
    },
    {
      "cell_type": "code",
      "source": [
        "boto3.client(\"s3\").download_file(\n",
        "    f\"jumpstart-cache-prod-{aws_region}\", \"models_manifest.json\", \"models_manifest.json\"\n",
        ")\n",
        "with open(\"models_manifest.json\", \"rb\") as json_file:\n",
        "    model_list = json.load(json_file)\n",
        "\n",
        "\n",
        "ic_models_all_versions, ic_models = [\n",
        "    model[\"model_id\"] for model in model_list if \"-ic-\" in model[\"model_id\"]\n",
        "], []\n",
        "[ic_models.append(model) for model in ic_models_all_versions if model not in ic_models]\n",
        "\n",
        "\n",
        "dropdown = widgets.Dropdown(\n",
        "    options=ic_models,\n",
        "    value=model_id,\n",
        "    description=\"JumpStart Image Classification Models:\",\n",
        "    style={\"description_width\": \"initial\"},\n",
        "    layout={\"width\": \"max-content\"},\n",
        ")\n",
        "display(IPython.display.Markdown(\"## Select a JumpStart pre-trained model from the dropdown below\"))\n",
        "display(dropdown)"
      ],
      "metadata": {
        "id": "Rwd6CYSdZUbP"
      },
      "execution_count": null,
      "outputs": []
    },
    {
      "cell_type": "markdown",
      "source": [],
      "metadata": {
        "id": "-nV-WN_PZ-32"
      }
    },
    {
      "cell_type": "code",
      "source": [
        "\n",
        "infer_model_id, infer_model_version = dropdown.value, \"*\"\n",
        "\n",
        "endpoint_name = name_from_base(f\"jumpstart-example-{infer_model_id}\")\n",
        "\n",
        "inference_instance_type = \"ml.m5.xlarge\"\n",
        "\n",
        "\n",
        "deploy_image_uri = image_uris.retrieve(\n",
        "    region=None,\n",
        "    framework=None,\n",
        "    image_scope=\"inference\",\n",
        "    model_id=infer_model_id,\n",
        "    model_version=infer_model_version,\n",
        "    instance_type=inference_instance_type,\n",
        ")\n",
        "\n",
        "deploy_source_uri = script_uris.retrieve(\n",
        "    model_id=infer_model_id, model_version=infer_model_version, script_scope=\"inference\"\n",
        ")\n",
        "\n",
        "base_model_uri = model_uris.retrieve(\n",
        "    model_id=infer_model_id, model_version=infer_model_version, model_scope=\"inference\"\n",
        ")\n",
        "\n",
        "    image_uri=deploy_image_uri,\n",
        "    source_dir=deploy_source_uri,\n",
        "    model_data=base_model_uri,\n",
        "    entry_point=\"inference.py\",\n",
        "    role=aws_role,\n",
        "    predictor_cls=Predictor,\n",
        "    name=endpoint_name)\n",
        "\n",
        "base_model_predictor = model.deploy(\n",
        "    initial_instance_count=1,\n",
        "    instance_type=inference_instance_type,\n",
        "    endpoint_name=endpoint_name,\n",
        ")"
      ],
      "metadata": {
        "id": "HL-45MmXZUeX"
      },
      "execution_count": null,
      "outputs": []
    },
    {
      "cell_type": "markdown",
      "source": [],
      "metadata": {
        "id": "Vrv2bufDaY5Z"
      }
    },
    {
      "cell_type": "code",
      "source": [
        "s3_bucket = f\"jumpstart-cache-prod-{aws_region}\"\n",
        "key_prefix = \"inference-notebook-assets\"\n",
        "\n",
        "\n",
        "def download_from_s3(images):\n",
        "    for filename, image_key in images.items():\n",
        "        boto3.client(\"s3\").download_file(s3_bucket, f\"{key_prefix}/{image_key}\", filename)\n",
        "\n",
        "\n",
        "images = {\"img1.jpg\": \"cat.jpg\", \"img2.jpg\": \"dog.jpg\"}\n",
        "download_from_s3(images)"
      ],
      "metadata": {
        "id": "UjDTXqEwZUhg"
      },
      "execution_count": null,
      "outputs": []
    },
    {
      "cell_type": "markdown",
      "source": [],
      "metadata": {
        "id": "x-gXvKVOab4R"
      }
    },
    {
      "cell_type": "code",
      "source": [
        "def predict_top_k_labels(probabilities, labels, k):\n",
        "    topk_prediction_ids = sorted(\n",
        "        range(len(probabilities)), key=lambda index: probabilities[index], reverse=True\n",
        "    )[:k]\n",
        "    topk_class_labels = \", \".join([labels[id] for id in topk_prediction_ids])\n",
        "    return topk_class_labels\n",
        "\n",
        "\n",
        "for image_filename in images.keys():\n",
        "    with open(image_filename, \"rb\") as file:\n",
        "        img = file.read()\n",
        "    query_response = base_model_predictor.predict(\n",
        "        img, {\"ContentType\": \"application/x-image\", \"Accept\": \"application/json;verbose\"}\n",
        "    )\n",
        "    model_predictions = json.loads(query_response)\n",
        "    labels, probabilities = model_predictions[\"labels\"], model_predictions[\"probabilities\"]\n",
        "    top5_class_labels = predict_top_k_labels(probabilities, labels, 5)\n",
        "    display(\n",
        "        HTML(\n",
        "            f'<img src={image_filename} alt={image_filename} align=\"left\" style=\"width: 250px;\"/>'\n",
        "            f\"<figcaption>Top-5 predictions: {top5_class_labels} </figcaption>\"\n",
        "        )\n",
        "    )"
      ],
      "metadata": {
        "id": "dkiXZse9ZUkm"
      },
      "execution_count": null,
      "outputs": []
    },
    {
      "cell_type": "markdown",
      "source": [],
      "metadata": {
        "id": "Ek6RbieOac8P"
      }
    },
    {
      "cell_type": "code",
      "source": [
        "# Delete the SageMaker endpoint and the attached resources\n",
        "base_model_predictor.delete_model()\n",
        "base_model_predictor.delete_endpoint()"
      ],
      "metadata": {
        "id": "BpI0goAlZUof"
      },
      "execution_count": null,
      "outputs": []
    },
    {
      "cell_type": "markdown",
      "source": [],
      "metadata": {
        "id": "0f3UT6L-adj3"
      }
    },
    {
      "cell_type": "code",
      "source": [
        "model_id, model_version = dropdown.value, \"*\"\n",
        "training_instance_type = \"ml.p3.2xlarge\"\n",
        "\n",
        "# Retrieve the docker image\n",
        "train_image_uri = image_uris.retrieve(\n",
        "    region=None,\n",
        "    framework=None,\n",
        "    model_id=model_id,\n",
        "    model_version=model_version,\n",
        "    image_scope=\"training\",\n",
        "    instance_type=training_instance_type,\n",
        ")\n",
        "# Retrieve the training script\n",
        "train_source_uri = script_uris.retrieve(\n",
        "    model_id=model_id, model_version=model_version, script_scope=\"training\"\n",
        ")\n",
        "# Retrieve the pre-trained model tarball to further fine-tune\n",
        "train_model_uri = model_uris.retrieve(\n",
        "    model_id=model_id, model_version=model_version, model_scope=\"training\"\n",
        ")"
      ],
      "metadata": {
        "id": "fubY1QKhaRpv"
      },
      "execution_count": null,
      "outputs": []
    },
    {
      "cell_type": "markdown",
      "source": [],
      "metadata": {
        "id": "m_5IgjvWalM_"
      }
    },
    {
      "cell_type": "code",
      "source": [
        "\n",
        "training_data_bucket = f\"jumpstart-cache-prod-{aws_region}\"\n",
        "training_data_prefix = \"training-datasets/tf_flowers/\"\n",
        "\n",
        "training_dataset_s3_path = f\"s3://{training_data_bucket}/{training_data_prefix}\"\n",
        "\n",
        "output_bucket = sess.default_bucket()\n",
        "output_prefix = \"jumpstart-example-ic-training\"\n",
        "\n",
        "s3_output_location = f\"s3://{output_bucket}/{output_prefix}/output\""
      ],
      "metadata": {
        "id": "pP6xYrIIaRs0"
      },
      "execution_count": null,
      "outputs": []
    },
    {
      "cell_type": "code",
      "source": [
        "hyperparameters = hyperparameters.retrieve_default(model_id=model_id, model_version=model_version)\n",
        "\n",
        "# [Optional] Override default hyperparameters with custom values\n",
        "hyperparameters[\"epochs\"] = \"5\"\n",
        "print(hyperparameters)"
      ],
      "metadata": {
        "id": "o6MoRWmMaRvg"
      },
      "execution_count": null,
      "outputs": []
    },
    {
      "cell_type": "code",
      "source": [
        "# Use AMT for tuning and selecting the best model\n",
        "use_amt = True\n",
        "\n",
        "# Define objective metric per framework, based on which the best model will be selected.\n",
        "metric_definitions_per_model = {\n",
        "    \"tensorflow\": {\n",
        "        \"metrics\": [{\"Name\": \"val_accuracy\", \"Regex\": \"val_accuracy: ([0-9\\\\.]+)\"}],\n",
        "        \"type\": \"Maximize\",\n",
        "    },\n",
        "    \"pytorch\": {\n",
        "        \"metrics\": [{\"Name\": \"val_accuracy\", \"Regex\": \"val Acc: ([0-9\\\\.]+)\"}],\n",
        "        \"type\": \"Maximize\",\n",
        "    },\n",
        "}\n",
        "\n",
        "# You can select from the hyperparameters supported by the model, and configure ranges of values to be searched for training the optimal model.(https://docs.aws.amazon.com/sagemaker/latest/dg/automatic-model-tuning-define-ranges.html)\n",
        "hyperparameter_ranges = {\n",
        "    \"adam-learning-rate\": ContinuousParameter(0.0001, 0.1, scaling_type=\"Logarithmic\")\n",
        "}\n",
        "\n",
        "# Increase the total number of training jobs run by AMT, for increased accuracy (and training time).\n",
        "max_jobs = 6\n",
        "# Change parallel training jobs run by AMT to reduce total training time, constrained by your account limits.\n",
        "# if max_jobs=max_parallel_jobs then Bayesian search turns to Random.\n",
        "max_parallel_jobs = 2"
      ],
      "metadata": {
        "id": "Dl5DtuBjaRyI"
      },
      "execution_count": null,
      "outputs": []
    },
    {
      "cell_type": "code",
      "source": [
        "training_job_name = name_from_base(f\"jumpstart-example-{model_id}-transfer-learning\")\n",
        "\n",
        "# Create SageMaker Estimator instance\n",
        "ic_estimator = Estimator(\n",
        "    role=aws_role,\n",
        "    image_uri=train_image_uri,\n",
        "    source_dir=train_source_uri,\n",
        "    model_uri=train_model_uri,\n",
        "    entry_point=\"transfer_learning.py\",\n",
        "    instance_count=1,\n",
        "    instance_type=training_instance_type,\n",
        "    max_run=360000,\n",
        "    hyperparameters=hyperparameters,\n",
        "    output_path=s3_output_location,\n",
        "    base_job_name=training_job_name,\n",
        ")\n",
        "\n",
        "if use_amt:\n",
        "    metric_definitions = next(\n",
        "        value for key, value in metric_definitions_per_model.items() if model_id.startswith(key)\n",
        "    )\n",
        "\n",
        "    hp_tuner = HyperparameterTuner(\n",
        "        ic_estimator,\n",
        "        metric_definitions[\"metrics\"][0][\"Name\"],\n",
        "        hyperparameter_ranges,\n",
        "        metric_definitions[\"metrics\"],\n",
        "        max_jobs=max_jobs,\n",
        "        max_parallel_jobs=max_parallel_jobs,\n",
        "        objective_type=metric_definitions[\"type\"],\n",
        "        base_tuning_job_name=training_job_name,\n",
        "    )\n",
        "\n",
        "    # Launch a SageMaker Tuning job to search for the best hyperparameters\n",
        "    hp_tuner.fit({\"training\": training_dataset_s3_path})\n",
        "else:\n",
        "    # Launch a SageMaker Training job by passing s3 path of the training data\n",
        "    ic_estimator.fit({\"training\": training_dataset_s3_path}, logs=True)"
      ],
      "metadata": {
        "id": "6hKoFNPkaR02"
      },
      "execution_count": null,
      "outputs": []
    },
    {
      "cell_type": "code",
      "source": [
        "inference_instance_type = \"ml.m5.xlarge\"\n",
        "\n",
        "# Retrieve the inference docker container uri\n",
        "deploy_image_uri = image_uris.retrieve(\n",
        "    region=None,\n",
        "    framework=None,\n",
        "    image_scope=\"inference\",\n",
        "    model_id=model_id,\n",
        "    model_version=model_version,\n",
        "    instance_type=inference_instance_type,\n",
        ")\n",
        "# Retrieve the inference script uri\n",
        "deploy_source_uri = script_uris.retrieve(\n",
        "    model_id=model_id, model_version=model_version, script_scope=\"inference\"\n",
        ")\n",
        "\n",
        "endpoint_name = name_from_base(f\"jumpstart-example-FT-{model_id}-\")\n",
        "\n",
        "# Use the estimator from the previous step to deploy to a SageMaker endpoint\n",
        "finetuned_predictor = (hp_tuner if use_amt else ic_estimator).deploy(\n",
        "    initial_instance_count=1,\n",
        "    instance_type=inference_instance_type,\n",
        "    entry_point=\"inference.py\",\n",
        "    image_uri=deploy_image_uri,\n",
        "    source_dir=deploy_source_uri,\n",
        "    endpoint_name=endpoint_name,\n",
        ")"
      ],
      "metadata": {
        "id": "7Ziyrvb9aR3_"
      },
      "execution_count": null,
      "outputs": []
    },
    {
      "cell_type": "code",
      "source": [
        "s3_bucket = f\"jumpstart-cache-prod-{aws_region}\"\n",
        "key_prefix = \"training-datasets/tf_flowers\"\n",
        "\n",
        "\n",
        "def download_from_s3(images):\n",
        "    for filename, image_key in images.items():\n",
        "        boto3.client(\"s3\").download_file(s3_bucket, f\"{key_prefix}/{image_key}\", filename)\n",
        "\n",
        "\n",
        "flower_images = {\n",
        "    \"img1.jpg\": \"roses/10503217854_e66a804309.jpg\",\n",
        "    \"img2.jpg\": \"sunflowers/1008566138_6927679c8a.jpg\",\n",
        "}\n",
        "download_from_s3(flower_images)"
      ],
      "metadata": {
        "id": "CoeSsbxmaR62"
      },
      "execution_count": null,
      "outputs": []
    },
    {
      "cell_type": "code",
      "source": [
        "for image_filename in flower_images.keys():\n",
        "    with open(image_filename, \"rb\") as file:\n",
        "        img = file.read()\n",
        "    query_response = finetuned_predictor.predict(\n",
        "        img, {\"ContentType\": \"application/x-image\", \"Accept\": \"application/json;verbose\"}\n",
        "    )\n",
        "    model_predictions = json.loads(query_response)\n",
        "    predicted_label = model_predictions[\"predicted_label\"]\n",
        "    display(\n",
        "        HTML(\n",
        "            f'<img src={image_filename} alt={image_filename} align=\"left\" style=\"width: 250px;\"/>'\n",
        "            f\"<figcaption>Predicted Label: {predicted_label}</figcaption>\"\n",
        "        )\n",
        "    )"
      ],
      "metadata": {
        "id": "TJBshUFYaR9k"
      },
      "execution_count": null,
      "outputs": []
    },
    {
      "cell_type": "code",
      "source": [
        "finetuned_predictor.delete_model()\n",
        "finetuned_predictor.delete_endpoint()"
      ],
      "metadata": {
        "id": "evFiHMNCaSAL"
      },
      "execution_count": null,
      "outputs": []
    },
    {
      "cell_type": "code",
      "source": [
        "# Identify the previously trained model path based on the output location where artifacts are stored previously and the training job name.\n",
        "\n",
        "if use_amt:  # If using amt, select the model for the best training job.\n",
        "    sage_client = boto3.Session().client(\"sagemaker\")\n",
        "    tuning_job_result = sage_client.describe_hyper_parameter_tuning_job(\n",
        "        HyperParameterTuningJobName=hp_tuner._current_job_name\n",
        "    )\n",
        "    last_training_job_name = tuning_job_result[\"BestTrainingJob\"][\"TrainingJobName\"]\n",
        "else:\n",
        "    last_training_job_name = ic_estimator._current_job_name\n",
        "\n",
        "last_trained_model_path = f\"{s3_output_location}/{last_training_job_name}/output/model.tar.gz\""
      ],
      "metadata": {
        "id": "0H0EY4bKZUr_"
      },
      "execution_count": null,
      "outputs": []
    },
    {
      "cell_type": "code",
      "source": [
        "incremental_train_output_prefix = \"jumpstart-example-ic-incremental-training\"\n",
        "\n",
        "incremental_s3_output_location = f\"s3://{output_bucket}/{incremental_train_output_prefix}/output\"\n",
        "\n",
        "incremental_training_job_name = name_from_base(f\"jumpstart-example-{model_id}-incremental-training\")\n",
        "\n",
        "incremental_train_estimator = Estimator(\n",
        "    role=aws_role,\n",
        "    image_uri=train_image_uri,\n",
        "    source_dir=train_source_uri,\n",
        "    model_uri=last_trained_model_path,\n",
        "    entry_point=\"transfer_learning.py\",\n",
        "    instance_count=1,\n",
        "    instance_type=training_instance_type,\n",
        "    max_run=360000,\n",
        "    hyperparameters=hyperparameters,\n",
        "    output_path=incremental_s3_output_location,\n",
        "    base_job_name=incremental_training_job_name,\n",
        ")\n",
        "\n",
        "incremental_train_estimator.fit({\"training\": training_dataset_s3_path}, logs=True)"
      ],
      "metadata": {
        "id": "CqT24amNbF5B"
      },
      "execution_count": null,
      "outputs": []
    },
    {
      "cell_type": "code",
      "source": [],
      "metadata": {
        "id": "InFhW2oHbF8L"
      },
      "execution_count": null,
      "outputs": []
    },
    {
      "cell_type": "code",
      "source": [],
      "metadata": {
        "id": "mByGRj7DbF_S"
      },
      "execution_count": null,
      "outputs": []
    },
    {
      "cell_type": "code",
      "source": [],
      "metadata": {
        "id": "xYVROa5RbGCb"
      },
      "execution_count": null,
      "outputs": []
    },
    {
      "cell_type": "code",
      "source": [],
      "metadata": {
        "id": "1fINA0jDbGFl"
      },
      "execution_count": null,
      "outputs": []
    },
    {
      "cell_type": "code",
      "source": [],
      "metadata": {
        "id": "KtyfWh17bGIs"
      },
      "execution_count": null,
      "outputs": []
    },
    {
      "cell_type": "code",
      "source": [],
      "metadata": {
        "id": "-bTTMMy8bGLp"
      },
      "execution_count": null,
      "outputs": []
    },
    {
      "cell_type": "code",
      "source": [],
      "metadata": {
        "id": "Jfo14nyjbGO5"
      },
      "execution_count": null,
      "outputs": []
    },
    {
      "cell_type": "code",
      "source": [],
      "metadata": {
        "id": "QxSemq1tZUvO"
      },
      "execution_count": null,
      "outputs": []
    }
  ]
}