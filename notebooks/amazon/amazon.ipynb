{
  "nbformat": 4,
  "nbformat_minor": 0,
  "metadata": {
    "colab": {
      "provenance": [],
      "authorship_tag": "ABX9TyMN8M0vpUwdD/duuRGGd7U3",
      "include_colab_link": true
    },
    "kernelspec": {
      "name": "python3",
      "display_name": "Python 3"
    },
    "language_info": {
      "name": "python"
    }
  },
  "cells": [
    {
      "cell_type": "markdown",
      "metadata": {
        "id": "view-in-github",
        "colab_type": "text"
      },
      "source": [
        "<a href=\"https://colab.research.google.com/github/benjaminbrown038/Amazon/blob/main/notebooks/amazon/amazon.ipynb\" target=\"_parent\"><img src=\"https://colab.research.google.com/assets/colab-badge.svg\" alt=\"Open In Colab\"/></a>"
      ]
    },
    {
      "cell_type": "markdown",
      "source": [
        "# Amazon\n",
        "\n",
        "## Computer Vision\n",
        "\n",
        "- Image Classification\n",
        "- Object Detection\n",
        "- Semantic Segmentation\n",
        "- Instance Segmentation\n",
        "- Image Embedding\n",
        "\n",
        "## Text\n",
        "\n",
        "- Text Classification\n",
        "- Sentence Pair Classification\n",
        "- Question Answering\n",
        "- Named Entity Recognition\n",
        "- Text Summarization\n",
        "- Text Generation\n",
        "- Machine Translation\n",
        "- Text Embedding\n",
        "\n",
        "\n",
        "## Tabular\n",
        "\n",
        "- Tabular Classification (LightGBM & Catboost)\n",
        "- Tabular Classification (XGBoost & Scikit-learn Linear Learner)\n",
        "- Tabular Classification (AutoGluon)\n",
        "- Tabular Classification (TabTransformer)\n",
        "- Tabular Regression (LightGBM & Catboost)\n",
        "- Tabular Regression (XGBoost & Scikit-learn Linear Learner)\n",
        "- Tabular Regression (AutoGluon)\n",
        "- Tabular Regression (TabTransformer)"
      ],
      "metadata": {
        "id": "eSDVecTsglGb"
      }
    },
    {
      "cell_type": "markdown",
      "source": [
        "## Image Classification"
      ],
      "metadata": {
        "id": "ktbkIiilddp7"
      }
    },
    {
      "cell_type": "code",
      "source": [
        "!pip3 install sagemaker ipywidgets --upgrade --quiet\n",
        "import sagemaker, boto3, json, IPython\n",
        "\n",
        "from sagemaker import get_execution_role, image_uris, model_uris, script_uris, hyperparameters\n",
        "from sagemaker.model import Model\n",
        "from sagemaker.predictor import Predictor\n",
        "from sagemaker.utils import name_from_base\n",
        "from sagemaker.estimator import Estimator\n",
        "from sagemaker.tuner import HyperparameterTuner, ContinuousParameter\n",
        "\n",
        "from IPython.core.display import HTML\n",
        "import ipywidgets as widgets"
      ],
      "metadata": {
        "id": "KR3p9qjPddum"
      },
      "execution_count": null,
      "outputs": []
    },
    {
      "cell_type": "code",
      "source": [
        "aws_role = get_execution_role()\n",
        "aws_region = boto3.Session().region_name\n",
        "sess = sagemaker.Session()"
      ],
      "metadata": {
        "id": "W_mYd4XVZUVX"
      },
      "execution_count": null,
      "outputs": []
    },
    {
      "cell_type": "code",
      "source": [
        "(model_id,model_version) =(\"pytorch-ic-mobilenet-v2\",\"*\")"
      ],
      "metadata": {
        "id": "q5XTswKlZUYW"
      },
      "execution_count": null,
      "outputs": []
    },
    {
      "cell_type": "code",
      "source": [
        "model_id"
      ],
      "metadata": {
        "id": "Efbxm2UKl4Gn"
      },
      "execution_count": null,
      "outputs": []
    },
    {
      "cell_type": "code",
      "source": [
        "model_version"
      ],
      "metadata": {
        "id": "9I51ZAN2l4JY"
      },
      "execution_count": null,
      "outputs": []
    },
    {
      "cell_type": "code",
      "source": [
        "boto3.client(\"s3\").download_file(f\"jumpstart-cache-prod-{aws_region}\", \"models_manifest.json\", \"models_manifest.json\")"
      ],
      "metadata": {
        "id": "Rwd6CYSdZUbP"
      },
      "execution_count": null,
      "outputs": []
    },
    {
      "cell_type": "code",
      "source": [
        "with open(\"models_manifest.json\", \"rb\") as json_file:\n",
        "    model_list = json.load(json_file)\n",
        "model_list"
      ],
      "metadata": {
        "id": "slISQLW6lwYT"
      },
      "execution_count": null,
      "outputs": []
    },
    {
      "cell_type": "code",
      "source": [
        "ic_models_all_versions, ic_models = [model[\"model_id\"] for model in model_list if \"-ic-\" in model[\"model_id\"]], [][ic_models.append(model) for model in ic_models_all_versions if model not in ic_models]"
      ],
      "metadata": {
        "id": "i7DUP45PltSL"
      },
      "execution_count": null,
      "outputs": []
    },
    {
      "cell_type": "code",
      "source": [
        "ic_models_all_versions"
      ],
      "metadata": {
        "id": "zZmaBqZ1l2b7"
      },
      "execution_count": null,
      "outputs": []
    },
    {
      "cell_type": "code",
      "source": [
        "ic_models"
      ],
      "metadata": {
        "id": "SUyNxjcsl2eu"
      },
      "execution_count": null,
      "outputs": []
    },
    {
      "cell_type": "code",
      "source": [
        "dropdown = widgets.Dropdown(\n",
        "    options=ic_models,\n",
        "    value=model_id,\n",
        "    description=\"JumpStart Image Classification Models:\",\n",
        "    style={\"description_width\": \"initial\"},\n",
        "    layout={\"width\": \"max-content\"})\n",
        "dropdown"
      ],
      "metadata": {
        "id": "aUckZAsCltUy"
      },
      "execution_count": null,
      "outputs": []
    },
    {
      "cell_type": "code",
      "source": [
        "display(IPython.display.Markdown(\"## Select a JumpStart pre-trained model from the dropdown below\"))"
      ],
      "metadata": {
        "id": "4meHc2N1ltXn"
      },
      "execution_count": null,
      "outputs": []
    },
    {
      "cell_type": "code",
      "source": [
        "display(dropdown)"
      ],
      "metadata": {
        "id": "1zW4A0CrlpnO"
      },
      "execution_count": null,
      "outputs": []
    },
    {
      "cell_type": "code",
      "source": [
        "infer_model_id, infer_model_version = dropdown.value, \"*\""
      ],
      "metadata": {
        "id": "HL-45MmXZUeX"
      },
      "execution_count": null,
      "outputs": []
    },
    {
      "cell_type": "code",
      "source": [
        "infer_model_id"
      ],
      "metadata": {
        "id": "V7WSY_lmma4M"
      },
      "execution_count": null,
      "outputs": []
    },
    {
      "cell_type": "code",
      "source": [
        "infer_model_version"
      ],
      "metadata": {
        "id": "_SyHpljDma68"
      },
      "execution_count": null,
      "outputs": []
    },
    {
      "cell_type": "code",
      "source": [
        "endpoint_name = name_from_base(f\"jumpstart-example-{infer_model_id}\")\n",
        "endpoint_name"
      ],
      "metadata": {
        "id": "hmyL6-X0mWCk"
      },
      "execution_count": null,
      "outputs": []
    },
    {
      "cell_type": "code",
      "source": [
        "inference_instance_type = \"ml.m5.xlarge\"\n",
        "inference_instance_type"
      ],
      "metadata": {
        "id": "A8G3nxMPm2mS"
      },
      "execution_count": null,
      "outputs": []
    },
    {
      "cell_type": "code",
      "source": [
        "deploy_image_uri = image_uris.retrieve(\n",
        "    region=None,\n",
        "    framework=None,\n",
        "    image_scope=\"inference\",\n",
        "    model_id=infer_model_id,\n",
        "    model_version=infer_model_version,\n",
        "    instance_type=inference_instance_type)\n",
        "deploy_image_uri"
      ],
      "metadata": {
        "id": "8iCodDoymWFM"
      },
      "execution_count": null,
      "outputs": []
    },
    {
      "cell_type": "code",
      "source": [
        "deploy_source_uri = script_uris.retrieve(model_id=infer_model_id, model_version=infer_model_version, script_scope=\"inference\")\n",
        "deploy_source_uri"
      ],
      "metadata": {
        "id": "irVe5H8-mWHm"
      },
      "execution_count": null,
      "outputs": []
    },
    {
      "cell_type": "code",
      "source": [
        "base_model_uri = model_uris.retrieve(model_id=infer_model_id, model_version=infer_model_version, model_scope=\"inference\")\n",
        "\n",
        "'''\n",
        "    image_uri=deploy_image_uri,\n",
        "    source_dir=deploy_source_uri,\n",
        "    model_data=base_model_uri,\n",
        "    entry_point=\"inference.py\",\n",
        "    role=aws_role,\n",
        "    predictor_cls=Predictor,\n",
        "    name=endpoint_name)\n",
        "'''\n",
        "base_model_uri"
      ],
      "metadata": {
        "id": "V_3ZtZjamWKN"
      },
      "execution_count": null,
      "outputs": []
    },
    {
      "cell_type": "code",
      "source": [
        "base_model_predictor = model.deploy(\n",
        "    initial_instance_count=1,\n",
        "    instance_type=inference_instance_type,\n",
        "    endpoint_name=endpoint_name)\n",
        "base_model_predictor"
      ],
      "metadata": {
        "id": "WN6LdXGimjKd"
      },
      "execution_count": null,
      "outputs": []
    },
    {
      "cell_type": "code",
      "source": [
        "s3_bucket = f\"jumpstart-cache-prod-{aws_region}\"\n",
        "s3_bucket"
      ],
      "metadata": {
        "id": "UjDTXqEwZUhg"
      },
      "execution_count": null,
      "outputs": []
    },
    {
      "cell_type": "code",
      "source": [
        "key_prefix = \"inference-notebook-assets\"\n",
        "key_prefix"
      ],
      "metadata": {
        "id": "QFQJdbMTnQoJ"
      },
      "execution_count": null,
      "outputs": []
    },
    {
      "cell_type": "code",
      "source": [
        "def download_from_s3(images):\n",
        "    for filename, image_key in images.items():\n",
        "        boto3.client(\"s3\").download_file(s3_bucket, f\"{key_prefix}/{image_key}\", filename)"
      ],
      "metadata": {
        "id": "gyzs298CnQrB"
      },
      "execution_count": null,
      "outputs": []
    },
    {
      "cell_type": "code",
      "source": [
        "images = {\"img1.jpg\": \"cat.jpg\", \"img2.jpg\": \"dog.jpg\"}\n",
        "images"
      ],
      "metadata": {
        "id": "MH8G8RtsnUzH"
      },
      "execution_count": null,
      "outputs": []
    },
    {
      "cell_type": "code",
      "source": [
        "download_from_s3(images)"
      ],
      "metadata": {
        "id": "P8Zydp58nU14"
      },
      "execution_count": null,
      "outputs": []
    },
    {
      "cell_type": "code",
      "source": [
        "def predict_top_k_labels(probabilities, labels, k):\n",
        "    topk_prediction_ids = sorted(range(len(probabilities)), key=lambda index: probabilities[index], reverse=True)[:k]\n",
        "    topk_class_labels = \", \".join([labels[id] for id in topk_prediction_ids])\n",
        "    return topk_class_labels"
      ],
      "metadata": {
        "id": "dkiXZse9ZUkm"
      },
      "execution_count": null,
      "outputs": []
    },
    {
      "cell_type": "code",
      "source": [
        "for image_filename in images.keys():\n",
        "    with open(image_filename, \"rb\") as file:\n",
        "        img = file.read()\n",
        "    query_response = base_model_predictor.predict(img, {\"ContentType\": \"application/x-image\", \"Accept\": \"application/json;verbose\"})\n",
        "    model_predictions = json.loads(query_response)\n",
        "    labels, probabilities = model_predictions[\"labels\"], model_predictions[\"probabilities\"]\n",
        "    top5_class_labels = predict_top_k_labels(probabilities, labels, 5)\n",
        "    display(HTML(f'<img src={image_filename} alt={image_filename} align=\"left\" style=\"width: 250px;\"/>'\n",
        "                 f\"<figcaption>Top-5 predictions: {top5_class_labels} </figcaption>\"))"
      ],
      "metadata": {
        "id": "6PNPgfOQndBw"
      },
      "execution_count": null,
      "outputs": []
    },
    {
      "cell_type": "code",
      "source": [
        "base_model_predictor.delete_model()"
      ],
      "metadata": {
        "id": "BpI0goAlZUof"
      },
      "execution_count": null,
      "outputs": []
    },
    {
      "cell_type": "code",
      "source": [
        "base_model_predictor.delete_endpoint()"
      ],
      "metadata": {
        "id": "tl_Y7fD8nspw"
      },
      "execution_count": null,
      "outputs": []
    },
    {
      "cell_type": "code",
      "source": [
        "model_id, model_version = dropdown.value, \"*\""
      ],
      "metadata": {
        "id": "fubY1QKhaRpv"
      },
      "execution_count": null,
      "outputs": []
    },
    {
      "cell_type": "code",
      "source": [
        "model_id"
      ],
      "metadata": {
        "id": "wV8pnLdTsiIF"
      },
      "execution_count": null,
      "outputs": []
    },
    {
      "cell_type": "code",
      "source": [
        "model_version"
      ],
      "metadata": {
        "id": "KHZiR4-8siKt"
      },
      "execution_count": null,
      "outputs": []
    },
    {
      "cell_type": "code",
      "source": [
        "training_instance_type = \"ml.p3.2xlarge\"\n",
        "training_instance_type"
      ],
      "metadata": {
        "id": "6hyOGOjin3nK"
      },
      "execution_count": null,
      "outputs": []
    },
    {
      "cell_type": "code",
      "source": [
        "train_image_uri = image_uris.retrieve(\n",
        "    region=None,\n",
        "    framework=None,\n",
        "    model_id=model_id,\n",
        "    model_version=model_version,\n",
        "    image_scope=\"training\",\n",
        "    instance_type=training_instance_type)\n",
        "train_image_uri"
      ],
      "metadata": {
        "id": "iCd88zIOn3qD"
      },
      "execution_count": null,
      "outputs": []
    },
    {
      "cell_type": "code",
      "source": [
        "train_source_uri = script_uris.retrieve(model_id=model_id, model_version=model_version, script_scope=\"training\")\n",
        "train_source_uri"
      ],
      "metadata": {
        "id": "x1k_fdBen3s7"
      },
      "execution_count": null,
      "outputs": []
    },
    {
      "cell_type": "code",
      "source": [
        "train_model_uri = model_uris.retrieve(model_id=model_id, model_version=model_version, model_scope=\"training\")\n",
        "train_model_uri"
      ],
      "metadata": {
        "id": "o3pJm8mKn3vg"
      },
      "execution_count": null,
      "outputs": []
    },
    {
      "cell_type": "code",
      "source": [
        "training_data_bucket = f\"jumpstart-cache-prod-{aws_region}\"\n",
        "training_data_bucket"
      ],
      "metadata": {
        "id": "tOoqqnG0n3yA"
      },
      "execution_count": null,
      "outputs": []
    },
    {
      "cell_type": "code",
      "source": [
        "training_data_prefix = \"training-datasets/tf_flowers/\"\n",
        "training_data_prefix"
      ],
      "metadata": {
        "id": "_8Vt3km5tGcv"
      },
      "execution_count": null,
      "outputs": []
    },
    {
      "cell_type": "code",
      "source": [
        "training_dataset_s3_path = f\"s3://{training_data_bucket}/{training_data_prefix}\"\n",
        "training_dataset_s3_path"
      ],
      "metadata": {
        "id": "eDib4e7gtGf3"
      },
      "execution_count": null,
      "outputs": []
    },
    {
      "cell_type": "code",
      "source": [
        "output_bucket = sess.default_bucket()\n",
        "output_bucket"
      ],
      "metadata": {
        "id": "106C3LUitGiv"
      },
      "execution_count": null,
      "outputs": []
    },
    {
      "cell_type": "code",
      "source": [
        "output_prefix = \"jumpstart-example-ic-training\"\n",
        "output_prefix"
      ],
      "metadata": {
        "id": "Ur1gSuwltGlx"
      },
      "execution_count": null,
      "outputs": []
    },
    {
      "cell_type": "code",
      "source": [
        "s3_output_location = f\"s3://{output_bucket}/{output_prefix}/output\"\n",
        "s3_output_location"
      ],
      "metadata": {
        "id": "mo5a3oTPtK-H"
      },
      "execution_count": null,
      "outputs": []
    },
    {
      "cell_type": "code",
      "source": [
        "hyperparameters = hyperparameters.retrieve_default(model_id=model_id, model_version=model_version)\n",
        "hyperparameters"
      ],
      "metadata": {
        "id": "pP6xYrIIaRs0"
      },
      "execution_count": null,
      "outputs": []
    },
    {
      "cell_type": "code",
      "source": [
        "hyperparameters[\"epochs\"] = \"5\""
      ],
      "metadata": {
        "id": "k0qzbJudtPGo"
      },
      "execution_count": null,
      "outputs": []
    },
    {
      "cell_type": "code",
      "source": [
        "print(hyperparameters)"
      ],
      "metadata": {
        "id": "g92z1M7utPJZ"
      },
      "execution_count": null,
      "outputs": []
    },
    {
      "cell_type": "code",
      "source": [
        "use_amt = True\n",
        "use_amt"
      ],
      "metadata": {
        "id": "o6MoRWmMaRvg"
      },
      "execution_count": null,
      "outputs": []
    },
    {
      "cell_type": "code",
      "source": [
        "metric_definitions_per_model = {\n",
        "    \"tensorflow\": {\"metrics\": [{\"Name\": \"val_accuracy\", \"Regex\": \"val_accuracy: ([0-9\\\\.]+)\"}],\n",
        "                   \"type\": \"Maximize\"},\n",
        "    \"pytorch\": {\"metrics\": [{\"Name\": \"val_accuracy\", \"Regex\": \"val Acc: ([0-9\\\\.]+)\"}],\n",
        "                \"type\": \"Maximize\"}}\n",
        "metric_definitions_per_model"
      ],
      "metadata": {
        "id": "Dl5DtuBjaRyI"
      },
      "execution_count": null,
      "outputs": []
    },
    {
      "cell_type": "code",
      "source": [
        "hyperparameter_ranges = {\"adam-learning-rate\": ContinuousParameter(0.0001, 0.1, scaling_type=\"Logarithmic\")}\n",
        "hyperparameter_ranges"
      ],
      "metadata": {
        "id": "MnG1hKZPtYFS"
      },
      "execution_count": null,
      "outputs": []
    },
    {
      "cell_type": "code",
      "source": [
        "max_jobs = 6\n",
        "max_jobs"
      ],
      "metadata": {
        "id": "Hxt9ecEYtYHt"
      },
      "execution_count": null,
      "outputs": []
    },
    {
      "cell_type": "code",
      "source": [
        "max_parallel_jobs = 2\n",
        "max_parallel_jobs"
      ],
      "metadata": {
        "id": "JRWFk3TPt1eT"
      },
      "execution_count": null,
      "outputs": []
    },
    {
      "cell_type": "code",
      "source": [
        "training_job_name = name_from_base(f\"jumpstart-example-{model_id}-transfer-learning\")\n",
        "training_job_name"
      ],
      "metadata": {
        "id": "6hKoFNPkaR02"
      },
      "execution_count": null,
      "outputs": []
    },
    {
      "cell_type": "code",
      "source": [
        "ic_estimator = Estimator(\n",
        "    role=aws_role,\n",
        "    image_uri=train_image_uri,\n",
        "    source_dir=train_source_uri,\n",
        "    model_uri=train_model_uri,\n",
        "    entry_point=\"transfer_learning.py\",\n",
        "    instance_count=1,\n",
        "    instance_type=training_instance_type,\n",
        "    max_run=360000,\n",
        "    hyperparameters=hyperparameters,\n",
        "    output_path=s3_output_location,\n",
        "    base_job_name=training_job_name)\n",
        "ic_estimator"
      ],
      "metadata": {
        "id": "1FT0cJKzt40x"
      },
      "execution_count": null,
      "outputs": []
    },
    {
      "cell_type": "code",
      "source": [
        "if use_amt:\n",
        "    metric_definitions = next(value for key, value in metric_definitions_per_model.items() if model_id.startswith(key))\n",
        "    hp_tuner = HyperparameterTuner(\n",
        "        ic_estimator,\n",
        "        metric_definitions[\"metrics\"][0][\"Name\"],\n",
        "        hyperparameter_ranges,\n",
        "        metric_definitions[\"metrics\"],\n",
        "        max_jobs=max_jobs,\n",
        "        max_parallel_jobs=max_parallel_jobs,\n",
        "        objective_type=metric_definitions[\"type\"],\n",
        "        base_tuning_job_name=training_job_name)\n",
        "    hp_tuner.fit({\"training\": training_dataset_s3_path})\n",
        "else:\n",
        "    ic_estimator.fit({\"training\": training_dataset_s3_path}, logs=True)"
      ],
      "metadata": {
        "id": "JAWE40mdt43t"
      },
      "execution_count": null,
      "outputs": []
    },
    {
      "cell_type": "code",
      "source": [
        "inference_instance_type = \"ml.m5.xlarge\"\n",
        "inference_instance_type"
      ],
      "metadata": {
        "id": "foCfDJN-t48N"
      },
      "execution_count": null,
      "outputs": []
    },
    {
      "cell_type": "code",
      "source": [
        "deploy_image_uri = image_uris.retrieve(\n",
        "    region=None,\n",
        "    framework=None,\n",
        "    image_scope=\"inference\",\n",
        "    model_id=model_id,\n",
        "    model_version=model_version,\n",
        "    instance_type=inference_instance_type)\n",
        "deploy_image_uri"
      ],
      "metadata": {
        "id": "9Daoiw32uwNF"
      },
      "execution_count": null,
      "outputs": []
    },
    {
      "cell_type": "code",
      "source": [
        "deploy_source_uri = script_uris.retrieve(\n",
        "    model_id=model_id, model_version=model_version, script_scope=\"inference\")\n",
        "deploy_source_uri"
      ],
      "metadata": {
        "id": "zJhaEftauwPz"
      },
      "execution_count": null,
      "outputs": []
    },
    {
      "cell_type": "code",
      "source": [
        "endpoint_name = name_from_base(f\"jumpstart-example-FT-{model_id}-\")\n",
        "endpoint_name"
      ],
      "metadata": {
        "id": "KgflfdVLuwVT"
      },
      "execution_count": null,
      "outputs": []
    },
    {
      "cell_type": "code",
      "source": [
        "finetuned_predictor = (hp_tuner if use_amt else ic_estimator).deploy(\n",
        "    initial_instance_count=1,\n",
        "    instance_type=inference_instance_type,\n",
        "    entry_point=\"inference.py\",\n",
        "    image_uri=deploy_image_uri,\n",
        "    source_dir=deploy_source_uri,\n",
        "    endpoint_name=endpoint_name)\n",
        "finetuned_predictor"
      ],
      "metadata": {
        "id": "7Ziyrvb9aR3_"
      },
      "execution_count": null,
      "outputs": []
    },
    {
      "cell_type": "code",
      "source": [
        "s3_bucket = f\"jumpstart-cache-prod-{aws_region}\"\n",
        "s3_bucket"
      ],
      "metadata": {
        "id": "CoeSsbxmaR62"
      },
      "execution_count": null,
      "outputs": []
    },
    {
      "cell_type": "code",
      "source": [
        "key_prefix = \"training-datasets/tf_flowers\"\n",
        "key_prefix"
      ],
      "metadata": {
        "id": "OyihyMLvu-77"
      },
      "execution_count": null,
      "outputs": []
    },
    {
      "cell_type": "code",
      "source": [
        "def download_from_s3(images):\n",
        "    for filename, image_key in images.items():\n",
        "        boto3.client(\"s3\").download_file(s3_bucket, f\"{key_prefix}/{image_key}\", filename)"
      ],
      "metadata": {
        "id": "beTWVtdau-_C"
      },
      "execution_count": null,
      "outputs": []
    },
    {
      "cell_type": "code",
      "source": [
        "flower_images = {\"img1.jpg\": \"roses/10503217854_e66a804309.jpg\",\n",
        "                 \"img2.jpg\": \"sunflowers/1008566138_6927679c8a.jpg\"}\n",
        "flower_images"
      ],
      "metadata": {
        "id": "rwG_2bJTu_EN"
      },
      "execution_count": null,
      "outputs": []
    },
    {
      "cell_type": "code",
      "source": [
        "download_from_s3(flower_images)"
      ],
      "metadata": {
        "id": "8BBt2bA2u_G8"
      },
      "execution_count": null,
      "outputs": []
    },
    {
      "cell_type": "code",
      "source": [
        "for image_filename in flower_images.keys():\n",
        "    with open(image_filename, \"rb\") as file:\n",
        "        img = file.read()\n",
        "    query_response = finetuned_predictor.predict(img, {\"ContentType\": \"application/x-image\", \"Accept\": \"application/json;verbose\"})\n",
        "    model_predictions = json.loads(query_response)\n",
        "    predicted_label = model_predictions[\"predicted_label\"]\n",
        "    display(HTML(f'<img src={image_filename} alt={image_filename} align=\"left\" style=\"width: 250px;\"/>'\n",
        "                 f\"<figcaption>Predicted Label: {predicted_label}</figcaption>\"))"
      ],
      "metadata": {
        "id": "TJBshUFYaR9k"
      },
      "execution_count": null,
      "outputs": []
    },
    {
      "cell_type": "code",
      "source": [
        "finetuned_predictor.delete_model()"
      ],
      "metadata": {
        "id": "evFiHMNCaSAL"
      },
      "execution_count": null,
      "outputs": []
    },
    {
      "cell_type": "code",
      "source": [
        "finetuned_predictor.delete_endpoint()"
      ],
      "metadata": {
        "id": "l_iamof6vkJ9"
      },
      "execution_count": null,
      "outputs": []
    },
    {
      "cell_type": "code",
      "source": [
        "if use_amt:\n",
        "    sage_client = boto3.Session().client(\"sagemaker\")\n",
        "    tuning_job_result = sage_client.describe_hyper_parameter_tuning_job(HyperParameterTuningJobName=hp_tuner._current_job_name)\n",
        "    last_training_job_name = tuning_job_result[\"BestTrainingJob\"][\"TrainingJobName\"]\n",
        "else:\n",
        "    last_training_job_name = ic_estimator._current_job_name"
      ],
      "metadata": {
        "id": "0H0EY4bKZUr_"
      },
      "execution_count": null,
      "outputs": []
    },
    {
      "cell_type": "code",
      "source": [
        "last_trained_model_path = f\"{s3_output_location}/{last_training_job_name}/output/model.tar.gz\"\n",
        "last_trained_model_path"
      ],
      "metadata": {
        "id": "E_ffh13cvg92"
      },
      "execution_count": null,
      "outputs": []
    },
    {
      "cell_type": "code",
      "source": [
        "incremental_train_output_prefix = \"jumpstart-example-ic-incremental-training\"\n",
        "incremental_train_output_prefix"
      ],
      "metadata": {
        "id": "CqT24amNbF5B"
      },
      "execution_count": null,
      "outputs": []
    },
    {
      "cell_type": "code",
      "source": [
        "incremental_s3_output_location = f\"s3://{output_bucket}/{incremental_train_output_prefix}/output\"\n",
        "incremental_s3_output_location"
      ],
      "metadata": {
        "id": "80CWfG4Wvly1"
      },
      "execution_count": null,
      "outputs": []
    },
    {
      "cell_type": "code",
      "source": [
        "incremental_training_job_name = name_from_base(f\"jumpstart-example-{model_id}-incremental-training\")\n",
        "incremental_training_job_name"
      ],
      "metadata": {
        "id": "He6fcffrvl2W"
      },
      "execution_count": null,
      "outputs": []
    },
    {
      "cell_type": "code",
      "source": [
        "incremental_train_estimator = Estimator(\n",
        "    role=aws_role,\n",
        "    image_uri=train_image_uri,\n",
        "    source_dir=train_source_uri,\n",
        "    model_uri=last_trained_model_path,\n",
        "    entry_point=\"transfer_learning.py\",\n",
        "    instance_count=1,\n",
        "    instance_type=training_instance_type,\n",
        "    max_run=360000,\n",
        "    hyperparameters=hyperparameters,\n",
        "    output_path=incremental_s3_output_location,\n",
        "    base_job_name=incremental_training_job_name)\n",
        "incremental_train_estimator"
      ],
      "metadata": {
        "id": "hnf1FFe6vl4z"
      },
      "execution_count": null,
      "outputs": []
    },
    {
      "cell_type": "code",
      "source": [
        "incremental_train_estimator.fit({\"training\": training_dataset_s3_path}, logs=True)"
      ],
      "metadata": {
        "id": "hPaUEZL4vp3N"
      },
      "execution_count": null,
      "outputs": []
    },
    {
      "cell_type": "markdown",
      "source": [
        "## Object Detection"
      ],
      "metadata": {
        "id": "LFwm5lJQbxLi"
      }
    },
    {
      "cell_type": "code",
      "source": [
        "!pip3 install sagemaker ipywidgets --upgrade --quiet\n",
        "\n",
        "import sagemaker, boto3, json\n",
        "import IPython\n",
        "from IPython.core.display import HTML\n",
        "import ipywidgets as widgets\n",
        "\n",
        "from sagemaker import get_execution_role\n",
        "from sagemaker.model import Model\n",
        "from sagemaker.predictor import Predictor\n",
        "from sagemaker.utils import name_from_base\n",
        "from sagemaker import get_execution_role, image_uris, model_uris, script_uris, hyperparameters\n",
        "from sagemaker import hyperparameters\n",
        "from sagemaker.tuner import ContinuousParameter\n",
        "from sagemaker.estimator import Estimator\n",
        "from sagemaker.utils import name_from_base\n",
        "from sagemaker.tuner import HyperparameterTuner\n"
      ],
      "metadata": {
        "id": "InFhW2oHbF8L"
      },
      "execution_count": null,
      "outputs": []
    },
    {
      "cell_type": "code",
      "source": [
        "aws_role = get_execution_role()\n",
        "aws_region = boto3.Session().region_name\n",
        "sess = sagemaker.Session()"
      ],
      "metadata": {
        "id": "mByGRj7DbF_S"
      },
      "execution_count": null,
      "outputs": []
    },
    {
      "cell_type": "code",
      "source": [
        "(model_id,\n",
        "    model_version,) = (\n",
        "    \"pytorch-ic-mobilenet-v2\",\n",
        "    \"*\",\n",
        ")"
      ],
      "metadata": {
        "id": "xYVROa5RbGCb"
      },
      "execution_count": null,
      "outputs": []
    },
    {
      "cell_type": "code",
      "source": [
        "boto3.client(\"s3\").download_file(f\"jumpstart-cache-prod-{aws_region}\", \"models_manifest.json\", \"models_manifest.json\")"
      ],
      "metadata": {
        "id": "1fINA0jDbGFl"
      },
      "execution_count": null,
      "outputs": []
    },
    {
      "cell_type": "code",
      "source": [
        "with open(\"models_manifest.json\", \"rb\") as json_file:\n",
        "    model_list = json.load(json_file)\n",
        "model_list"
      ],
      "metadata": {
        "id": "fBSAThDC-Sd0"
      },
      "execution_count": null,
      "outputs": []
    },
    {
      "cell_type": "code",
      "source": [
        "ic_models_all_versions, ic_models = [model[\"model_id\"] for model in model_list if \"-ic-\" in model[\"model_id\"]], [][ic_models.append(model) for model in ic_models_all_versions if model not in ic_models]"
      ],
      "metadata": {
        "id": "dLvMLt15-Sgr"
      },
      "execution_count": null,
      "outputs": []
    },
    {
      "cell_type": "code",
      "source": [
        "ic_models_all_versions"
      ],
      "metadata": {
        "id": "-ic0nkcu-wnk"
      },
      "execution_count": null,
      "outputs": []
    },
    {
      "cell_type": "code",
      "source": [
        "ic_models"
      ],
      "metadata": {
        "id": "XFfor23H-wqD"
      },
      "execution_count": null,
      "outputs": []
    },
    {
      "cell_type": "code",
      "source": [
        "dropdown = widgets.Dropdown(\n",
        "    options=ic_models,\n",
        "    value=model_id,\n",
        "    description=\"JumpStart Image Classification Models:\",\n",
        "    style={\"description_width\": \"initial\"},\n",
        "    layout={\"width\": \"max-content\"})\n",
        "dropdown"
      ],
      "metadata": {
        "id": "9ewW5iaA-Sjj"
      },
      "execution_count": null,
      "outputs": []
    },
    {
      "cell_type": "code",
      "source": [
        "display(IPython.display.Markdown(\"## Select a JumpStart pre-trained model from the dropdown below\"))"
      ],
      "metadata": {
        "id": "zksxmHup-SmX"
      },
      "execution_count": null,
      "outputs": []
    },
    {
      "cell_type": "code",
      "source": [
        "display(dropdown)"
      ],
      "metadata": {
        "id": "Mm7W6Qz1-let"
      },
      "execution_count": null,
      "outputs": []
    },
    {
      "cell_type": "code",
      "source": [
        "infer_model_id, infer_model_version = dropdown.value, \"*\""
      ],
      "metadata": {
        "id": "KtyfWh17bGIs"
      },
      "execution_count": null,
      "outputs": []
    },
    {
      "cell_type": "code",
      "source": [
        "infer_model_id"
      ],
      "metadata": {
        "id": "7rVlmyRt-s4m"
      },
      "execution_count": null,
      "outputs": []
    },
    {
      "cell_type": "code",
      "source": [
        "infer_model_version"
      ],
      "metadata": {
        "id": "cIkHbDg8-s69"
      },
      "execution_count": null,
      "outputs": []
    },
    {
      "cell_type": "code",
      "source": [
        "endpoint_name = name_from_base(f\"jumpstart-example-{infer_model_id}\")\n",
        "endpoint_name"
      ],
      "metadata": {
        "id": "3SNxTLA7-rjF"
      },
      "execution_count": null,
      "outputs": []
    },
    {
      "cell_type": "code",
      "source": [
        "inference_instance_type = \"ml.m5.xlarge\"\n",
        "inference_instance_type"
      ],
      "metadata": {
        "id": "Ih_5CvuH-rlj"
      },
      "execution_count": null,
      "outputs": []
    },
    {
      "cell_type": "code",
      "source": [
        "deploy_image_uri = image_uris.retrieve(\n",
        "    region=None,\n",
        "    framework=None,\n",
        "    image_scope=\"inference\",\n",
        "    model_id=infer_model_id,\n",
        "    model_version=infer_model_version,\n",
        "    instance_type=inference_instance_type)\n",
        "deploy_image_uri"
      ],
      "metadata": {
        "id": "NBer5-VM-rok"
      },
      "execution_count": null,
      "outputs": []
    },
    {
      "cell_type": "code",
      "source": [
        "deploy_source_uri = script_uris.retrieve(model_id=infer_model_id, model_version=infer_model_version, script_scope=\"inference\")\n",
        "deploy_source_uri"
      ],
      "metadata": {
        "id": "JJMrb8dR-rrM"
      },
      "execution_count": null,
      "outputs": []
    },
    {
      "cell_type": "code",
      "source": [
        "base_model_uri = model_uris.retrieve(model_id=infer_model_id, model_version=infer_model_version, model_scope=\"inference\")\n",
        "base_model_uri"
      ],
      "metadata": {
        "id": "J8vv954y-928"
      },
      "execution_count": null,
      "outputs": []
    },
    {
      "cell_type": "code",
      "source": [
        "model = Model(\n",
        "    image_uri=deploy_image_uri,\n",
        "    source_dir=deploy_source_uri,\n",
        "    model_data=base_model_uri,\n",
        "    entry_point=\"inference.py\",\n",
        "    role=aws_role,\n",
        "    predictor_cls=Predictor,\n",
        "    name=endpoint_name)\n",
        "model"
      ],
      "metadata": {
        "id": "tRUdzios-98E"
      },
      "execution_count": null,
      "outputs": []
    },
    {
      "cell_type": "code",
      "source": [
        "base_model_predictor = model.deploy(\n",
        "    initial_instance_count=1,\n",
        "    instance_type=inference_instance_type,\n",
        "    endpoint_name=endpoint_name)\n",
        "base_model_predictor"
      ],
      "metadata": {
        "id": "9gTHbPNQ-ruM"
      },
      "execution_count": null,
      "outputs": []
    },
    {
      "cell_type": "code",
      "source": [
        "s3_bucket = f\"jumpstart-cache-prod-{aws_region}\"\n",
        "s3_bucket"
      ],
      "metadata": {
        "id": "-bTTMMy8bGLp"
      },
      "execution_count": null,
      "outputs": []
    },
    {
      "cell_type": "code",
      "source": [
        "key_prefix = \"inference-notebook-assets\"\n",
        "key_prefix"
      ],
      "metadata": {
        "id": "Od438dr5_WK0"
      },
      "execution_count": null,
      "outputs": []
    },
    {
      "cell_type": "code",
      "source": [
        "def download_from_s3(images):\n",
        "    for filename, image_key in images.items():\n",
        "        boto3.client(\"s3\").download_file(s3_bucket, f\"{key_prefix}/{image_key}\", filename)"
      ],
      "metadata": {
        "id": "2O-X28rd_WOX"
      },
      "execution_count": null,
      "outputs": []
    },
    {
      "cell_type": "code",
      "source": [
        "images = {\"img1.jpg\": \"cat.jpg\", \"img2.jpg\": \"dog.jpg\"}\n",
        "images"
      ],
      "metadata": {
        "id": "Wn67wrUE_WSt"
      },
      "execution_count": null,
      "outputs": []
    },
    {
      "cell_type": "code",
      "source": [
        "download_from_s3(images)"
      ],
      "metadata": {
        "id": "fAU7uIbL_ZZO"
      },
      "execution_count": null,
      "outputs": []
    },
    {
      "cell_type": "code",
      "source": [
        "def predict_top_k_labels(probabilities, labels, k):\n",
        "    topk_prediction_ids = sorted(range(len(probabilities)), key=lambda index: probabilities[index], reverse=True)[:k]\n",
        "    topk_class_labels = \", \".join([labels[id] for id in topk_prediction_ids])\n",
        "    return topk_class_labels"
      ],
      "metadata": {
        "id": "by-fdPEkdLnA"
      },
      "execution_count": null,
      "outputs": []
    },
    {
      "cell_type": "code",
      "source": [
        "for image_filename in images.keys():\n",
        "    with open(image_filename, \"rb\") as file:\n",
        "        img = file.read()\n",
        "    query_response = base_model_predictor.predict(img, {\"ContentType\": \"application/x-image\", \"Accept\": \"application/json;verbose\"})\n",
        "    model_predictions = json.loads(query_response)\n",
        "    labels, probabilities = model_predictions[\"labels\"], model_predictions[\"probabilities\"]\n",
        "    top5_class_labels = predict_top_k_labels(probabilities, labels, 5)\n",
        "    display(HTML(f'<img src={image_filename} alt={image_filename} align=\"left\" style=\"width: 250px;\"/>'\n",
        "                 f\"<figcaption>Top-5 predictions: {top5_class_labels} </figcaption>\"))"
      ],
      "metadata": {
        "id": "kqA3Erqo_iXs"
      },
      "execution_count": null,
      "outputs": []
    },
    {
      "cell_type": "code",
      "source": [
        "base_model_predictor.delete_model()"
      ],
      "metadata": {
        "id": "fZlYLZA1_iu3"
      },
      "execution_count": null,
      "outputs": []
    },
    {
      "cell_type": "code",
      "source": [
        "base_model_predictor.delete_endpoint()"
      ],
      "metadata": {
        "id": "qEK1T1T3dLqX"
      },
      "execution_count": null,
      "outputs": []
    },
    {
      "cell_type": "code",
      "source": [
        "model_id, model_version = dropdown.value, \"*\""
      ],
      "metadata": {
        "id": "R1feVajgdLtg"
      },
      "execution_count": null,
      "outputs": []
    },
    {
      "cell_type": "code",
      "source": [
        "model_id"
      ],
      "metadata": {
        "id": "4nSNZjLHAEbd"
      },
      "execution_count": null,
      "outputs": []
    },
    {
      "cell_type": "code",
      "source": [
        "model_version"
      ],
      "metadata": {
        "id": "OyQdLIguAEeR"
      },
      "execution_count": null,
      "outputs": []
    },
    {
      "cell_type": "code",
      "source": [
        "training_instance_type = \"ml.p3.2xlarge\"\n",
        "training_instance_type"
      ],
      "metadata": {
        "id": "lYmRfx1F_zD_"
      },
      "execution_count": null,
      "outputs": []
    },
    {
      "cell_type": "code",
      "source": [
        "train_image_uri = image_uris.retrieve(\n",
        "    region=None,\n",
        "    framework=None,\n",
        "    model_id=model_id,\n",
        "    model_version=model_version,\n",
        "    image_scope=\"training\",\n",
        "    instance_type=training_instance_type)\n",
        "train_image_uri"
      ],
      "metadata": {
        "id": "Ee1UaKmD_zHQ"
      },
      "execution_count": null,
      "outputs": []
    },
    {
      "cell_type": "code",
      "source": [
        "train_source_uri = script_uris.retrieve(model_id=model_id, model_version=model_version, script_scope=\"training\")\n",
        "train_source_uri"
      ],
      "metadata": {
        "id": "5eyMcyJ9_zJv"
      },
      "execution_count": null,
      "outputs": []
    },
    {
      "cell_type": "code",
      "source": [
        "train_model_uri = model_uris.retrieve(model_id=model_id, model_version=model_version, model_scope=\"training\")\n",
        "train_model_uri"
      ],
      "metadata": {
        "id": "SHoCLY1z_zM3"
      },
      "execution_count": null,
      "outputs": []
    },
    {
      "cell_type": "code",
      "source": [
        "\n",
        "training_data_bucket = f\"jumpstart-cache-prod-{aws_region}\"\n"
      ],
      "metadata": {
        "id": "CsXKc3gedLwz"
      },
      "execution_count": null,
      "outputs": []
    },
    {
      "cell_type": "code",
      "source": [
        "training_data_prefix = \"training-datasets/tf_flowers/\"\n",
        "training_data_prefix"
      ],
      "metadata": {
        "id": "1JGJNTrQAJ3m"
      },
      "execution_count": null,
      "outputs": []
    },
    {
      "cell_type": "code",
      "source": [
        "training_dataset_s3_path = f\"s3://{training_data_bucket}/{training_data_prefix}\"\n",
        "training_dataset_s3_path"
      ],
      "metadata": {
        "id": "9gsAGZjMAJ6e"
      },
      "execution_count": null,
      "outputs": []
    },
    {
      "cell_type": "code",
      "source": [
        "output_bucket = sess.default_bucket()\n",
        "output_bucket"
      ],
      "metadata": {
        "id": "iyKl5EyBAJ9f"
      },
      "execution_count": null,
      "outputs": []
    },
    {
      "cell_type": "code",
      "source": [
        "output_prefix = \"jumpstart-example-ic-training\"\n",
        "output_prefix"
      ],
      "metadata": {
        "id": "xA83LgUsAOIO"
      },
      "execution_count": null,
      "outputs": []
    },
    {
      "cell_type": "code",
      "source": [
        "s3_output_location = f\"s3://{output_bucket}/{output_prefix}/output\"\n",
        "s3_output_location"
      ],
      "metadata": {
        "id": "TNNXTE2XAOK2"
      },
      "execution_count": null,
      "outputs": []
    },
    {
      "cell_type": "code",
      "source": [],
      "metadata": {
        "id": "9UuMo7kvAKAY"
      },
      "execution_count": null,
      "outputs": []
    },
    {
      "cell_type": "code",
      "source": [
        "hyperparameters = hyperparameters.retrieve_default(model_id=model_id, model_version=model_version)\n",
        "hyperparameters"
      ],
      "metadata": {
        "id": "C0WEUM_vdLzw"
      },
      "execution_count": null,
      "outputs": []
    },
    {
      "cell_type": "code",
      "source": [
        "hyperparameters[\"epochs\"] = \"5\""
      ],
      "metadata": {
        "id": "OMVL5eJ8AdSW"
      },
      "execution_count": null,
      "outputs": []
    },
    {
      "cell_type": "code",
      "source": [
        "print(hyperparameters)"
      ],
      "metadata": {
        "id": "0Y964-7CAdU-"
      },
      "execution_count": null,
      "outputs": []
    },
    {
      "cell_type": "code",
      "source": [
        "use_amt = True\n",
        "use_amt"
      ],
      "metadata": {
        "id": "B38CwruMdL2x"
      },
      "execution_count": null,
      "outputs": []
    },
    {
      "cell_type": "code",
      "source": [
        "metric_definitions_per_model = {\n",
        "    \"tensorflow\": {\n",
        "        \"metrics\": [{\"Name\": \"val_accuracy\", \"Regex\": \"val_accuracy: ([0-9\\\\.]+)\"}],\n",
        "        \"type\": \"Maximize\"},\n",
        "    \"pytorch\": {\n",
        "        \"metrics\": [{\"Name\": \"val_accuracy\", \"Regex\": \"val Acc: ([0-9\\\\.]+)\"}],\n",
        "        \"type\": \"Maximize\"}}\n",
        "metric_definitions_per_model"
      ],
      "metadata": {
        "id": "2IT72kwjAk_P"
      },
      "execution_count": null,
      "outputs": []
    },
    {
      "cell_type": "code",
      "source": [
        "hyperparameter_ranges = {\"adam-learning-rate\": ContinuousParameter(0.0001, 0.1, scaling_type=\"Logarithmic\")}\n",
        "hyperparameter_ranges"
      ],
      "metadata": {
        "id": "cZin5nL3AlB_"
      },
      "execution_count": null,
      "outputs": []
    },
    {
      "cell_type": "code",
      "source": [
        "max_jobs = 6\n",
        "max_jobs"
      ],
      "metadata": {
        "id": "tkCFjetjAlEo"
      },
      "execution_count": null,
      "outputs": []
    },
    {
      "cell_type": "code",
      "source": [
        "max_parallel_jobs = 2\n",
        "max_parallel_jobs"
      ],
      "metadata": {
        "id": "SZOpVNtHAlHX"
      },
      "execution_count": null,
      "outputs": []
    },
    {
      "cell_type": "code",
      "source": [
        "training_job_name = name_from_base(f\"jumpstart-example-{model_id}-transfer-learning\")\n",
        "training_job_name"
      ],
      "metadata": {
        "id": "47vqw1azdL6A"
      },
      "execution_count": null,
      "outputs": []
    },
    {
      "cell_type": "code",
      "source": [
        "ic_estimator = Estimator(\n",
        "    role=aws_role,\n",
        "    image_uri=train_image_uri,\n",
        "    source_dir=train_source_uri,\n",
        "    model_uri=train_model_uri,\n",
        "    entry_point=\"transfer_learning.py\",\n",
        "    instance_count=1,\n",
        "    instance_type=training_instance_type,\n",
        "    max_run=360000,\n",
        "    hyperparameters=hyperparameters,\n",
        "    output_path=s3_output_location,\n",
        "    base_job_name=training_job_name)\n",
        "ic_estimator"
      ],
      "metadata": {
        "id": "cmUBHBPAA9fH"
      },
      "execution_count": null,
      "outputs": []
    },
    {
      "cell_type": "code",
      "source": [
        "if use_amt:\n",
        "    metric_definitions = next(\n",
        "        value for key, value in metric_definitions_per_model.items() if model_id.startswith(key))\n",
        "    hp_tuner = HyperparameterTuner(\n",
        "        ic_estimator,\n",
        "        metric_definitions[\"metrics\"][0][\"Name\"],\n",
        "        hyperparameter_ranges,\n",
        "        metric_definitions[\"metrics\"],\n",
        "        max_jobs=max_jobs,\n",
        "        max_parallel_jobs=max_parallel_jobs,\n",
        "        objective_type=metric_definitions[\"type\"],\n",
        "        base_tuning_job_name=training_job_name)\n",
        "    hp_tuner.fit({\"training\": training_dataset_s3_path})\n",
        "else:\n",
        "    ic_estimator.fit({\"training\": training_dataset_s3_path}, logs=True)"
      ],
      "metadata": {
        "id": "w0OyGz6IA9iD"
      },
      "execution_count": null,
      "outputs": []
    },
    {
      "cell_type": "code",
      "source": [
        "inference_instance_type = \"ml.m5.xlarge\"\n",
        "inference_instance_type"
      ],
      "metadata": {
        "id": "Jg9lz7G0dL9S"
      },
      "execution_count": null,
      "outputs": []
    },
    {
      "cell_type": "code",
      "source": [
        "deploy_image_uri = image_uris.retrieve(\n",
        "    region=None,\n",
        "    framework=None,\n",
        "    image_scope=\"inference\",\n",
        "    model_id=model_id,\n",
        "    model_version=model_version,\n",
        "    instance_type=inference_instance_type)\n",
        "deploy_image_uri"
      ],
      "metadata": {
        "id": "g2YTJKn3BM3B"
      },
      "execution_count": null,
      "outputs": []
    },
    {
      "cell_type": "code",
      "source": [
        "deploy_source_uri = script_uris.retrieve(\n",
        "    model_id=model_id, model_version=model_version, script_scope=\"inference\")\n",
        "deploy_source_uri"
      ],
      "metadata": {
        "id": "D70-qUMeBM5p"
      },
      "execution_count": null,
      "outputs": []
    },
    {
      "cell_type": "code",
      "source": [
        "endpoint_name = name_from_base(f\"jumpstart-example-FT-{model_id}-\")\n",
        "endpoint_name"
      ],
      "metadata": {
        "id": "YZbyXn5KBNow"
      },
      "execution_count": null,
      "outputs": []
    },
    {
      "cell_type": "code",
      "source": [
        "finetuned_predictor = (hp_tuner if use_amt else ic_estimator).deploy(\n",
        "    initial_instance_count=1,\n",
        "    instance_type=inference_instance_type,\n",
        "    entry_point=\"inference.py\",\n",
        "    image_uri=deploy_image_uri,\n",
        "    source_dir=deploy_source_uri,\n",
        "    endpoint_name=endpoint_name)\n",
        "finetuned_predictor"
      ],
      "metadata": {
        "id": "JU4zZWXvBNrQ"
      },
      "execution_count": null,
      "outputs": []
    },
    {
      "cell_type": "code",
      "source": [
        "s3_bucket = f\"jumpstart-cache-prod-{aws_region}\"\n",
        "s3_bucket"
      ],
      "metadata": {
        "id": "6ElUekqidMAq"
      },
      "execution_count": null,
      "outputs": []
    },
    {
      "cell_type": "code",
      "source": [
        "key_prefix = \"training-datasets/tf_flowers\"\n",
        "key_prefix"
      ],
      "metadata": {
        "id": "q0uNpLhLBhvp"
      },
      "execution_count": null,
      "outputs": []
    },
    {
      "cell_type": "code",
      "source": [
        "def download_from_s3(images):\n",
        "    for filename, image_key in images.items():\n",
        "        boto3.client(\"s3\").download_file(s3_bucket, f\"{key_prefix}/{image_key}\", filename)"
      ],
      "metadata": {
        "id": "0bkSvN1rBhyR"
      },
      "execution_count": null,
      "outputs": []
    },
    {
      "cell_type": "code",
      "source": [
        "flower_images = {\"img1.jpg\": \"roses/10503217854_e66a804309.jpg\",\n",
        "                 \"img2.jpg\": \"sunflowers/1008566138_6927679c8a.jpg\"}\n",
        "flower_images"
      ],
      "metadata": {
        "id": "2JFrZ44YBh06"
      },
      "execution_count": null,
      "outputs": []
    },
    {
      "cell_type": "code",
      "source": [
        "download_from_s3(flower_images)"
      ],
      "metadata": {
        "id": "RrlQCcOJBlKB"
      },
      "execution_count": null,
      "outputs": []
    },
    {
      "cell_type": "code",
      "source": [
        "for image_filename in flower_images.keys():\n",
        "    with open(image_filename, \"rb\") as file:\n",
        "        img = file.read()\n",
        "    query_response = finetuned_predictor.predict(img, {\"ContentType\": \"application/x-image\", \"Accept\": \"application/json;verbose\"})\n",
        "    model_predictions = json.loads(query_response)\n",
        "    predicted_label = model_predictions[\"predicted_label\"]\n",
        "    display(HTML(f'<img src={image_filename} alt={image_filename} align=\"left\" style=\"width: 250px;\"/>'\n",
        "                 f\"<figcaption>Predicted Label: {predicted_label}</figcaption>\"))"
      ],
      "metadata": {
        "id": "V7Vrr4AOdMDY"
      },
      "execution_count": null,
      "outputs": []
    },
    {
      "cell_type": "code",
      "source": [
        "finetuned_predictor.delete_model()"
      ],
      "metadata": {
        "id": "Tp2D_XQfB4P5"
      },
      "execution_count": null,
      "outputs": []
    },
    {
      "cell_type": "code",
      "source": [
        "finetuned_predictor.delete_endpoint()"
      ],
      "metadata": {
        "id": "hLbMC9ChB4Sc"
      },
      "execution_count": null,
      "outputs": []
    },
    {
      "cell_type": "code",
      "source": [
        "if use_amt:\n",
        "    sage_client = boto3.Session().client(\"sagemaker\")\n",
        "    tuning_job_result = sage_client.describe_hyper_parameter_tuning_job(HyperParameterTuningJobName=hp_tuner._current_job_name)\n",
        "    last_training_job_name = tuning_job_result[\"BestTrainingJob\"][\"TrainingJobName\"]\n",
        "else:\n",
        "    last_training_job_name = ic_estimator._current_job_name"
      ],
      "metadata": {
        "id": "Jfo14nyjbGO5"
      },
      "execution_count": null,
      "outputs": []
    },
    {
      "cell_type": "code",
      "source": [
        "last_trained_model_path = f\"{s3_output_location}/{last_training_job_name}/output/model.tar.gz\"\n",
        "last_trained_model_path"
      ],
      "metadata": {
        "id": "4JcmwWQxCCkx"
      },
      "execution_count": null,
      "outputs": []
    },
    {
      "cell_type": "code",
      "source": [
        "incremental_train_output_prefix = \"jumpstart-example-ic-incremental-training\"\n",
        "incremental_train_output_prefix"
      ],
      "metadata": {
        "id": "dnH6bICWd6JI"
      },
      "execution_count": null,
      "outputs": []
    },
    {
      "cell_type": "code",
      "source": [
        "incremental_s3_output_location = f\"s3://{output_bucket}/{incremental_train_output_prefix}/output\"\n",
        "\n",
        "incremental_training_job_name = name_from_base(f\"jumpstart-example-{model_id}-incremental-training\")\n",
        "\n",
        "incremental_train_estimator = Estimator(\n",
        "    role=aws_role,\n",
        "    image_uri=train_image_uri,\n",
        "    source_dir=train_source_uri,\n",
        "    model_uri=last_trained_model_path,\n",
        "    entry_point=\"transfer_learning.py\",\n",
        "    instance_count=1,\n",
        "    instance_type=training_instance_type,\n",
        "    max_run=360000,\n",
        "    hyperparameters=hyperparameters,\n",
        "    output_path=incremental_s3_output_location,\n",
        "    base_job_name=incremental_training_job_name,\n",
        ")\n",
        "\n",
        "incremental_train_estimator.fit({\"training\": training_dataset_s3_path}, logs=True)"
      ],
      "metadata": {
        "id": "2xbC4uavCEvB"
      },
      "execution_count": null,
      "outputs": []
    },
    {
      "cell_type": "code",
      "source": [],
      "metadata": {
        "id": "ZPj4BxAACExp"
      },
      "execution_count": null,
      "outputs": []
    },
    {
      "cell_type": "code",
      "source": [],
      "metadata": {
        "id": "4Rwl3lksCE0X"
      },
      "execution_count": null,
      "outputs": []
    },
    {
      "cell_type": "code",
      "source": [],
      "metadata": {
        "id": "_aie2K6zCE2z"
      },
      "execution_count": null,
      "outputs": []
    },
    {
      "cell_type": "code",
      "source": [],
      "metadata": {
        "id": "0nDYpwtuCFNq"
      },
      "execution_count": null,
      "outputs": []
    },
    {
      "cell_type": "code",
      "source": [],
      "metadata": {
        "id": "Hk2AIXdACFQa"
      },
      "execution_count": null,
      "outputs": []
    },
    {
      "cell_type": "code",
      "source": [],
      "metadata": {
        "id": "aINOsHV-CFSi"
      },
      "execution_count": null,
      "outputs": []
    },
    {
      "cell_type": "code",
      "source": [],
      "metadata": {
        "id": "IWoR7pe-d6MA"
      },
      "execution_count": null,
      "outputs": []
    },
    {
      "cell_type": "code",
      "source": [],
      "metadata": {
        "id": "u7NNWtCPd6Ox"
      },
      "execution_count": null,
      "outputs": []
    },
    {
      "cell_type": "code",
      "source": [],
      "metadata": {
        "id": "sR1htLe6d6Rj"
      },
      "execution_count": null,
      "outputs": []
    },
    {
      "cell_type": "code",
      "source": [],
      "metadata": {
        "id": "hrrj_WERd6UZ"
      },
      "execution_count": null,
      "outputs": []
    },
    {
      "cell_type": "code",
      "source": [],
      "metadata": {
        "id": "q93PCByid6XC"
      },
      "execution_count": null,
      "outputs": []
    },
    {
      "cell_type": "code",
      "source": [],
      "metadata": {
        "id": "rk6Achhyd6Z5"
      },
      "execution_count": null,
      "outputs": []
    },
    {
      "cell_type": "code",
      "source": [],
      "metadata": {
        "id": "QxSemq1tZUvO"
      },
      "execution_count": null,
      "outputs": []
    }
  ]
}