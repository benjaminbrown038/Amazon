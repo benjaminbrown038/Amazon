{
  "nbformat": 4,
  "nbformat_minor": 0,
  "metadata": {
    "colab": {
      "provenance": [],
      "authorship_tag": "ABX9TyO5PUPqXes8TRfkGWpsaAV+",
      "include_colab_link": true
    },
    "kernelspec": {
      "name": "python3",
      "display_name": "Python 3"
    },
    "language_info": {
      "name": "python"
    }
  },
  "cells": [
    {
      "cell_type": "markdown",
      "metadata": {
        "id": "view-in-github",
        "colab_type": "text"
      },
      "source": [
        "<a href=\"https://colab.research.google.com/github/benjaminbrown038/Amazon/blob/main/notebooks/amazon/amazon.ipynb\" target=\"_parent\"><img src=\"https://colab.research.google.com/assets/colab-badge.svg\" alt=\"Open In Colab\"/></a>"
      ]
    },
    {
      "cell_type": "markdown",
      "source": [
        "# Amazon\n",
        "\n",
        "## Computer Vision\n",
        "\n",
        "- Image Classification\n",
        "- Object Detection\n",
        "- Semantic Segmentation\n",
        "- Instance Segmentation\n",
        "- Image Embedding"
      ],
      "metadata": {
        "id": "eSDVecTsglGb"
      }
    },
    {
      "cell_type": "markdown",
      "source": [
        "## Image Classification"
      ],
      "metadata": {
        "id": "ktbkIiilddp7"
      }
    },
    {
      "cell_type": "code",
      "source": [
        "!pip3 install sagemaker ipywidgets --upgrade --quiet\n",
        "import sagemaker, boto3, json, IPython\n",
        "\n",
        "from sagemaker import get_execution_role, image_uris, model_uris, script_uris, hyperparameters\n",
        "from sagemaker.model import Model\n",
        "from sagemaker.predictor import Predictor\n",
        "from sagemaker.utils import name_from_base\n",
        "from sagemaker.estimator import Estimator\n",
        "from sagemaker.tuner import HyperparameterTuner, ContinuousParameter\n",
        "\n",
        "from IPython.core.display import HTML\n",
        "import ipywidgets as widgets"
      ],
      "metadata": {
        "id": "KR3p9qjPddum"
      },
      "execution_count": null,
      "outputs": []
    },
    {
      "cell_type": "code",
      "source": [
        "aws_role = get_execution_role()\n",
        "aws_region = boto3.Session().region_name\n",
        "sess = sagemaker.Session()"
      ],
      "metadata": {
        "id": "W_mYd4XVZUVX"
      },
      "execution_count": null,
      "outputs": []
    },
    {
      "cell_type": "code",
      "source": [
        "(model_id,model_version) =(\"pytorch-ic-mobilenet-v2\",\"*\")"
      ],
      "metadata": {
        "id": "q5XTswKlZUYW"
      },
      "execution_count": null,
      "outputs": []
    },
    {
      "cell_type": "code",
      "source": [
        "model_id"
      ],
      "metadata": {
        "id": "Efbxm2UKl4Gn"
      },
      "execution_count": null,
      "outputs": []
    },
    {
      "cell_type": "code",
      "source": [
        "model_version"
      ],
      "metadata": {
        "id": "9I51ZAN2l4JY"
      },
      "execution_count": null,
      "outputs": []
    },
    {
      "cell_type": "code",
      "source": [
        "boto3.client(\"s3\").download_file(f\"jumpstart-cache-prod-{aws_region}\", \"models_manifest.json\", \"models_manifest.json\")"
      ],
      "metadata": {
        "id": "Rwd6CYSdZUbP"
      },
      "execution_count": null,
      "outputs": []
    },
    {
      "cell_type": "code",
      "source": [
        "with open(\"models_manifest.json\", \"rb\") as json_file:\n",
        "    model_list = json.load(json_file)\n",
        "model_list"
      ],
      "metadata": {
        "id": "slISQLW6lwYT"
      },
      "execution_count": null,
      "outputs": []
    },
    {
      "cell_type": "code",
      "source": [
        "ic_models_all_versions, ic_models = [model[\"model_id\"] for model in model_list if \"-ic-\" in model[\"model_id\"]], [][ic_models.append(model) for model in ic_models_all_versions if model not in ic_models]"
      ],
      "metadata": {
        "id": "i7DUP45PltSL"
      },
      "execution_count": null,
      "outputs": []
    },
    {
      "cell_type": "code",
      "source": [
        "ic_models_all_versions"
      ],
      "metadata": {
        "id": "zZmaBqZ1l2b7"
      },
      "execution_count": null,
      "outputs": []
    },
    {
      "cell_type": "code",
      "source": [
        "ic_models"
      ],
      "metadata": {
        "id": "SUyNxjcsl2eu"
      },
      "execution_count": null,
      "outputs": []
    },
    {
      "cell_type": "code",
      "source": [
        "dropdown = widgets.Dropdown(\n",
        "    options=ic_models,\n",
        "    value=model_id,\n",
        "    description=\"JumpStart Image Classification Models:\",\n",
        "    style={\"description_width\": \"initial\"},\n",
        "    layout={\"width\": \"max-content\"})\n",
        "dropdown"
      ],
      "metadata": {
        "id": "aUckZAsCltUy"
      },
      "execution_count": null,
      "outputs": []
    },
    {
      "cell_type": "code",
      "source": [
        "display(IPython.display.Markdown(\"## Select a JumpStart pre-trained model from the dropdown below\"))"
      ],
      "metadata": {
        "id": "4meHc2N1ltXn"
      },
      "execution_count": null,
      "outputs": []
    },
    {
      "cell_type": "code",
      "source": [
        "display(dropdown)"
      ],
      "metadata": {
        "id": "1zW4A0CrlpnO"
      },
      "execution_count": null,
      "outputs": []
    },
    {
      "cell_type": "code",
      "source": [
        "infer_model_id, infer_model_version = dropdown.value, \"*\""
      ],
      "metadata": {
        "id": "HL-45MmXZUeX"
      },
      "execution_count": null,
      "outputs": []
    },
    {
      "cell_type": "code",
      "source": [
        "infer_model_id"
      ],
      "metadata": {
        "id": "V7WSY_lmma4M"
      },
      "execution_count": null,
      "outputs": []
    },
    {
      "cell_type": "code",
      "source": [
        "infer_model_version"
      ],
      "metadata": {
        "id": "_SyHpljDma68"
      },
      "execution_count": null,
      "outputs": []
    },
    {
      "cell_type": "code",
      "source": [
        "endpoint_name = name_from_base(f\"jumpstart-example-{infer_model_id}\")\n",
        "endpoint_name"
      ],
      "metadata": {
        "id": "hmyL6-X0mWCk"
      },
      "execution_count": null,
      "outputs": []
    },
    {
      "cell_type": "code",
      "source": [
        "inference_instance_type = \"ml.m5.xlarge\"\n",
        "inference_instance_type"
      ],
      "metadata": {
        "id": "A8G3nxMPm2mS"
      },
      "execution_count": null,
      "outputs": []
    },
    {
      "cell_type": "code",
      "source": [
        "deploy_image_uri = image_uris.retrieve(\n",
        "    region=None,\n",
        "    framework=None,\n",
        "    image_scope=\"inference\",\n",
        "    model_id=infer_model_id,\n",
        "    model_version=infer_model_version,\n",
        "    instance_type=inference_instance_type)\n",
        "deploy_image_uri"
      ],
      "metadata": {
        "id": "8iCodDoymWFM"
      },
      "execution_count": null,
      "outputs": []
    },
    {
      "cell_type": "code",
      "source": [
        "deploy_source_uri = script_uris.retrieve(model_id=infer_model_id, model_version=infer_model_version, script_scope=\"inference\")\n",
        "deploy_source_uri"
      ],
      "metadata": {
        "id": "irVe5H8-mWHm"
      },
      "execution_count": null,
      "outputs": []
    },
    {
      "cell_type": "code",
      "source": [
        "base_model_uri = model_uris.retrieve(model_id=infer_model_id, model_version=infer_model_version, model_scope=\"inference\")\n",
        "\n",
        "'''\n",
        "    image_uri=deploy_image_uri,\n",
        "    source_dir=deploy_source_uri,\n",
        "    model_data=base_model_uri,\n",
        "    entry_point=\"inference.py\",\n",
        "    role=aws_role,\n",
        "    predictor_cls=Predictor,\n",
        "    name=endpoint_name)\n",
        "'''\n",
        "base_model_uri"
      ],
      "metadata": {
        "id": "V_3ZtZjamWKN"
      },
      "execution_count": null,
      "outputs": []
    },
    {
      "cell_type": "code",
      "source": [
        "base_model_predictor = model.deploy(\n",
        "    initial_instance_count=1,\n",
        "    instance_type=inference_instance_type,\n",
        "    endpoint_name=endpoint_name)\n",
        "base_model_predictor"
      ],
      "metadata": {
        "id": "WN6LdXGimjKd"
      },
      "execution_count": null,
      "outputs": []
    },
    {
      "cell_type": "code",
      "source": [
        "s3_bucket = f\"jumpstart-cache-prod-{aws_region}\"\n",
        "s3_bucket"
      ],
      "metadata": {
        "id": "UjDTXqEwZUhg"
      },
      "execution_count": null,
      "outputs": []
    },
    {
      "cell_type": "code",
      "source": [
        "key_prefix = \"inference-notebook-assets\"\n",
        "key_prefix"
      ],
      "metadata": {
        "id": "QFQJdbMTnQoJ"
      },
      "execution_count": null,
      "outputs": []
    },
    {
      "cell_type": "code",
      "source": [
        "def download_from_s3(images):\n",
        "    for filename, image_key in images.items():\n",
        "        boto3.client(\"s3\").download_file(s3_bucket, f\"{key_prefix}/{image_key}\", filename)"
      ],
      "metadata": {
        "id": "gyzs298CnQrB"
      },
      "execution_count": null,
      "outputs": []
    },
    {
      "cell_type": "code",
      "source": [
        "images = {\"img1.jpg\": \"cat.jpg\", \"img2.jpg\": \"dog.jpg\"}\n",
        "images"
      ],
      "metadata": {
        "id": "MH8G8RtsnUzH"
      },
      "execution_count": null,
      "outputs": []
    },
    {
      "cell_type": "code",
      "source": [
        "download_from_s3(images)"
      ],
      "metadata": {
        "id": "P8Zydp58nU14"
      },
      "execution_count": null,
      "outputs": []
    },
    {
      "cell_type": "code",
      "source": [
        "def predict_top_k_labels(probabilities, labels, k):\n",
        "    topk_prediction_ids = sorted(range(len(probabilities)), key=lambda index: probabilities[index], reverse=True)[:k]\n",
        "    topk_class_labels = \", \".join([labels[id] for id in topk_prediction_ids])\n",
        "    return topk_class_labels"
      ],
      "metadata": {
        "id": "dkiXZse9ZUkm"
      },
      "execution_count": null,
      "outputs": []
    },
    {
      "cell_type": "code",
      "source": [
        "for image_filename in images.keys():\n",
        "    with open(image_filename, \"rb\") as file:\n",
        "        img = file.read()\n",
        "    query_response = base_model_predictor.predict(img, {\"ContentType\": \"application/x-image\", \"Accept\": \"application/json;verbose\"})\n",
        "    model_predictions = json.loads(query_response)\n",
        "    labels, probabilities = model_predictions[\"labels\"], model_predictions[\"probabilities\"]\n",
        "    top5_class_labels = predict_top_k_labels(probabilities, labels, 5)\n",
        "    display(HTML(f'<img src={image_filename} alt={image_filename} align=\"left\" style=\"width: 250px;\"/>'\n",
        "                 f\"<figcaption>Top-5 predictions: {top5_class_labels} </figcaption>\"))"
      ],
      "metadata": {
        "id": "6PNPgfOQndBw"
      },
      "execution_count": null,
      "outputs": []
    },
    {
      "cell_type": "code",
      "source": [
        "base_model_predictor.delete_model()"
      ],
      "metadata": {
        "id": "BpI0goAlZUof"
      },
      "execution_count": null,
      "outputs": []
    },
    {
      "cell_type": "code",
      "source": [
        "base_model_predictor.delete_endpoint()"
      ],
      "metadata": {
        "id": "tl_Y7fD8nspw"
      },
      "execution_count": null,
      "outputs": []
    },
    {
      "cell_type": "code",
      "source": [
        "model_id, model_version = dropdown.value, \"*\""
      ],
      "metadata": {
        "id": "fubY1QKhaRpv"
      },
      "execution_count": null,
      "outputs": []
    },
    {
      "cell_type": "code",
      "source": [
        "model_id"
      ],
      "metadata": {
        "id": "wV8pnLdTsiIF"
      },
      "execution_count": null,
      "outputs": []
    },
    {
      "cell_type": "code",
      "source": [
        "model_version"
      ],
      "metadata": {
        "id": "KHZiR4-8siKt"
      },
      "execution_count": null,
      "outputs": []
    },
    {
      "cell_type": "code",
      "source": [
        "training_instance_type = \"ml.p3.2xlarge\"\n",
        "training_instance_type"
      ],
      "metadata": {
        "id": "6hyOGOjin3nK"
      },
      "execution_count": null,
      "outputs": []
    },
    {
      "cell_type": "code",
      "source": [
        "train_image_uri = image_uris.retrieve(\n",
        "    region=None,\n",
        "    framework=None,\n",
        "    model_id=model_id,\n",
        "    model_version=model_version,\n",
        "    image_scope=\"training\",\n",
        "    instance_type=training_instance_type)\n",
        "train_image_uri"
      ],
      "metadata": {
        "id": "iCd88zIOn3qD"
      },
      "execution_count": null,
      "outputs": []
    },
    {
      "cell_type": "code",
      "source": [
        "train_source_uri = script_uris.retrieve(model_id=model_id, model_version=model_version, script_scope=\"training\")\n",
        "train_source_uri"
      ],
      "metadata": {
        "id": "x1k_fdBen3s7"
      },
      "execution_count": null,
      "outputs": []
    },
    {
      "cell_type": "code",
      "source": [
        "train_model_uri = model_uris.retrieve(model_id=model_id, model_version=model_version, model_scope=\"training\")\n",
        "train_model_uri"
      ],
      "metadata": {
        "id": "o3pJm8mKn3vg"
      },
      "execution_count": null,
      "outputs": []
    },
    {
      "cell_type": "code",
      "source": [
        "training_data_bucket = f\"jumpstart-cache-prod-{aws_region}\"\n",
        "training_data_bucket"
      ],
      "metadata": {
        "id": "tOoqqnG0n3yA"
      },
      "execution_count": null,
      "outputs": []
    },
    {
      "cell_type": "code",
      "source": [
        "training_data_prefix = \"training-datasets/tf_flowers/\"\n",
        "training_data_prefix"
      ],
      "metadata": {
        "id": "_8Vt3km5tGcv"
      },
      "execution_count": null,
      "outputs": []
    },
    {
      "cell_type": "code",
      "source": [
        "training_dataset_s3_path = f\"s3://{training_data_bucket}/{training_data_prefix}\"\n",
        "training_dataset_s3_path"
      ],
      "metadata": {
        "id": "eDib4e7gtGf3"
      },
      "execution_count": null,
      "outputs": []
    },
    {
      "cell_type": "code",
      "source": [
        "output_bucket = sess.default_bucket()\n",
        "output_bucket"
      ],
      "metadata": {
        "id": "106C3LUitGiv"
      },
      "execution_count": null,
      "outputs": []
    },
    {
      "cell_type": "code",
      "source": [
        "output_prefix = \"jumpstart-example-ic-training\"\n",
        "output_prefix"
      ],
      "metadata": {
        "id": "Ur1gSuwltGlx"
      },
      "execution_count": null,
      "outputs": []
    },
    {
      "cell_type": "code",
      "source": [
        "s3_output_location = f\"s3://{output_bucket}/{output_prefix}/output\"\n",
        "s3_output_location"
      ],
      "metadata": {
        "id": "mo5a3oTPtK-H"
      },
      "execution_count": null,
      "outputs": []
    },
    {
      "cell_type": "code",
      "source": [
        "hyperparameters = hyperparameters.retrieve_default(model_id=model_id, model_version=model_version)\n",
        "hyperparameters"
      ],
      "metadata": {
        "id": "pP6xYrIIaRs0"
      },
      "execution_count": null,
      "outputs": []
    },
    {
      "cell_type": "code",
      "source": [
        "hyperparameters[\"epochs\"] = \"5\""
      ],
      "metadata": {
        "id": "k0qzbJudtPGo"
      },
      "execution_count": null,
      "outputs": []
    },
    {
      "cell_type": "code",
      "source": [
        "print(hyperparameters)"
      ],
      "metadata": {
        "id": "g92z1M7utPJZ"
      },
      "execution_count": null,
      "outputs": []
    },
    {
      "cell_type": "code",
      "source": [
        "use_amt = True\n",
        "use_amt"
      ],
      "metadata": {
        "id": "o6MoRWmMaRvg"
      },
      "execution_count": null,
      "outputs": []
    },
    {
      "cell_type": "code",
      "source": [
        "metric_definitions_per_model = {\n",
        "    \"tensorflow\": {\"metrics\": [{\"Name\": \"val_accuracy\", \"Regex\": \"val_accuracy: ([0-9\\\\.]+)\"}],\n",
        "                   \"type\": \"Maximize\"},\n",
        "    \"pytorch\": {\"metrics\": [{\"Name\": \"val_accuracy\", \"Regex\": \"val Acc: ([0-9\\\\.]+)\"}],\n",
        "                \"type\": \"Maximize\"}}\n",
        "metric_definitions_per_model"
      ],
      "metadata": {
        "id": "Dl5DtuBjaRyI"
      },
      "execution_count": null,
      "outputs": []
    },
    {
      "cell_type": "code",
      "source": [
        "hyperparameter_ranges = {\"adam-learning-rate\": ContinuousParameter(0.0001, 0.1, scaling_type=\"Logarithmic\")}\n",
        "hyperparameter_ranges"
      ],
      "metadata": {
        "id": "MnG1hKZPtYFS"
      },
      "execution_count": null,
      "outputs": []
    },
    {
      "cell_type": "code",
      "source": [
        "max_jobs = 6\n",
        "max_jobs"
      ],
      "metadata": {
        "id": "Hxt9ecEYtYHt"
      },
      "execution_count": null,
      "outputs": []
    },
    {
      "cell_type": "code",
      "source": [
        "max_parallel_jobs = 2\n",
        "max_parallel_jobs"
      ],
      "metadata": {
        "id": "JRWFk3TPt1eT"
      },
      "execution_count": null,
      "outputs": []
    },
    {
      "cell_type": "code",
      "source": [
        "training_job_name = name_from_base(f\"jumpstart-example-{model_id}-transfer-learning\")\n",
        "training_job_name"
      ],
      "metadata": {
        "id": "6hKoFNPkaR02"
      },
      "execution_count": null,
      "outputs": []
    },
    {
      "cell_type": "code",
      "source": [
        "ic_estimator = Estimator(\n",
        "    role=aws_role,\n",
        "    image_uri=train_image_uri,\n",
        "    source_dir=train_source_uri,\n",
        "    model_uri=train_model_uri,\n",
        "    entry_point=\"transfer_learning.py\",\n",
        "    instance_count=1,\n",
        "    instance_type=training_instance_type,\n",
        "    max_run=360000,\n",
        "    hyperparameters=hyperparameters,\n",
        "    output_path=s3_output_location,\n",
        "    base_job_name=training_job_name)\n",
        "ic_estimator"
      ],
      "metadata": {
        "id": "1FT0cJKzt40x"
      },
      "execution_count": null,
      "outputs": []
    },
    {
      "cell_type": "code",
      "source": [
        "if use_amt:\n",
        "    metric_definitions = next(value for key, value in metric_definitions_per_model.items() if model_id.startswith(key))\n",
        "    hp_tuner = HyperparameterTuner(\n",
        "        ic_estimator,\n",
        "        metric_definitions[\"metrics\"][0][\"Name\"],\n",
        "        hyperparameter_ranges,\n",
        "        metric_definitions[\"metrics\"],\n",
        "        max_jobs=max_jobs,\n",
        "        max_parallel_jobs=max_parallel_jobs,\n",
        "        objective_type=metric_definitions[\"type\"],\n",
        "        base_tuning_job_name=training_job_name)\n",
        "    hp_tuner.fit({\"training\": training_dataset_s3_path})\n",
        "else:\n",
        "    ic_estimator.fit({\"training\": training_dataset_s3_path}, logs=True)"
      ],
      "metadata": {
        "id": "JAWE40mdt43t"
      },
      "execution_count": null,
      "outputs": []
    },
    {
      "cell_type": "code",
      "source": [
        "inference_instance_type = \"ml.m5.xlarge\"\n",
        "inference_instance_type"
      ],
      "metadata": {
        "id": "foCfDJN-t48N"
      },
      "execution_count": null,
      "outputs": []
    },
    {
      "cell_type": "code",
      "source": [
        "deploy_image_uri = image_uris.retrieve(\n",
        "    region=None,\n",
        "    framework=None,\n",
        "    image_scope=\"inference\",\n",
        "    model_id=model_id,\n",
        "    model_version=model_version,\n",
        "    instance_type=inference_instance_type)\n",
        "deploy_image_uri"
      ],
      "metadata": {
        "id": "9Daoiw32uwNF"
      },
      "execution_count": null,
      "outputs": []
    },
    {
      "cell_type": "code",
      "source": [
        "deploy_source_uri = script_uris.retrieve(\n",
        "    model_id=model_id, model_version=model_version, script_scope=\"inference\")\n",
        "deploy_source_uri"
      ],
      "metadata": {
        "id": "zJhaEftauwPz"
      },
      "execution_count": null,
      "outputs": []
    },
    {
      "cell_type": "code",
      "source": [
        "endpoint_name = name_from_base(f\"jumpstart-example-FT-{model_id}-\")\n",
        "endpoint_name"
      ],
      "metadata": {
        "id": "KgflfdVLuwVT"
      },
      "execution_count": null,
      "outputs": []
    },
    {
      "cell_type": "code",
      "source": [
        "finetuned_predictor = (hp_tuner if use_amt else ic_estimator).deploy(\n",
        "    initial_instance_count=1,\n",
        "    instance_type=inference_instance_type,\n",
        "    entry_point=\"inference.py\",\n",
        "    image_uri=deploy_image_uri,\n",
        "    source_dir=deploy_source_uri,\n",
        "    endpoint_name=endpoint_name)\n",
        "finetuned_predictor"
      ],
      "metadata": {
        "id": "7Ziyrvb9aR3_"
      },
      "execution_count": null,
      "outputs": []
    },
    {
      "cell_type": "code",
      "source": [
        "s3_bucket = f\"jumpstart-cache-prod-{aws_region}\"\n",
        "s3_bucket"
      ],
      "metadata": {
        "id": "CoeSsbxmaR62"
      },
      "execution_count": null,
      "outputs": []
    },
    {
      "cell_type": "code",
      "source": [
        "key_prefix = \"training-datasets/tf_flowers\"\n",
        "key_prefix"
      ],
      "metadata": {
        "id": "OyihyMLvu-77"
      },
      "execution_count": null,
      "outputs": []
    },
    {
      "cell_type": "code",
      "source": [
        "def download_from_s3(images):\n",
        "    for filename, image_key in images.items():\n",
        "        boto3.client(\"s3\").download_file(s3_bucket, f\"{key_prefix}/{image_key}\", filename)"
      ],
      "metadata": {
        "id": "beTWVtdau-_C"
      },
      "execution_count": null,
      "outputs": []
    },
    {
      "cell_type": "code",
      "source": [
        "flower_images = {\"img1.jpg\": \"roses/10503217854_e66a804309.jpg\",\n",
        "                 \"img2.jpg\": \"sunflowers/1008566138_6927679c8a.jpg\"}\n",
        "flower_images"
      ],
      "metadata": {
        "id": "rwG_2bJTu_EN"
      },
      "execution_count": null,
      "outputs": []
    },
    {
      "cell_type": "code",
      "source": [
        "download_from_s3(flower_images)"
      ],
      "metadata": {
        "id": "8BBt2bA2u_G8"
      },
      "execution_count": null,
      "outputs": []
    },
    {
      "cell_type": "code",
      "source": [
        "for image_filename in flower_images.keys():\n",
        "    with open(image_filename, \"rb\") as file:\n",
        "        img = file.read()\n",
        "    query_response = finetuned_predictor.predict(img, {\"ContentType\": \"application/x-image\", \"Accept\": \"application/json;verbose\"})\n",
        "    model_predictions = json.loads(query_response)\n",
        "    predicted_label = model_predictions[\"predicted_label\"]\n",
        "    display(HTML(f'<img src={image_filename} alt={image_filename} align=\"left\" style=\"width: 250px;\"/>'\n",
        "                 f\"<figcaption>Predicted Label: {predicted_label}</figcaption>\"))"
      ],
      "metadata": {
        "id": "TJBshUFYaR9k"
      },
      "execution_count": null,
      "outputs": []
    },
    {
      "cell_type": "code",
      "source": [
        "finetuned_predictor.delete_model()"
      ],
      "metadata": {
        "id": "evFiHMNCaSAL"
      },
      "execution_count": null,
      "outputs": []
    },
    {
      "cell_type": "code",
      "source": [
        "finetuned_predictor.delete_endpoint()"
      ],
      "metadata": {
        "id": "l_iamof6vkJ9"
      },
      "execution_count": null,
      "outputs": []
    },
    {
      "cell_type": "code",
      "source": [
        "if use_amt:\n",
        "    sage_client = boto3.Session().client(\"sagemaker\")\n",
        "    tuning_job_result = sage_client.describe_hyper_parameter_tuning_job(HyperParameterTuningJobName=hp_tuner._current_job_name)\n",
        "    last_training_job_name = tuning_job_result[\"BestTrainingJob\"][\"TrainingJobName\"]\n",
        "else:\n",
        "    last_training_job_name = ic_estimator._current_job_name"
      ],
      "metadata": {
        "id": "0H0EY4bKZUr_"
      },
      "execution_count": null,
      "outputs": []
    },
    {
      "cell_type": "code",
      "source": [
        "last_trained_model_path = f\"{s3_output_location}/{last_training_job_name}/output/model.tar.gz\"\n",
        "last_trained_model_path"
      ],
      "metadata": {
        "id": "E_ffh13cvg92"
      },
      "execution_count": null,
      "outputs": []
    },
    {
      "cell_type": "code",
      "source": [
        "incremental_train_output_prefix = \"jumpstart-example-ic-incremental-training\"\n",
        "incremental_train_output_prefix"
      ],
      "metadata": {
        "id": "CqT24amNbF5B"
      },
      "execution_count": null,
      "outputs": []
    },
    {
      "cell_type": "code",
      "source": [
        "incremental_s3_output_location = f\"s3://{output_bucket}/{incremental_train_output_prefix}/output\"\n",
        "incremental_s3_output_location"
      ],
      "metadata": {
        "id": "80CWfG4Wvly1"
      },
      "execution_count": null,
      "outputs": []
    },
    {
      "cell_type": "code",
      "source": [
        "incremental_training_job_name = name_from_base(f\"jumpstart-example-{model_id}-incremental-training\")\n",
        "incremental_training_job_name"
      ],
      "metadata": {
        "id": "He6fcffrvl2W"
      },
      "execution_count": null,
      "outputs": []
    },
    {
      "cell_type": "code",
      "source": [
        "incremental_train_estimator = Estimator(\n",
        "    role=aws_role,\n",
        "    image_uri=train_image_uri,\n",
        "    source_dir=train_source_uri,\n",
        "    model_uri=last_trained_model_path,\n",
        "    entry_point=\"transfer_learning.py\",\n",
        "    instance_count=1,\n",
        "    instance_type=training_instance_type,\n",
        "    max_run=360000,\n",
        "    hyperparameters=hyperparameters,\n",
        "    output_path=incremental_s3_output_location,\n",
        "    base_job_name=incremental_training_job_name)\n",
        "incremental_train_estimator"
      ],
      "metadata": {
        "id": "hnf1FFe6vl4z"
      },
      "execution_count": null,
      "outputs": []
    },
    {
      "cell_type": "code",
      "source": [
        "incremental_train_estimator.fit({\"training\": training_dataset_s3_path}, logs=True)"
      ],
      "metadata": {
        "id": "hPaUEZL4vp3N"
      },
      "execution_count": null,
      "outputs": []
    },
    {
      "cell_type": "markdown",
      "source": [
        "## Object Detection"
      ],
      "metadata": {
        "id": "LFwm5lJQbxLi"
      }
    },
    {
      "cell_type": "code",
      "source": [
        "!pip3 install sagemaker ipywidgets --upgrade --quiet\n",
        "\n",
        "import sagemaker, boto3, json\n",
        "import IPython\n",
        "from IPython.core.display import HTML\n",
        "import ipywidgets as widgets\n",
        "\n",
        "from sagemaker import get_execution_role\n",
        "from sagemaker.model import Model\n",
        "from sagemaker.predictor import Predictor\n",
        "from sagemaker.utils import name_from_base\n",
        "from sagemaker import get_execution_role, image_uris, model_uris, script_uris, hyperparameters\n",
        "from sagemaker import hyperparameters\n",
        "from sagemaker.tuner import ContinuousParameter, HyperparameterTuner\n",
        "from sagemaker.estimator import Estimator"
      ],
      "metadata": {
        "id": "InFhW2oHbF8L"
      },
      "execution_count": null,
      "outputs": []
    },
    {
      "cell_type": "code",
      "source": [
        "aws_role = get_execution_role()\n",
        "aws_region = boto3.Session().region_name\n",
        "sess = sagemaker.Session()"
      ],
      "metadata": {
        "id": "mByGRj7DbF_S"
      },
      "execution_count": null,
      "outputs": []
    },
    {
      "cell_type": "code",
      "source": [
        "(model_id,model_version,) = (\"pytorch-ic-mobilenet-v2\",\"*\")"
      ],
      "metadata": {
        "id": "xYVROa5RbGCb"
      },
      "execution_count": null,
      "outputs": []
    },
    {
      "cell_type": "code",
      "source": [
        "boto3.client(\"s3\").download_file(f\"jumpstart-cache-prod-{aws_region}\", \"models_manifest.json\", \"models_manifest.json\")"
      ],
      "metadata": {
        "id": "1fINA0jDbGFl"
      },
      "execution_count": null,
      "outputs": []
    },
    {
      "cell_type": "code",
      "source": [
        "with open(\"models_manifest.json\", \"rb\") as json_file:\n",
        "    model_list = json.load(json_file)\n",
        "model_list"
      ],
      "metadata": {
        "id": "fBSAThDC-Sd0"
      },
      "execution_count": null,
      "outputs": []
    },
    {
      "cell_type": "code",
      "source": [
        "ic_models_all_versions, ic_models = [model[\"model_id\"] for model in model_list if \"-ic-\" in model[\"model_id\"]], [][ic_models.append(model) for model in ic_models_all_versions if model not in ic_models]"
      ],
      "metadata": {
        "id": "dLvMLt15-Sgr"
      },
      "execution_count": null,
      "outputs": []
    },
    {
      "cell_type": "code",
      "source": [
        "ic_models_all_versions"
      ],
      "metadata": {
        "id": "-ic0nkcu-wnk"
      },
      "execution_count": null,
      "outputs": []
    },
    {
      "cell_type": "code",
      "source": [
        "ic_models"
      ],
      "metadata": {
        "id": "XFfor23H-wqD"
      },
      "execution_count": null,
      "outputs": []
    },
    {
      "cell_type": "code",
      "source": [
        "dropdown = widgets.Dropdown(\n",
        "    options=ic_models,\n",
        "    value=model_id,\n",
        "    description=\"JumpStart Image Classification Models:\",\n",
        "    style={\"description_width\": \"initial\"},\n",
        "    layout={\"width\": \"max-content\"})\n",
        "dropdown"
      ],
      "metadata": {
        "id": "9ewW5iaA-Sjj"
      },
      "execution_count": null,
      "outputs": []
    },
    {
      "cell_type": "code",
      "source": [
        "display(IPython.display.Markdown(\"## Select a JumpStart pre-trained model from the dropdown below\"))"
      ],
      "metadata": {
        "id": "zksxmHup-SmX"
      },
      "execution_count": null,
      "outputs": []
    },
    {
      "cell_type": "code",
      "source": [
        "display(dropdown)"
      ],
      "metadata": {
        "id": "Mm7W6Qz1-let"
      },
      "execution_count": null,
      "outputs": []
    },
    {
      "cell_type": "code",
      "source": [
        "infer_model_id, infer_model_version = dropdown.value, \"*\""
      ],
      "metadata": {
        "id": "KtyfWh17bGIs"
      },
      "execution_count": null,
      "outputs": []
    },
    {
      "cell_type": "code",
      "source": [
        "infer_model_id"
      ],
      "metadata": {
        "id": "7rVlmyRt-s4m"
      },
      "execution_count": null,
      "outputs": []
    },
    {
      "cell_type": "code",
      "source": [
        "infer_model_version"
      ],
      "metadata": {
        "id": "cIkHbDg8-s69"
      },
      "execution_count": null,
      "outputs": []
    },
    {
      "cell_type": "code",
      "source": [
        "endpoint_name = name_from_base(f\"jumpstart-example-{infer_model_id}\")\n",
        "endpoint_name"
      ],
      "metadata": {
        "id": "3SNxTLA7-rjF"
      },
      "execution_count": null,
      "outputs": []
    },
    {
      "cell_type": "code",
      "source": [
        "inference_instance_type = \"ml.m5.xlarge\"\n",
        "inference_instance_type"
      ],
      "metadata": {
        "id": "Ih_5CvuH-rlj"
      },
      "execution_count": null,
      "outputs": []
    },
    {
      "cell_type": "code",
      "source": [
        "deploy_image_uri = image_uris.retrieve(\n",
        "    region=None,\n",
        "    framework=None,\n",
        "    image_scope=\"inference\",\n",
        "    model_id=infer_model_id,\n",
        "    model_version=infer_model_version,\n",
        "    instance_type=inference_instance_type)\n",
        "deploy_image_uri"
      ],
      "metadata": {
        "id": "NBer5-VM-rok"
      },
      "execution_count": null,
      "outputs": []
    },
    {
      "cell_type": "code",
      "source": [
        "deploy_source_uri = script_uris.retrieve(model_id=infer_model_id, model_version=infer_model_version, script_scope=\"inference\")\n",
        "deploy_source_uri"
      ],
      "metadata": {
        "id": "JJMrb8dR-rrM"
      },
      "execution_count": null,
      "outputs": []
    },
    {
      "cell_type": "code",
      "source": [
        "base_model_uri = model_uris.retrieve(model_id=infer_model_id, model_version=infer_model_version, model_scope=\"inference\")\n",
        "base_model_uri"
      ],
      "metadata": {
        "id": "J8vv954y-928"
      },
      "execution_count": null,
      "outputs": []
    },
    {
      "cell_type": "code",
      "source": [
        "model = Model(\n",
        "    image_uri=deploy_image_uri,\n",
        "    source_dir=deploy_source_uri,\n",
        "    model_data=base_model_uri,\n",
        "    entry_point=\"inference.py\",\n",
        "    role=aws_role,\n",
        "    predictor_cls=Predictor,\n",
        "    name=endpoint_name)\n",
        "model"
      ],
      "metadata": {
        "id": "tRUdzios-98E"
      },
      "execution_count": null,
      "outputs": []
    },
    {
      "cell_type": "code",
      "source": [
        "base_model_predictor = model.deploy(\n",
        "    initial_instance_count=1,\n",
        "    instance_type=inference_instance_type,\n",
        "    endpoint_name=endpoint_name)\n",
        "base_model_predictor"
      ],
      "metadata": {
        "id": "9gTHbPNQ-ruM"
      },
      "execution_count": null,
      "outputs": []
    },
    {
      "cell_type": "code",
      "source": [
        "s3_bucket = f\"jumpstart-cache-prod-{aws_region}\"\n",
        "s3_bucket"
      ],
      "metadata": {
        "id": "-bTTMMy8bGLp"
      },
      "execution_count": null,
      "outputs": []
    },
    {
      "cell_type": "code",
      "source": [
        "key_prefix = \"inference-notebook-assets\"\n",
        "key_prefix"
      ],
      "metadata": {
        "id": "Od438dr5_WK0"
      },
      "execution_count": null,
      "outputs": []
    },
    {
      "cell_type": "code",
      "source": [
        "def download_from_s3(images):\n",
        "    for filename, image_key in images.items():\n",
        "        boto3.client(\"s3\").download_file(s3_bucket, f\"{key_prefix}/{image_key}\", filename)"
      ],
      "metadata": {
        "id": "2O-X28rd_WOX"
      },
      "execution_count": null,
      "outputs": []
    },
    {
      "cell_type": "code",
      "source": [
        "images = {\"img1.jpg\": \"cat.jpg\", \"img2.jpg\": \"dog.jpg\"}\n",
        "images"
      ],
      "metadata": {
        "id": "Wn67wrUE_WSt"
      },
      "execution_count": null,
      "outputs": []
    },
    {
      "cell_type": "code",
      "source": [
        "download_from_s3(images)"
      ],
      "metadata": {
        "id": "fAU7uIbL_ZZO"
      },
      "execution_count": null,
      "outputs": []
    },
    {
      "cell_type": "code",
      "source": [
        "def predict_top_k_labels(probabilities, labels, k):\n",
        "    topk_prediction_ids = sorted(range(len(probabilities)), key=lambda index: probabilities[index], reverse=True)[:k]\n",
        "    topk_class_labels = \", \".join([labels[id] for id in topk_prediction_ids])\n",
        "    return topk_class_labels"
      ],
      "metadata": {
        "id": "by-fdPEkdLnA"
      },
      "execution_count": null,
      "outputs": []
    },
    {
      "cell_type": "code",
      "source": [
        "for image_filename in images.keys():\n",
        "    with open(image_filename, \"rb\") as file:\n",
        "        img = file.read()\n",
        "    query_response = base_model_predictor.predict(img, {\"ContentType\": \"application/x-image\", \"Accept\": \"application/json;verbose\"})\n",
        "    model_predictions = json.loads(query_response)\n",
        "    labels, probabilities = model_predictions[\"labels\"], model_predictions[\"probabilities\"]\n",
        "    top5_class_labels = predict_top_k_labels(probabilities, labels, 5)\n",
        "    display(HTML(f'<img src={image_filename} alt={image_filename} align=\"left\" style=\"width: 250px;\"/>'\n",
        "                 f\"<figcaption>Top-5 predictions: {top5_class_labels} </figcaption>\"))"
      ],
      "metadata": {
        "id": "kqA3Erqo_iXs"
      },
      "execution_count": null,
      "outputs": []
    },
    {
      "cell_type": "code",
      "source": [
        "base_model_predictor.delete_model()"
      ],
      "metadata": {
        "id": "fZlYLZA1_iu3"
      },
      "execution_count": null,
      "outputs": []
    },
    {
      "cell_type": "code",
      "source": [
        "base_model_predictor.delete_endpoint()"
      ],
      "metadata": {
        "id": "qEK1T1T3dLqX"
      },
      "execution_count": null,
      "outputs": []
    },
    {
      "cell_type": "code",
      "source": [
        "model_id, model_version = dropdown.value, \"*\""
      ],
      "metadata": {
        "id": "R1feVajgdLtg"
      },
      "execution_count": null,
      "outputs": []
    },
    {
      "cell_type": "code",
      "source": [
        "model_id"
      ],
      "metadata": {
        "id": "4nSNZjLHAEbd"
      },
      "execution_count": null,
      "outputs": []
    },
    {
      "cell_type": "code",
      "source": [
        "model_version"
      ],
      "metadata": {
        "id": "OyQdLIguAEeR"
      },
      "execution_count": null,
      "outputs": []
    },
    {
      "cell_type": "code",
      "source": [
        "training_instance_type = \"ml.p3.2xlarge\"\n",
        "training_instance_type"
      ],
      "metadata": {
        "id": "lYmRfx1F_zD_"
      },
      "execution_count": null,
      "outputs": []
    },
    {
      "cell_type": "code",
      "source": [
        "train_image_uri = image_uris.retrieve(\n",
        "    region=None,\n",
        "    framework=None,\n",
        "    model_id=model_id,\n",
        "    model_version=model_version,\n",
        "    image_scope=\"training\",\n",
        "    instance_type=training_instance_type)\n",
        "train_image_uri"
      ],
      "metadata": {
        "id": "Ee1UaKmD_zHQ"
      },
      "execution_count": null,
      "outputs": []
    },
    {
      "cell_type": "code",
      "source": [
        "train_source_uri = script_uris.retrieve(model_id=model_id, model_version=model_version, script_scope=\"training\")\n",
        "train_source_uri"
      ],
      "metadata": {
        "id": "5eyMcyJ9_zJv"
      },
      "execution_count": null,
      "outputs": []
    },
    {
      "cell_type": "code",
      "source": [
        "train_model_uri = model_uris.retrieve(model_id=model_id, model_version=model_version, model_scope=\"training\")\n",
        "train_model_uri"
      ],
      "metadata": {
        "id": "SHoCLY1z_zM3"
      },
      "execution_count": null,
      "outputs": []
    },
    {
      "cell_type": "code",
      "source": [
        "training_data_bucket = f\"jumpstart-cache-prod-{aws_region}\"\n",
        "training_data_bucket"
      ],
      "metadata": {
        "id": "CsXKc3gedLwz"
      },
      "execution_count": null,
      "outputs": []
    },
    {
      "cell_type": "code",
      "source": [
        "training_data_prefix = \"training-datasets/tf_flowers/\"\n",
        "training_data_prefix"
      ],
      "metadata": {
        "id": "1JGJNTrQAJ3m"
      },
      "execution_count": null,
      "outputs": []
    },
    {
      "cell_type": "code",
      "source": [
        "training_dataset_s3_path = f\"s3://{training_data_bucket}/{training_data_prefix}\"\n",
        "training_dataset_s3_path"
      ],
      "metadata": {
        "id": "9gsAGZjMAJ6e"
      },
      "execution_count": null,
      "outputs": []
    },
    {
      "cell_type": "code",
      "source": [
        "output_bucket = sess.default_bucket()\n",
        "output_bucket"
      ],
      "metadata": {
        "id": "iyKl5EyBAJ9f"
      },
      "execution_count": null,
      "outputs": []
    },
    {
      "cell_type": "code",
      "source": [
        "output_prefix = \"jumpstart-example-ic-training\"\n",
        "output_prefix"
      ],
      "metadata": {
        "id": "xA83LgUsAOIO"
      },
      "execution_count": null,
      "outputs": []
    },
    {
      "cell_type": "code",
      "source": [
        "s3_output_location = f\"s3://{output_bucket}/{output_prefix}/output\"\n",
        "s3_output_location"
      ],
      "metadata": {
        "id": "TNNXTE2XAOK2"
      },
      "execution_count": null,
      "outputs": []
    },
    {
      "cell_type": "code",
      "source": [],
      "metadata": {
        "id": "9UuMo7kvAKAY"
      },
      "execution_count": null,
      "outputs": []
    },
    {
      "cell_type": "code",
      "source": [
        "hyperparameters = hyperparameters.retrieve_default(model_id=model_id, model_version=model_version)\n",
        "hyperparameters"
      ],
      "metadata": {
        "id": "C0WEUM_vdLzw"
      },
      "execution_count": null,
      "outputs": []
    },
    {
      "cell_type": "code",
      "source": [
        "hyperparameters[\"epochs\"] = \"5\""
      ],
      "metadata": {
        "id": "OMVL5eJ8AdSW"
      },
      "execution_count": null,
      "outputs": []
    },
    {
      "cell_type": "code",
      "source": [
        "print(hyperparameters)"
      ],
      "metadata": {
        "id": "0Y964-7CAdU-"
      },
      "execution_count": null,
      "outputs": []
    },
    {
      "cell_type": "code",
      "source": [
        "use_amt = True\n",
        "use_amt"
      ],
      "metadata": {
        "id": "B38CwruMdL2x"
      },
      "execution_count": null,
      "outputs": []
    },
    {
      "cell_type": "code",
      "source": [
        "metric_definitions_per_model = {\n",
        "    \"tensorflow\": {\n",
        "        \"metrics\": [{\"Name\": \"val_accuracy\", \"Regex\": \"val_accuracy: ([0-9\\\\.]+)\"}],\n",
        "        \"type\": \"Maximize\"},\n",
        "    \"pytorch\": {\n",
        "        \"metrics\": [{\"Name\": \"val_accuracy\", \"Regex\": \"val Acc: ([0-9\\\\.]+)\"}],\n",
        "        \"type\": \"Maximize\"}}\n",
        "metric_definitions_per_model"
      ],
      "metadata": {
        "id": "2IT72kwjAk_P"
      },
      "execution_count": null,
      "outputs": []
    },
    {
      "cell_type": "code",
      "source": [
        "hyperparameter_ranges = {\"adam-learning-rate\": ContinuousParameter(0.0001, 0.1, scaling_type=\"Logarithmic\")}\n",
        "hyperparameter_ranges"
      ],
      "metadata": {
        "id": "cZin5nL3AlB_"
      },
      "execution_count": null,
      "outputs": []
    },
    {
      "cell_type": "code",
      "source": [
        "max_jobs = 6\n",
        "max_jobs"
      ],
      "metadata": {
        "id": "tkCFjetjAlEo"
      },
      "execution_count": null,
      "outputs": []
    },
    {
      "cell_type": "code",
      "source": [
        "max_parallel_jobs = 2\n",
        "max_parallel_jobs"
      ],
      "metadata": {
        "id": "SZOpVNtHAlHX"
      },
      "execution_count": null,
      "outputs": []
    },
    {
      "cell_type": "code",
      "source": [
        "training_job_name = name_from_base(f\"jumpstart-example-{model_id}-transfer-learning\")\n",
        "training_job_name"
      ],
      "metadata": {
        "id": "47vqw1azdL6A"
      },
      "execution_count": null,
      "outputs": []
    },
    {
      "cell_type": "code",
      "source": [
        "ic_estimator = Estimator(\n",
        "    role=aws_role,\n",
        "    image_uri=train_image_uri,\n",
        "    source_dir=train_source_uri,\n",
        "    model_uri=train_model_uri,\n",
        "    entry_point=\"transfer_learning.py\",\n",
        "    instance_count=1,\n",
        "    instance_type=training_instance_type,\n",
        "    max_run=360000,\n",
        "    hyperparameters=hyperparameters,\n",
        "    output_path=s3_output_location,\n",
        "    base_job_name=training_job_name)\n",
        "ic_estimator"
      ],
      "metadata": {
        "id": "cmUBHBPAA9fH"
      },
      "execution_count": null,
      "outputs": []
    },
    {
      "cell_type": "code",
      "source": [
        "if use_amt:\n",
        "    metric_definitions = next(\n",
        "        value for key, value in metric_definitions_per_model.items() if model_id.startswith(key))\n",
        "    hp_tuner = HyperparameterTuner(\n",
        "        ic_estimator,\n",
        "        metric_definitions[\"metrics\"][0][\"Name\"],\n",
        "        hyperparameter_ranges,\n",
        "        metric_definitions[\"metrics\"],\n",
        "        max_jobs=max_jobs,\n",
        "        max_parallel_jobs=max_parallel_jobs,\n",
        "        objective_type=metric_definitions[\"type\"],\n",
        "        base_tuning_job_name=training_job_name)\n",
        "    hp_tuner.fit({\"training\": training_dataset_s3_path})\n",
        "else:\n",
        "    ic_estimator.fit({\"training\": training_dataset_s3_path}, logs=True)"
      ],
      "metadata": {
        "id": "w0OyGz6IA9iD"
      },
      "execution_count": null,
      "outputs": []
    },
    {
      "cell_type": "code",
      "source": [
        "inference_instance_type = \"ml.m5.xlarge\"\n",
        "inference_instance_type"
      ],
      "metadata": {
        "id": "Jg9lz7G0dL9S"
      },
      "execution_count": null,
      "outputs": []
    },
    {
      "cell_type": "code",
      "source": [
        "deploy_image_uri = image_uris.retrieve(\n",
        "    region=None,\n",
        "    framework=None,\n",
        "    image_scope=\"inference\",\n",
        "    model_id=model_id,\n",
        "    model_version=model_version,\n",
        "    instance_type=inference_instance_type)\n",
        "deploy_image_uri"
      ],
      "metadata": {
        "id": "g2YTJKn3BM3B"
      },
      "execution_count": null,
      "outputs": []
    },
    {
      "cell_type": "code",
      "source": [
        "deploy_source_uri = script_uris.retrieve(\n",
        "    model_id=model_id, model_version=model_version, script_scope=\"inference\")\n",
        "deploy_source_uri"
      ],
      "metadata": {
        "id": "D70-qUMeBM5p"
      },
      "execution_count": null,
      "outputs": []
    },
    {
      "cell_type": "code",
      "source": [
        "endpoint_name = name_from_base(f\"jumpstart-example-FT-{model_id}-\")\n",
        "endpoint_name"
      ],
      "metadata": {
        "id": "YZbyXn5KBNow"
      },
      "execution_count": null,
      "outputs": []
    },
    {
      "cell_type": "code",
      "source": [
        "finetuned_predictor = (hp_tuner if use_amt else ic_estimator).deploy(\n",
        "    initial_instance_count=1,\n",
        "    instance_type=inference_instance_type,\n",
        "    entry_point=\"inference.py\",\n",
        "    image_uri=deploy_image_uri,\n",
        "    source_dir=deploy_source_uri,\n",
        "    endpoint_name=endpoint_name)\n",
        "finetuned_predictor"
      ],
      "metadata": {
        "id": "JU4zZWXvBNrQ"
      },
      "execution_count": null,
      "outputs": []
    },
    {
      "cell_type": "code",
      "source": [
        "s3_bucket = f\"jumpstart-cache-prod-{aws_region}\"\n",
        "s3_bucket"
      ],
      "metadata": {
        "id": "6ElUekqidMAq"
      },
      "execution_count": null,
      "outputs": []
    },
    {
      "cell_type": "code",
      "source": [
        "key_prefix = \"training-datasets/tf_flowers\"\n",
        "key_prefix"
      ],
      "metadata": {
        "id": "q0uNpLhLBhvp"
      },
      "execution_count": null,
      "outputs": []
    },
    {
      "cell_type": "code",
      "source": [
        "def download_from_s3(images):\n",
        "    for filename, image_key in images.items():\n",
        "        boto3.client(\"s3\").download_file(s3_bucket, f\"{key_prefix}/{image_key}\", filename)"
      ],
      "metadata": {
        "id": "0bkSvN1rBhyR"
      },
      "execution_count": null,
      "outputs": []
    },
    {
      "cell_type": "code",
      "source": [
        "flower_images = {\"img1.jpg\": \"roses/10503217854_e66a804309.jpg\",\n",
        "                 \"img2.jpg\": \"sunflowers/1008566138_6927679c8a.jpg\"}\n",
        "flower_images"
      ],
      "metadata": {
        "id": "2JFrZ44YBh06"
      },
      "execution_count": null,
      "outputs": []
    },
    {
      "cell_type": "code",
      "source": [
        "download_from_s3(flower_images)"
      ],
      "metadata": {
        "id": "RrlQCcOJBlKB"
      },
      "execution_count": null,
      "outputs": []
    },
    {
      "cell_type": "code",
      "source": [
        "for image_filename in flower_images.keys():\n",
        "    with open(image_filename, \"rb\") as file:\n",
        "        img = file.read()\n",
        "    query_response = finetuned_predictor.predict(img, {\"ContentType\": \"application/x-image\", \"Accept\": \"application/json;verbose\"})\n",
        "    model_predictions = json.loads(query_response)\n",
        "    predicted_label = model_predictions[\"predicted_label\"]\n",
        "    display(HTML(f'<img src={image_filename} alt={image_filename} align=\"left\" style=\"width: 250px;\"/>'\n",
        "                 f\"<figcaption>Predicted Label: {predicted_label}</figcaption>\"))"
      ],
      "metadata": {
        "id": "V7Vrr4AOdMDY"
      },
      "execution_count": null,
      "outputs": []
    },
    {
      "cell_type": "code",
      "source": [
        "finetuned_predictor.delete_model()"
      ],
      "metadata": {
        "id": "Tp2D_XQfB4P5"
      },
      "execution_count": null,
      "outputs": []
    },
    {
      "cell_type": "code",
      "source": [
        "finetuned_predictor.delete_endpoint()"
      ],
      "metadata": {
        "id": "hLbMC9ChB4Sc"
      },
      "execution_count": null,
      "outputs": []
    },
    {
      "cell_type": "code",
      "source": [
        "if use_amt:\n",
        "    sage_client = boto3.Session().client(\"sagemaker\")\n",
        "    tuning_job_result = sage_client.describe_hyper_parameter_tuning_job(HyperParameterTuningJobName=hp_tuner._current_job_name)\n",
        "    last_training_job_name = tuning_job_result[\"BestTrainingJob\"][\"TrainingJobName\"]\n",
        "else:\n",
        "    last_training_job_name = ic_estimator._current_job_name"
      ],
      "metadata": {
        "id": "Jfo14nyjbGO5"
      },
      "execution_count": null,
      "outputs": []
    },
    {
      "cell_type": "code",
      "source": [
        "last_trained_model_path = f\"{s3_output_location}/{last_training_job_name}/output/model.tar.gz\"\n",
        "last_trained_model_path"
      ],
      "metadata": {
        "id": "4JcmwWQxCCkx"
      },
      "execution_count": null,
      "outputs": []
    },
    {
      "cell_type": "code",
      "source": [
        "incremental_train_output_prefix = \"jumpstart-example-ic-incremental-training\"\n",
        "incremental_train_output_prefix"
      ],
      "metadata": {
        "id": "dnH6bICWd6JI"
      },
      "execution_count": null,
      "outputs": []
    },
    {
      "cell_type": "code",
      "source": [
        "incremental_s3_output_location = f\"s3://{output_bucket}/{incremental_train_output_prefix}/output\"\n",
        "incremental_s3_output_location"
      ],
      "metadata": {
        "id": "2xbC4uavCEvB"
      },
      "execution_count": null,
      "outputs": []
    },
    {
      "cell_type": "code",
      "source": [
        "incremental_training_job_name = name_from_base(f\"jumpstart-example-{model_id}-incremental-training\")\n",
        "incremental_training_job_name"
      ],
      "metadata": {
        "id": "vAACRuJoYt_d"
      },
      "execution_count": null,
      "outputs": []
    },
    {
      "cell_type": "code",
      "source": [
        "incremental_train_estimator = Estimator(\n",
        "    role=aws_role,\n",
        "    image_uri=train_image_uri,\n",
        "    source_dir=train_source_uri,\n",
        "    model_uri=last_trained_model_path,\n",
        "    entry_point=\"transfer_learning.py\",\n",
        "    instance_count=1,\n",
        "    instance_type=training_instance_type,\n",
        "    max_run=360000,\n",
        "    hyperparameters=hyperparameters,\n",
        "    output_path=incremental_s3_output_location,\n",
        "    base_job_name=incremental_training_job_name)\n",
        "incremental_train_estimator"
      ],
      "metadata": {
        "id": "QxSemq1tZUvO"
      },
      "execution_count": null,
      "outputs": []
    },
    {
      "cell_type": "code",
      "source": [
        "incremental_train_estimator.fit({\"training\": training_dataset_s3_path}, logs=True)"
      ],
      "metadata": {
        "id": "n-RPMW1GY2jt"
      },
      "execution_count": null,
      "outputs": []
    },
    {
      "cell_type": "markdown",
      "source": [
        "# Semantic Segmentation"
      ],
      "metadata": {
        "id": "b-uM7XG_ZiK-"
      }
    },
    {
      "cell_type": "code",
      "source": [
        "!pip3 install sagemaker ipywidgets --upgrade --quiet\n",
        "from ipywidgets import Dropdown\n",
        "import json\n",
        "import matplotlib.image as mpimg\n",
        "from matplotlib import pyplot as plt\n",
        "import numpy as np\n",
        "from PIL import Image\n",
        "\n",
        "\n",
        "import sagemaker, boto3, json\n",
        "from sagemaker import get_execution_role\n",
        "from sagemaker import image_uris, model_uris, script_uris, hyperparameters\n",
        "from sagemaker.model import Model\n",
        "from sagemaker.predictor import Predictor\n",
        "from sagemaker.utils import name_from_base\n",
        "\n",
        "from sagemaker import image_uris, model_uris, script_uris\n",
        "from sagemaker import hyperparameters\n",
        "from sagemaker.tuner import ContinuousParameter\n",
        "from sagemaker.estimator import Estimator\n",
        "from sagemaker.utils import name_from_base\n",
        "from sagemaker.tuner import HyperparameterTuner"
      ],
      "metadata": {
        "id": "3Wl2E6o0Zkcf"
      },
      "execution_count": null,
      "outputs": []
    },
    {
      "cell_type": "code",
      "source": [
        "aws_role = get_execution_role()\n",
        "aws_region = boto3.Session().region_name\n",
        "sess = sagemaker.Session()"
      ],
      "metadata": {
        "id": "BI3gVN5hZm2O"
      },
      "execution_count": null,
      "outputs": []
    },
    {
      "cell_type": "code",
      "source": [
        "boto3.client(\"s3\").download_file(f\"jumpstart-cache-prod-{aws_region}\", \"models_manifest.json\", \"models_manifest.json\")"
      ],
      "metadata": {
        "id": "Rjh4KKB0Zm4_"
      },
      "execution_count": null,
      "outputs": []
    },
    {
      "cell_type": "code",
      "source": [
        "with open(\"models_manifest.json\", \"rb\") as json_file:\n",
        "    model_list = json.load(json_file)\n",
        "model_list"
      ],
      "metadata": {
        "id": "9r1i1B2bcHKB"
      },
      "execution_count": null,
      "outputs": []
    },
    {
      "cell_type": "code",
      "source": [
        "semseg_models = []\n",
        "semseg_models"
      ],
      "metadata": {
        "id": "ke4c0vJlcHM5"
      },
      "execution_count": null,
      "outputs": []
    },
    {
      "cell_type": "code",
      "source": [
        "for model in model_list:\n",
        "    model_id = model[\"model_id\"]\n",
        "    if \"-semseg-\" in model_id and model_id not in semseg_models:\n",
        "        semseg_models.append(model_id)"
      ],
      "metadata": {
        "id": "v68dzvv3cHPu"
      },
      "execution_count": null,
      "outputs": []
    },
    {
      "cell_type": "code",
      "source": [
        "print(f\"\\033[38;5;2mChose a model: \\033[0;0m\\n\")"
      ],
      "metadata": {
        "id": "O1SwhQvFcHSF"
      },
      "execution_count": null,
      "outputs": []
    },
    {
      "cell_type": "code",
      "source": [
        "model_dropdown = Dropdown(\n",
        "    options=semseg_models,\n",
        "    value=\"mxnet-semseg-fcn-resnet50-ade\",\n",
        "    description=\"\",\n",
        "    style={\"description_width\": \"initial\"},\n",
        "    layout={\"width\": \"max-content\"})\n",
        "model_dropdown"
      ],
      "metadata": {
        "id": "VLincHB3cHUj"
      },
      "execution_count": null,
      "outputs": []
    },
    {
      "cell_type": "code",
      "source": [
        "display(model_dropdown)with open(\"models_manifest.json\", \"rb\") as json_file:\n",
        "    model_list = json.load(json_file)"
      ],
      "metadata": {
        "id": "32x9_9x1dGvV"
      },
      "execution_count": null,
      "outputs": []
    },
    {
      "cell_type": "code",
      "source": [
        "model_id, model_version = model_dropdown.value, \"*\""
      ],
      "metadata": {
        "id": "2zaiTNwydGyg"
      },
      "execution_count": null,
      "outputs": []
    },
    {
      "cell_type": "code",
      "source": [
        "model_id"
      ],
      "metadata": {
        "id": "j72G9w03dHI9"
      },
      "execution_count": null,
      "outputs": []
    },
    {
      "cell_type": "code",
      "source": [
        "model_version"
      ],
      "metadata": {
        "id": "LMmnmDcbdHLp"
      },
      "execution_count": null,
      "outputs": []
    },
    {
      "cell_type": "code",
      "source": [
        "endpoint_name = name_from_base(f\"jumpstart-example-infer-{model_id}\")\n",
        "endpoint_name"
      ],
      "metadata": {
        "id": "BttgHYlAZm7u"
      },
      "execution_count": null,
      "outputs": []
    },
    {
      "cell_type": "code",
      "source": [
        "inference_instance_type = \"ml.p2.xlarge\"\n",
        "inference_instance_type"
      ],
      "metadata": {
        "id": "b8fwj0E2cIHi"
      },
      "execution_count": null,
      "outputs": []
    },
    {
      "cell_type": "code",
      "source": [
        "deploy_image_uri = image_uris.retrieve(\n",
        "    region=None,\n",
        "    framework=None,\n",
        "    image_scope=\"inference\",\n",
        "    model_id=model_id,\n",
        "    model_version=model_version,\n",
        "    instance_type=inference_instance_type)\n",
        "deploy_image_uri"
      ],
      "metadata": {
        "id": "trkgWio8cIKB"
      },
      "execution_count": null,
      "outputs": []
    },
    {
      "cell_type": "code",
      "source": [
        "deploy_source_uri = script_uris.retrieve(model_id=model_id, model_version=model_version, script_scope=\"inference\")\n",
        "deploy_source_uri"
      ],
      "metadata": {
        "id": "Xe_YdgmIdYz1"
      },
      "execution_count": null,
      "outputs": []
    },
    {
      "cell_type": "code",
      "source": [
        "base_model_uri = model_uris.retrieve(model_id=model_id, model_version=model_version, model_scope=\"inference\")\n",
        "base_model_uri"
      ],
      "metadata": {
        "id": "NBnR-9XDdY3P"
      },
      "execution_count": null,
      "outputs": []
    },
    {
      "cell_type": "code",
      "source": [
        "model = Model(\n",
        "    image_uri=deploy_image_uri,\n",
        "    source_dir=deploy_source_uri,\n",
        "    model_data=base_model_uri,\n",
        "    entry_point=\"inference.py\",\n",
        "    role=aws_role,\n",
        "    predictor_cls=Predictor,\n",
        "    name=endpoint_name)\n",
        "model"
      ],
      "metadata": {
        "id": "QRp9miVHdY89"
      },
      "execution_count": null,
      "outputs": []
    },
    {
      "cell_type": "code",
      "source": [
        "base_model_predictor = model.deploy(\n",
        "    initial_instance_count=1,\n",
        "    instance_type=inference_instance_type,\n",
        "    predictor_cls=Predictor,\n",
        "    endpoint_name=endpoint_name)\n",
        "base_model_predictor"
      ],
      "metadata": {
        "id": "z8kADjEOdZAb"
      },
      "execution_count": null,
      "outputs": []
    },
    {
      "cell_type": "code",
      "source": [
        "jumpstart_assets_s3_bucket = f\"jumpstart-cache-prod-{aws_region}\"\n",
        "jumpstart_assets_s3_bucket"
      ],
      "metadata": {
        "id": "TVi6Un_pcJB1"
      },
      "execution_count": null,
      "outputs": []
    },
    {
      "cell_type": "code",
      "source": [
        "pedestrian_img_key_prefix = \"inference-notebook-assets\"\n",
        "pedestrian_img_key_prefix"
      ],
      "metadata": {
        "id": "VrZ2mdJRduKt"
      },
      "execution_count": null,
      "outputs": []
    },
    {
      "cell_type": "code",
      "source": [
        "pedestrian_img = \"img_pedestrian.png\"\n",
        "pedestrian_img"
      ],
      "metadata": {
        "id": "xYJW6_CjduNq"
      },
      "execution_count": null,
      "outputs": []
    },
    {
      "cell_type": "code",
      "source": [
        "boto3.client(\"s3\").download_file(jumpstart_assets_s3_bucket, f\"{pedestrian_img_key_prefix}/{pedestrian_img}\", pedestrian_img)"
      ],
      "metadata": {
        "id": "lsRWS0MNcJD4"
      },
      "execution_count": null,
      "outputs": []
    },
    {
      "cell_type": "code",
      "source": [
        "def query(model_predictor, image_file_name):\n",
        "    \"\"\"Query the model predictor.\"\"\"\n",
        "\n",
        "    with open(image_file_name, \"rb\") as file:\n",
        "        input_img_rb = file.read()\n",
        "\n",
        "    query_response = model_predictor.predict(\n",
        "        input_img_rb,\n",
        "        {\n",
        "            \"ContentType\": \"application/x-image\",\n",
        "            \"Accept\": \"application/json;verbose\",\n",
        "        },\n",
        "    )\n",
        "    return query_response"
      ],
      "metadata": {
        "id": "pCjrGMQ2cJta"
      },
      "execution_count": null,
      "outputs": []
    },
    {
      "cell_type": "code",
      "source": [
        "def parse_response(query_response):\n",
        "    \"\"\"Parse response and return predictions as well as the set of all labels and object labels present in the image.\"\"\"\n",
        "    response_dict = json.loads(query_response)\n",
        "    return response_dict[\"predictions\"], response_dict[\"labels\"], response_dict[\"image_labels\"]"
      ],
      "metadata": {
        "id": "U_R-KRR2d5wO"
      },
      "execution_count": null,
      "outputs": []
    },
    {
      "cell_type": "code",
      "source": [
        "query_response = query(base_model_predictor, pedestrian_img)\n",
        "query_response"
      ],
      "metadata": {
        "id": "eGwD_MDFd-aJ"
      },
      "execution_count": null,
      "outputs": []
    },
    {
      "cell_type": "code",
      "source": [
        "predictions, labels, image_labels = parse_response(query_response)\n"
      ],
      "metadata": {
        "id": "gB0-41TYd-dJ"
      },
      "execution_count": null,
      "outputs": []
    },
    {
      "cell_type": "code",
      "source": [
        "predictions"
      ],
      "metadata": {
        "id": "VIaCvEZ7eEGt"
      },
      "execution_count": null,
      "outputs": []
    },
    {
      "cell_type": "code",
      "source": [
        "labels"
      ],
      "metadata": {
        "id": "MfD8_lDseEJt"
      },
      "execution_count": null,
      "outputs": []
    },
    {
      "cell_type": "code",
      "source": [
        "image_labels"
      ],
      "metadata": {
        "id": "AJshqhfIeEMQ"
      },
      "execution_count": null,
      "outputs": []
    },
    {
      "cell_type": "code",
      "source": [
        "print(\"Objects present in the picture:\", image_labels)"
      ],
      "metadata": {
        "id": "2ARTxEmpd-gz"
      },
      "execution_count": null,
      "outputs": []
    },
    {
      "cell_type": "code",
      "source": [
        "def getvocpalette(num_cls):\n",
        "    \"\"\"Get a color palette.\"\"\"\n",
        "\n",
        "    n = num_cls\n",
        "    palette = [0] * (n * 3)\n",
        "    for j in range(0, n):\n",
        "        lab = j\n",
        "        palette[j * 3 + 0] = 0\n",
        "        palette[j * 3 + 1] = 0\n",
        "        palette[j * 3 + 2] = 0\n",
        "        i = 0\n",
        "        while lab > 0:\n",
        "            palette[j * 3 + 0] |= ((lab >> 0) & 1) << (7 - i)\n",
        "            palette[j * 3 + 1] |= ((lab >> 1) & 1) << (7 - i)\n",
        "            palette[j * 3 + 2] |= ((lab >> 2) & 1) << (7 - i)\n",
        "            i = i + 1\n",
        "            lab >>= 3\n",
        "    return palette"
      ],
      "metadata": {
        "id": "QWOGimGrcLVE"
      },
      "execution_count": null,
      "outputs": []
    },
    {
      "cell_type": "code",
      "source": [
        "def display_predictions(predictions):\n",
        "    palette = getvocpalette(256)\n",
        "    npimg = np.array(predictions)\n",
        "    npimg[npimg == -1] = 255\n",
        "    mask = Image.fromarray(npimg.astype(\"uint8\"))\n",
        "    mask.putpalette(palette)\n",
        "    plt.imshow(mask)"
      ],
      "metadata": {
        "id": "QBYKQniAZnJ4"
      },
      "execution_count": null,
      "outputs": []
    },
    {
      "cell_type": "code",
      "source": [
        "display_predictions(predictions)"
      ],
      "metadata": {
        "id": "Ayyo4yIrcL99"
      },
      "execution_count": null,
      "outputs": []
    },
    {
      "cell_type": "code",
      "source": [
        "base_model_predictor.delete_model()"
      ],
      "metadata": {
        "id": "aBMs1QB-cMCw"
      },
      "execution_count": null,
      "outputs": []
    },
    {
      "cell_type": "code",
      "source": [
        "base_model_predictor.delete_endpoint()"
      ],
      "metadata": {
        "id": "Pk9pwCS2cMFl"
      },
      "execution_count": null,
      "outputs": []
    },
    {
      "cell_type": "code",
      "source": [
        "train_scope = \"training\"\n",
        "train_scope"
      ],
      "metadata": {
        "id": "toOWYqHvcNIS"
      },
      "execution_count": null,
      "outputs": []
    },
    {
      "cell_type": "code",
      "source": [
        "training_instance_type = \"ml.p3.2xlarge\"\n",
        "training_instance_type"
      ],
      "metadata": {
        "id": "7frq5JjaeYL6"
      },
      "execution_count": null,
      "outputs": []
    },
    {
      "cell_type": "code",
      "source": [
        "train_image_uri = image_uris.retrieve(\n",
        "    region=None,\n",
        "    framework=None,\n",
        "    model_id=model_id,\n",
        "    model_version=model_version,\n",
        "    image_scope=train_scope,\n",
        "    instance_type=training_instance_type)\n",
        "train_image_uri"
      ],
      "metadata": {
        "id": "9r1abnjEeYOw"
      },
      "execution_count": null,
      "outputs": []
    },
    {
      "cell_type": "code",
      "source": [
        "train_source_uri = script_uris.retrieve(model_id=model_id, model_version=model_version, script_scope=train_scope)\n",
        "train_source_uri"
      ],
      "metadata": {
        "id": "sZsCQ7YqeYTu"
      },
      "execution_count": null,
      "outputs": []
    },
    {
      "cell_type": "code",
      "source": [
        "train_model_uri = model_uris.retrieve(model_id=model_id, model_version=model_version, model_scope=train_scope)\n",
        "train_model_uri"
      ],
      "metadata": {
        "id": "bdpwF5xoeYXR"
      },
      "execution_count": null,
      "outputs": []
    },
    {
      "cell_type": "code",
      "source": [
        "training_data_bucket = f\"jumpstart-cache-prod-{aws_region}\"\n",
        "training_data_bucket"
      ],
      "metadata": {
        "id": "DfRIzUIUZnSg"
      },
      "execution_count": null,
      "outputs": []
    },
    {
      "cell_type": "code",
      "source": [
        "training_data_prefix = \"training-datasets/PennFudanPed_SemSeg/\"\n",
        "training_data_prefix"
      ],
      "metadata": {
        "id": "yYBdK4HOcNnS"
      },
      "execution_count": null,
      "outputs": []
    },
    {
      "cell_type": "code",
      "source": [
        "training_dataset_s3_path = f\"s3://{training_data_bucket}/{training_data_prefix}\"\n",
        "training_dataset_s3_path"
      ],
      "metadata": {
        "id": "mXyXPPO-cNp3"
      },
      "execution_count": null,
      "outputs": []
    },
    {
      "cell_type": "code",
      "source": [
        "output_bucket = sess.default_bucket()\n",
        "output_bucket"
      ],
      "metadata": {
        "id": "vn7PTlcPcNuL"
      },
      "execution_count": null,
      "outputs": []
    },
    {
      "cell_type": "code",
      "source": [
        "output_prefix = \"jumpstart-example-semseg-training\"\n",
        "output_prefix"
      ],
      "metadata": {
        "id": "6quxjfv0cNyy"
      },
      "execution_count": null,
      "outputs": []
    },
    {
      "cell_type": "code",
      "source": [
        "s3_output_location = f\"s3://{output_bucket}/{output_prefix}/output\"\n",
        "s3_output_location"
      ],
      "metadata": {
        "id": "fmS6Loete4Ls"
      },
      "execution_count": null,
      "outputs": []
    },
    {
      "cell_type": "code",
      "source": [
        "hyperparameters = hyperparameters.retrieve_default(model_id=model_id, model_version=model_version)\n",
        "hyperparameters"
      ],
      "metadata": {
        "id": "qXuVtGcUZnVT"
      },
      "execution_count": null,
      "outputs": []
    },
    {
      "cell_type": "code",
      "source": [
        "hyperparameters[\"epochs\"] = \"4\""
      ],
      "metadata": {
        "id": "2lv9MMhrcOWF"
      },
      "execution_count": null,
      "outputs": []
    },
    {
      "cell_type": "code",
      "source": [
        "print(hyperparameters)"
      ],
      "metadata": {
        "id": "__IjShWOcOZD"
      },
      "execution_count": null,
      "outputs": []
    },
    {
      "cell_type": "code",
      "source": [
        "use_amt = True\n",
        "use_amt"
      ],
      "metadata": {
        "id": "mCDcAU16cObc"
      },
      "execution_count": null,
      "outputs": []
    },
    {
      "cell_type": "code",
      "source": [
        "metric_definitions_per_model = {\n",
        "    \"mxnet\": {\"metrics\": [{\"Name\": \"val_loss\", \"Regex\": \"validation loss=([0-9\\\\.]+)\"}],\n",
        "              \"type\": \"Minimize\"}}\n",
        "metric_definitions_per_model"
      ],
      "metadata": {
        "id": "azqzUXJJcOe7"
      },
      "execution_count": null,
      "outputs": []
    },
    {
      "cell_type": "code",
      "source": [
        "hyperparameter_ranges = {\"adam-learning-rate\": ContinuousParameter(0.0001, 0.1, scaling_type=\"Logarithmic\")}\n",
        "hyperparameter_ranges"
      ],
      "metadata": {
        "id": "WVnrD8OzaKan"
      },
      "execution_count": null,
      "outputs": []
    },
    {
      "cell_type": "code",
      "source": [
        "max_jobs = 6\n",
        "max_jobs"
      ],
      "metadata": {
        "id": "8svtOLXxcPFS"
      },
      "execution_count": null,
      "outputs": []
    },
    {
      "cell_type": "code",
      "source": [
        "max_parallel_jobs = 2\n",
        "max_parallel_jobs"
      ],
      "metadata": {
        "id": "kBLDxRbBcPWy"
      },
      "execution_count": null,
      "outputs": []
    },
    {
      "cell_type": "code",
      "source": [
        "training_job_name = name_from_base(f\"jumpstart-example-{model_id}-transfer-learning\")\n",
        "training_job_name"
      ],
      "metadata": {
        "id": "_T6xq1oycQL8"
      },
      "execution_count": null,
      "outputs": []
    },
    {
      "cell_type": "code",
      "source": [
        "semseg_estimator = Estimator(\n",
        "    role=aws_role,\n",
        "    image_uri=train_image_uri,\n",
        "    source_dir=train_source_uri,\n",
        "    model_uri=train_model_uri,\n",
        "    entry_point=\"transfer_learning.py\",  # Entry-point file in source_dir and present in train_source_uri.\n",
        "    instance_count=1,\n",
        "    instance_type=training_instance_type,\n",
        "    max_run=360000,\n",
        "    hyperparameters=hyperparameters,\n",
        "    output_path=s3_output_location,\n",
        "    base_job_name=training_job_name)\n",
        "semseg_estimator"
      ],
      "metadata": {
        "id": "Twt7G6oQiMZ5"
      },
      "execution_count": null,
      "outputs": []
    },
    {
      "cell_type": "code",
      "source": [
        "if use_amt:\n",
        "    metric_definitions = next(\n",
        "        value for key, value in metric_definitions_per_model.items() if model_id.startswith(key))\n",
        "    hp_tuner = HyperparameterTuner(\n",
        "        semseg_estimator,\n",
        "        metric_definitions[\"metrics\"][0][\"Name\"],\n",
        "        hyperparameter_ranges,\n",
        "        metric_definitions[\"metrics\"],\n",
        "        max_jobs=max_jobs,\n",
        "        max_parallel_jobs=max_parallel_jobs,\n",
        "        objective_type=metric_definitions[\"type\"],\n",
        "        base_tuning_job_name=training_job_name)\n",
        "    hp_tuner.fit({\"training\": training_dataset_s3_path})\n",
        "else:\n",
        "    semseg_estimator.fit({\"training\": training_dataset_s3_path}, logs=True)"
      ],
      "metadata": {
        "id": "wwCyPcLZiMc5"
      },
      "execution_count": null,
      "outputs": []
    },
    {
      "cell_type": "code",
      "source": [
        "inference_instance_type = \"ml.p2.xlarge\"\n",
        "inference_instance_type"
      ],
      "metadata": {
        "id": "puLlJplziMfi"
      },
      "execution_count": null,
      "outputs": []
    },
    {
      "cell_type": "code",
      "source": [
        "deploy_image_uri = image_uris.retrieve(\n",
        "    region=None,\n",
        "    framework=None,\n",
        "    image_scope=\"inference\",\n",
        "    model_id=model_id,\n",
        "    model_version=model_version,\n",
        "    instance_type=inference_instance_type)\n",
        "deploy_image_uri"
      ],
      "metadata": {
        "id": "B2abImg5iMh0"
      },
      "execution_count": null,
      "outputs": []
    },
    {
      "cell_type": "code",
      "source": [
        "deploy_source_uri = script_uris.retrieve(model_id=model_id, model_version=model_version, script_scope=\"inference\")\n",
        "deploy_source_uri"
      ],
      "metadata": {
        "id": "FUueYZmiaKfv"
      },
      "execution_count": null,
      "outputs": []
    },
    {
      "cell_type": "code",
      "source": [
        "endpoint_name = name_from_base(f\"jumpstart-example-FT-{model_id}-\")\n",
        "endpoint_name"
      ],
      "metadata": {
        "id": "I1hexHG_cQ5a"
      },
      "execution_count": null,
      "outputs": []
    },
    {
      "cell_type": "code",
      "source": [
        "finetuned_predictor = (hp_tuner if use_amt else semseg_estimator).deploy(\n",
        "    initial_instance_count=1,\n",
        "    instance_type=inference_instance_type,\n",
        "    entry_point=\"inference.py\",\n",
        "    image_uri=deploy_image_uri,\n",
        "    source_dir=deploy_source_uri,\n",
        "    endpoint_name=endpoint_name)\n",
        "finetuned_predictor"
      ],
      "metadata": {
        "id": "1mVOn6aBcQ8Y"
      },
      "execution_count": null,
      "outputs": []
    },
    {
      "cell_type": "code",
      "source": [
        "jumpstart_assets_bucket = f\"jumpstart-cache-prod-{aws_region}\"\n",
        "jumpstart_assets_bucket"
      ],
      "metadata": {
        "id": "bequswgccSB1"
      },
      "execution_count": null,
      "outputs": []
    },
    {
      "cell_type": "code",
      "source": [
        "pedestrian_image_key = \"training-datasets/PennFudanPed_SemSeg/images\"\n",
        "pedestrian_image_key"
      ],
      "metadata": {
        "id": "oWqDT-UWcSE0"
      },
      "execution_count": null,
      "outputs": []
    },
    {
      "cell_type": "code",
      "source": [
        "pedestrian_image_file_name = \"FudanPed00001.png\"\n",
        "pedestrian_image_file_name"
      ],
      "metadata": {
        "id": "zI7_MjNecSHs"
      },
      "execution_count": null,
      "outputs": []
    },
    {
      "cell_type": "code",
      "source": [
        "boto3.client(\"s3\").download_file(jumpstart_assets_bucket,f\"{pedestrian_image_key}/{pedestrian_image_file_name}\",pedestrian_image_file_name)"
      ],
      "metadata": {
        "id": "hTdI5YJOcSKz"
      },
      "execution_count": null,
      "outputs": []
    },
    {
      "cell_type": "code",
      "source": [
        "query_response = query(finetuned_predictor, pedestrian_img)\n",
        "query_response"
      ],
      "metadata": {
        "id": "0-R8LIpzcTB4"
      },
      "execution_count": null,
      "outputs": []
    },
    {
      "cell_type": "code",
      "source": [
        "predictions, labels, image_labels = parse_response(query_response)"
      ],
      "metadata": {
        "id": "6Q-dH_i-cTE3"
      },
      "execution_count": null,
      "outputs": []
    },
    {
      "cell_type": "code",
      "source": [
        "predictions"
      ],
      "metadata": {
        "id": "Dq7AZFj7kF3E"
      },
      "execution_count": null,
      "outputs": []
    },
    {
      "cell_type": "code",
      "source": [
        "labels"
      ],
      "metadata": {
        "id": "4J76KLnTkF5z"
      },
      "execution_count": null,
      "outputs": []
    },
    {
      "cell_type": "code",
      "source": [
        "image_labels"
      ],
      "metadata": {
        "id": "8d3PqxddkGQa"
      },
      "execution_count": null,
      "outputs": []
    },
    {
      "cell_type": "code",
      "source": [
        "display_predictions(predictions)"
      ],
      "metadata": {
        "id": "0R4AAOQJaKoK"
      },
      "execution_count": null,
      "outputs": []
    },
    {
      "cell_type": "code",
      "source": [
        "finetuned_predictor.delete_model()"
      ],
      "metadata": {
        "id": "BObuz5VJcT4F"
      },
      "execution_count": null,
      "outputs": []
    },
    {
      "cell_type": "code",
      "source": [
        "finetuned_predictor.delete_endpoint()"
      ],
      "metadata": {
        "id": "tiFXjlPraKrB"
      },
      "execution_count": null,
      "outputs": []
    },
    {
      "cell_type": "markdown",
      "source": [
        "# Image Embedding"
      ],
      "metadata": {
        "id": "F6ZY0eThapTh"
      }
    },
    {
      "cell_type": "code",
      "source": [
        "!pip3 install sagemaker ipywidgets --upgrade --quiet\n",
        "\n",
        "import sagemaker, boto3, json\n",
        "from ipywidgets import Dropdown\n",
        "from IPython.core.display import HTML\n",
        "\n",
        "from sagemaker import image_uris, model_uris, script_uris, hyperparameters\n",
        "from sagemaker.model import Model\n",
        "from sagemaker.predictor import Predictor\n",
        "from sagemaker.utils import name_from_base\n",
        "\n",
        "from sagemaker import get_execution_role"
      ],
      "metadata": {
        "id": "wL-oPI_maKtx"
      },
      "execution_count": null,
      "outputs": []
    },
    {
      "cell_type": "code",
      "source": [
        "aws_role = get_execution_role()\n",
        "aws_region = boto3.Session().region_name\n",
        "sess = sagemaker.Session()"
      ],
      "metadata": {
        "id": "7Wjg7x6PaKyK"
      },
      "execution_count": null,
      "outputs": []
    },
    {
      "cell_type": "code",
      "source": [
        "boto3.client(\"s3\").download_file(f\"jumpstart-cache-prod-{aws_region}\", \"models_manifest.json\", \"models_manifest.json\")"
      ],
      "metadata": {
        "id": "NFXuIz4qaK1D"
      },
      "execution_count": null,
      "outputs": []
    },
    {
      "cell_type": "code",
      "source": [
        "with open(\"models_manifest.json\", \"rb\") as json_file:\n",
        "    model_list = json.load(json_file)\n",
        "model_list"
      ],
      "metadata": {
        "id": "PJN71E-bcVlc"
      },
      "execution_count": null,
      "outputs": []
    },
    {
      "cell_type": "code",
      "source": [
        "image_embedding_models = []\n",
        "image_embedding_models"
      ],
      "metadata": {
        "id": "BZ4IjUA9kZ6z"
      },
      "execution_count": null,
      "outputs": []
    },
    {
      "cell_type": "code",
      "source": [
        "for model in model_list:\n",
        "    model_id = model[\"model_id\"]\n",
        "    if \"-icembedding-\" in model_id and model_id not in image_embedding_models:\n",
        "        image_embedding_models.append(model_id)"
      ],
      "metadata": {
        "id": "_Fir0tyccVoF"
      },
      "execution_count": null,
      "outputs": []
    },
    {
      "cell_type": "code",
      "source": [
        "model_dropdown = Dropdown(\n",
        "    options=image_embedding_models,\n",
        "    value=\"tensorflow-icembedding-bit-m-r101x1-ilsvrc2012-featurevector-1\",\n",
        "    description=\"Select a model\",\n",
        "    style={\"description_width\": \"initial\"},\n",
        "    layout={\"width\": \"max-content\"})\n",
        "model_dropdown"
      ],
      "metadata": {
        "id": "KYOGkTpscVqY"
      },
      "execution_count": null,
      "outputs": []
    },
    {
      "cell_type": "code",
      "source": [
        "display(model_dropdown)"
      ],
      "metadata": {
        "id": "2tU_czNScVtT"
      },
      "execution_count": null,
      "outputs": []
    },
    {
      "cell_type": "code",
      "source": [
        "model_id, model_version = model_dropdown.value, \"*\""
      ],
      "metadata": {
        "id": "G8ZvXy7-cVv-"
      },
      "execution_count": null,
      "outputs": []
    },
    {
      "cell_type": "code",
      "source": [
        "model_id"
      ],
      "metadata": {
        "id": "Aj5bcuNsaK4K"
      },
      "execution_count": null,
      "outputs": []
    },
    {
      "cell_type": "code",
      "source": [
        "model_version"
      ],
      "metadata": {
        "id": "b6mR5aorknM0"
      },
      "execution_count": null,
      "outputs": []
    },
    {
      "cell_type": "code",
      "source": [
        "endpoint_name = name_from_base(f\"jumpstart-example-infer-{model_id}\")\n",
        "endpoint_name"
      ],
      "metadata": {
        "id": "QO4oxLKTcW2G"
      },
      "execution_count": null,
      "outputs": []
    },
    {
      "cell_type": "code",
      "source": [
        "inference_instance_type = \"ml.p2.xlarge\"\n",
        "inference_instance_type"
      ],
      "metadata": {
        "id": "FvVR65HzkrHz"
      },
      "execution_count": null,
      "outputs": []
    },
    {
      "cell_type": "code",
      "source": [
        "deploy_image_uri = image_uris.retrieve(\n",
        "    region=None,\n",
        "    framework=None,\n",
        "    image_scope=\"inference\",\n",
        "    model_id=model_id,\n",
        "    model_version=model_version,\n",
        "    instance_type=inference_instance_type)\n",
        "deploy_image_uri"
      ],
      "metadata": {
        "id": "nYxWXyFUkrKe"
      },
      "execution_count": null,
      "outputs": []
    },
    {
      "cell_type": "code",
      "source": [
        "deploy_source_uri = script_uris.retrieve(model_id=model_id, model_version=model_version, script_scope=\"inference\")\n",
        "deploy_source_uri"
      ],
      "metadata": {
        "id": "B1TdLCmIkxSj"
      },
      "execution_count": null,
      "outputs": []
    },
    {
      "cell_type": "code",
      "source": [
        "model_uri = model_uris.retrieve(model_id=model_id, model_version=model_version, model_scope=\"inference\")\n",
        "model_uri"
      ],
      "metadata": {
        "id": "jXfC1tBtkxVW"
      },
      "execution_count": null,
      "outputs": []
    },
    {
      "cell_type": "code",
      "source": [
        "model = Model(\n",
        "    image_uri=deploy_image_uri,\n",
        "    source_dir=deploy_source_uri,\n",
        "    model_data=model_uri,\n",
        "    entry_point=\"inference.py\",\n",
        "    role=aws_role,\n",
        "    predictor_cls=Predictor,\n",
        "    name=endpoint_name)\n",
        "model"
      ],
      "metadata": {
        "id": "RLfnu80Klw8e"
      },
      "execution_count": null,
      "outputs": []
    },
    {
      "cell_type": "code",
      "source": [
        "model_predictor = model.deploy(\n",
        "    initial_instance_count=1,\n",
        "    instance_type=inference_instance_type,\n",
        "    predictor_cls=Predictor,\n",
        "    endpoint_name=endpoint_name)\n",
        "model_predictor"
      ],
      "metadata": {
        "id": "x_lsIqqwaK-K"
      },
      "execution_count": null,
      "outputs": []
    },
    {
      "cell_type": "code",
      "source": [
        "region = boto3.Session().region_name\n",
        "region"
      ],
      "metadata": {
        "id": "It4RaQTJcXcL"
      },
      "execution_count": null,
      "outputs": []
    },
    {
      "cell_type": "code",
      "source": [
        "s3_bucket = f\"jumpstart-cache-prod-{region}\"\n",
        "s3_bucket"
      ],
      "metadata": {
        "id": "U87dkKWVcXfD"
      },
      "execution_count": null,
      "outputs": []
    },
    {
      "cell_type": "code",
      "source": [
        "key_prefix = \"inference-notebook-assets\"\n",
        "key_prefix"
      ],
      "metadata": {
        "id": "UsFBi-socXhW"
      },
      "execution_count": null,
      "outputs": []
    },
    {
      "cell_type": "code",
      "source": [
        "s3 = boto3.client(\"s3\")\n",
        "s3"
      ],
      "metadata": {
        "id": "wdZoDEVzvyDm"
      },
      "execution_count": null,
      "outputs": []
    },
    {
      "cell_type": "code",
      "source": [
        "def download_from_s3(key_filenames):\n",
        "    for key_filename in key_filenames:\n",
        "        s3.download_file(s3_bucket, f\"{key_prefix}/{key_filename}\", key_filename)"
      ],
      "metadata": {
        "id": "sgQNlw7qcXkI"
      },
      "execution_count": null,
      "outputs": []
    },
    {
      "cell_type": "code",
      "source": [
        "cat_jpg, dog_jpg = \"cat.jpg\", \"dog.jpg\""
      ],
      "metadata": {
        "id": "cFCuaEQ3v3-8"
      },
      "execution_count": null,
      "outputs": []
    },
    {
      "cell_type": "code",
      "source": [
        "cat_jpg"
      ],
      "metadata": {
        "id": "bNexMDEwv6md"
      },
      "execution_count": null,
      "outputs": []
    },
    {
      "cell_type": "code",
      "source": [
        "dog_jpg"
      ],
      "metadata": {
        "id": "XxG55wdqv6pJ"
      },
      "execution_count": null,
      "outputs": []
    },
    {
      "cell_type": "code",
      "source": [
        "download_from_s3(key_filenames=[cat_jpg, dog_jpg])"
      ],
      "metadata": {
        "id": "b-eXG0gVv5Tk"
      },
      "execution_count": null,
      "outputs": []
    },
    {
      "cell_type": "code",
      "source": [
        "def download_from_s3(key_filenames):\n",
        "    for key_filename in key_filenames:\n",
        "        s3.download_file(s3_bucket, f\"{key_prefix}/{key_filename}\", key_filename)"
      ],
      "metadata": {
        "id": "CMBnDbRfmGUt"
      },
      "execution_count": null,
      "outputs": []
    },
    {
      "cell_type": "code",
      "source": [
        "download_from_s3(key_filenames=[cat_jpg, dog_jpg])"
      ],
      "metadata": {
        "id": "Yviz6kZLmIuu"
      },
      "execution_count": null,
      "outputs": []
    },
    {
      "cell_type": "code",
      "source": [
        "def query(model_predictor, image_file_name):\n",
        "    with open(image_file_name, \"rb\") as file:\n",
        "        input_img_rb = file.read()\n",
        "    query_response = model_predictor.predict(input_img_rb,\n",
        "        {   \"ContentType\": \"application/x-image\",\n",
        "            \"Accept\": \"application/json\",\n",
        "        },)\n",
        "    return query_response"
      ],
      "metadata": {
        "id": "48ynb1d3mIxb"
      },
      "execution_count": null,
      "outputs": []
    },
    {
      "cell_type": "code",
      "source": [
        "def parse_response(query_response):\n",
        "    model_predictions = json.loads(query_response)\n",
        "    translation_text = model_predictions[\"embedding\"]\n",
        "    return translation_text"
      ],
      "metadata": {
        "id": "kQT3Ua3vcXma"
      },
      "execution_count": null,
      "outputs": []
    },
    {
      "cell_type": "code",
      "source": [
        "for img_name in [cat_jpg, dog_jpg]:\n",
        "    query_response = query(model_predictor, img_name)\n",
        "    embedding = parse_response(query_response)\n",
        "    first_5element_embeddings = \"{\" + \", \".join([str(id) for id in embedding[:5]]) + \"}\"\n",
        "    display(HTML(f'<img src={img_name} alt={img_name} align=\"left\" style=\"width: 250px;\"/>'\n",
        "                 f\"<figcaption>First-5 elements of the feature vector (embedding) are: {first_5element_embeddings}</figcaption>\"\n",
        "                 f\"<figcaption>Total length of the feature vector (embedding) is: {len(embedding)}</figcaption>\"))"
      ],
      "metadata": {
        "id": "_ef2761Aa7DB"
      },
      "execution_count": null,
      "outputs": []
    },
    {
      "cell_type": "code",
      "source": [
        "model_predictor.delete_model()"
      ],
      "metadata": {
        "id": "5sUfbMZpa7GM"
      },
      "execution_count": null,
      "outputs": []
    },
    {
      "cell_type": "code",
      "source": [
        "model_predictor.delete_endpoint()"
      ],
      "metadata": {
        "id": "M-l0UnXocb8U"
      },
      "execution_count": null,
      "outputs": []
    },
    {
      "cell_type": "markdown",
      "source": [
        "# Instant Segmentation"
      ],
      "metadata": {
        "id": "7F2qzc3NbJXp"
      }
    },
    {
      "cell_type": "code",
      "source": [
        "!pip install sagemaker ipywidgets --upgrade --quiet\n",
        "import sagemaker, boto3, json\n",
        "from sagemaker import get_execution_role\n",
        "from ipywidgets import Dropdown\n",
        "\n",
        "from sagemaker import image_uris, model_uris, script_uris, hyperparameters\n",
        "from sagemaker.model import Model\n",
        "from sagemaker.predictor import Predictor\n",
        "from sagemaker.utils import name_from_base\n",
        "\n",
        "import json\n",
        "from matplotlib import pyplot as plt\n",
        "import matplotlib.image as mpimg\n",
        "import numpy as np"
      ],
      "metadata": {
        "id": "P2F6lk8Ka7Ji"
      },
      "execution_count": null,
      "outputs": []
    },
    {
      "cell_type": "code",
      "source": [
        "aws_role = get_execution_role()\n",
        "aws_region = boto3.Session().region_name\n",
        "sess = sagemaker.Session()"
      ],
      "metadata": {
        "id": "zdgI0O06a7Mn"
      },
      "execution_count": null,
      "outputs": []
    },
    {
      "cell_type": "code",
      "source": [
        "boto3.client(\"s3\").download_file(f\"jumpstart-cache-prod-{aws_region}\", \"models_manifest.json\", \"models_manifest.json\")"
      ],
      "metadata": {
        "id": "co9UXcqya7Pg"
      },
      "execution_count": null,
      "outputs": []
    },
    {
      "cell_type": "code",
      "source": [
        "with open(\"models_manifest.json\", \"rb\") as json_file:\n",
        "    model_list = json.load(json_file)"
      ],
      "metadata": {
        "id": "spQ_cHRmwxwX"
      },
      "execution_count": null,
      "outputs": []
    },
    {
      "cell_type": "code",
      "source": [
        "is_models = []\n",
        "is_models"
      ],
      "metadata": {
        "id": "qnxoWvf9cc0k"
      },
      "execution_count": null,
      "outputs": []
    },
    {
      "cell_type": "code",
      "source": [
        "for model in model_list:\n",
        "    model_id = model[\"model_id\"]\n",
        "    if \"-is-\" in model_id and model_id not in is_models:\n",
        "        is_models.append(model_id)"
      ],
      "metadata": {
        "id": "8Y-pcfKfcc3a"
      },
      "execution_count": null,
      "outputs": []
    },
    {
      "cell_type": "code",
      "source": [
        "print(f\"\\033[38;5;2mChose a model for inference: \\033[0;0m\\n\")"
      ],
      "metadata": {
        "id": "OgyuXIlucc5x"
      },
      "execution_count": null,
      "outputs": []
    },
    {
      "cell_type": "code",
      "source": [
        "model_dropdown = Dropdown(\n",
        "    options=is_models,\n",
        "    value=\"mxnet-is-mask-rcnn-fpn-resnet101-v1d-coco\",\n",
        "    description=\"\",\n",
        "    style={\"description_width\": \"initial\"},\n",
        "    layout={\"width\": \"max-content\"})\n",
        "model_dropdown"
      ],
      "metadata": {
        "id": "266iGq98cc-O"
      },
      "execution_count": null,
      "outputs": []
    },
    {
      "cell_type": "code",
      "source": [
        "display(model_dropdown)"
      ],
      "metadata": {
        "id": "6p4RVL1scdCJ"
      },
      "execution_count": null,
      "outputs": []
    },
    {
      "cell_type": "code",
      "source": [
        "model_id, model_version = model_dropdown.value, \"*\""
      ],
      "metadata": {
        "id": "EbkAeQRRa7TC"
      },
      "execution_count": null,
      "outputs": []
    },
    {
      "cell_type": "code",
      "source": [
        "model_id"
      ],
      "metadata": {
        "id": "Mqk1irpQcdr2"
      },
      "execution_count": null,
      "outputs": []
    },
    {
      "cell_type": "code",
      "source": [
        "model_version"
      ],
      "metadata": {
        "id": "cJEy5TsQcdue"
      },
      "execution_count": null,
      "outputs": []
    },
    {
      "cell_type": "code",
      "source": [
        "endpoint_name = name_from_base(f\"jumpstart-example-infer-{model_id}\")\n",
        "endpoint_name"
      ],
      "metadata": {
        "id": "0FbAFaR5a7Vw"
      },
      "execution_count": null,
      "outputs": []
    },
    {
      "cell_type": "code",
      "source": [
        "inference_instance_type = \"ml.p2.xlarge\"\n",
        "inference_instance_type"
      ],
      "metadata": {
        "id": "rhl9SbE9cgqD"
      },
      "execution_count": null,
      "outputs": []
    },
    {
      "cell_type": "code",
      "source": [
        "deploy_image_uri = image_uris.retrieve(\n",
        "    region=None,\n",
        "    framework=None,\n",
        "    image_scope=\"inference\",\n",
        "    model_id=model_id,\n",
        "    model_version=model_version,\n",
        "    instance_type=inference_instance_type)\n",
        "deploy_image_uri"
      ],
      "metadata": {
        "id": "PWr27cbkcgs6"
      },
      "execution_count": null,
      "outputs": []
    },
    {
      "cell_type": "code",
      "source": [
        "deploy_source_uri = script_uris.retrieve(model_id=model_id, model_version=model_version, script_scope=\"inference\")\n",
        "deploy_source_uri"
      ],
      "metadata": {
        "id": "qv-g8-ACcgvy"
      },
      "execution_count": null,
      "outputs": []
    },
    {
      "cell_type": "code",
      "source": [
        "base_model_uri = model_uris.retrieve(\n",
        "    model_id=model_id, model_version=model_version, model_scope=\"inference\")\n",
        "base_model_uri"
      ],
      "metadata": {
        "id": "dECOn4X6xbG_"
      },
      "execution_count": null,
      "outputs": []
    },
    {
      "cell_type": "code",
      "source": [
        "model = Model(\n",
        "    image_uri=deploy_image_uri,\n",
        "    source_dir=deploy_source_uri,\n",
        "    model_data=base_model_uri,\n",
        "    entry_point=\"inference.py\",\n",
        "    role=aws_role,\n",
        "    predictor_cls=Predictor,\n",
        "    name=endpoint_name)\n",
        "model"
      ],
      "metadata": {
        "id": "3tlgTZu_xbJ1"
      },
      "execution_count": null,
      "outputs": []
    },
    {
      "cell_type": "code",
      "source": [
        "base_model_predictor = model.deploy(\n",
        "    initial_instance_count=1,\n",
        "    instance_type=inference_instance_type,\n",
        "    predictor_cls=Predictor,\n",
        "    endpoint_name=endpoint_name)\n",
        "base_model_predictor"
      ],
      "metadata": {
        "id": "Wx7KegZKcgyN"
      },
      "execution_count": null,
      "outputs": []
    },
    {
      "cell_type": "code",
      "source": [
        "jumpstart_assets_s3_bucket = f\"jumpstart-cache-prod-{aws_region}\"\n",
        "jumpstart_assets_s3_bucket"
      ],
      "metadata": {
        "id": "3Ke4qfZIa7ZI"
      },
      "execution_count": null,
      "outputs": []
    },
    {
      "cell_type": "code",
      "source": [
        "pedestrian_img_key_prefix = \"inference-notebook-assets\"\n",
        "pedestrian_img_key_prefix"
      ],
      "metadata": {
        "id": "QXuMXrxichfQ"
      },
      "execution_count": null,
      "outputs": []
    },
    {
      "cell_type": "code",
      "source": [
        "pedestrian_img = \"img_pedestrian.png\"\n",
        "pedestrian_img"
      ],
      "metadata": {
        "id": "N3SvBkhKchlr"
      },
      "execution_count": null,
      "outputs": []
    },
    {
      "cell_type": "code",
      "source": [
        "boto3.client(\"s3\").download_file(jumpstart_assets_s3_bucket, f\"{pedestrian_img_key_prefix}/{pedestrian_img}\", pedestrian_img)"
      ],
      "metadata": {
        "id": "XsTAv4Yjcho6"
      },
      "execution_count": null,
      "outputs": []
    },
    {
      "cell_type": "code",
      "source": [
        "def query(model_predictor, image_file_name):\n",
        "    with open(image_file_name, \"rb\") as file:\n",
        "        input_img_rb = file.read()\n",
        "    query_response = model_predictor.predict(\n",
        "        input_img_rb,\n",
        "        {   \"ContentType\": \"application/x-image\",\n",
        "            \"Accept\": \"application/json;verbose;n_predictions=2\"})\n",
        "    return query_response"
      ],
      "metadata": {
        "id": "u6Ped6vCx30x"
      },
      "execution_count": null,
      "outputs": []
    },
    {
      "cell_type": "code",
      "source": [
        "def parse_response(query_response):\n",
        "    response_dict = json.loads(query_response)\n",
        "    return (\n",
        "        response_dict[\"ids\"],\n",
        "        response_dict[\"scores\"],\n",
        "        response_dict[\"bboxes\"],\n",
        "        response_dict[\"masks\"],\n",
        "        response_dict[\"labels\"],\n",
        "        response_dict[\"image_with_masks\"])"
      ],
      "metadata": {
        "id": "V5RAEtEYx33h"
      },
      "execution_count": null,
      "outputs": []
    },
    {
      "cell_type": "code",
      "source": [
        "query_response = query(base_model_predictor, pedestrian_img)\n",
        "query_response"
      ],
      "metadata": {
        "id": "rl3h4jVla7b-"
      },
      "execution_count": null,
      "outputs": []
    },
    {
      "cell_type": "code",
      "source": [
        "ids, scores, bboxes, masks, labels, image_with_masks = parse_response(query_response)"
      ],
      "metadata": {
        "id": "qcUd2b5CciM7"
      },
      "execution_count": null,
      "outputs": []
    },
    {
      "cell_type": "code",
      "source": [
        "ids"
      ],
      "metadata": {
        "id": "Vmd6JpxJciQA"
      },
      "execution_count": null,
      "outputs": []
    },
    {
      "cell_type": "code",
      "source": [
        "scores"
      ],
      "metadata": {
        "id": "rYKPLK5wciSs"
      },
      "execution_count": null,
      "outputs": []
    },
    {
      "cell_type": "code",
      "source": [
        "bboxes"
      ],
      "metadata": {
        "id": "rdhvCQdFciVn"
      },
      "execution_count": null,
      "outputs": []
    },
    {
      "cell_type": "code",
      "source": [
        "masks"
      ],
      "metadata": {
        "id": "I73GOJITciZk"
      },
      "execution_count": null,
      "outputs": []
    },
    {
      "cell_type": "code",
      "source": [
        "labels"
      ],
      "metadata": {
        "id": "umbOTEBFa7fI"
      },
      "execution_count": null,
      "outputs": []
    },
    {
      "cell_type": "code",
      "source": [
        "image_with_masks"
      ],
      "metadata": {
        "id": "SxD4Yll4cjQ_"
      },
      "execution_count": null,
      "outputs": []
    },
    {
      "cell_type": "code",
      "source": [
        "def plot_bbox(\n",
        "    img,\n",
        "    bboxes,\n",
        "    scores=None,\n",
        "    labels=None,\n",
        "    thresh=0.5,\n",
        "    class_names=None,\n",
        "    colors=None,\n",
        "    ax=None,\n",
        "    linewidth=3.5,\n",
        "    fontsize=12,\n",
        "):\n",
        "    from matplotlib import pyplot as plt\n",
        "    import random\n",
        "    img = img.copy()\n",
        "    ax.imshow(img.astype(np.uint8))\n",
        "    colors = dict()\n",
        "    for i, bbox in enumerate(bboxes):\n",
        "        if scores.flat[i] < thresh or labels.flat[i] < 0:\n",
        "            continue\n",
        "        cls_id = int(labels.flat[i]) if labels is not None else -1\n",
        "        if cls_id not in colors:\n",
        "            if class_names is not None:\n",
        "                colors[cls_id] = plt.get_cmap(\"hsv\")(cls_id / len(class_names))\n",
        "            else:\n",
        "                colors[cls_id] = (random.random(), random.random(), random.random())\n",
        "        xmin, ymin, xmax, ymax = [int(x) for x in bbox]\n",
        "        rect = plt.Rectangle(\n",
        "            (xmin, ymin),\n",
        "            xmax - xmin,\n",
        "            ymax - ymin,\n",
        "            fill=False,\n",
        "            edgecolor=colors[cls_id],\n",
        "            linewidth=linewidth,\n",
        "        )\n",
        "        ax.add_patch(rect)\n",
        "        if class_names is not None and cls_id < len(class_names):\n",
        "            class_name = class_names[cls_id]\n",
        "        else:\n",
        "            class_name = str(cls_id) if cls_id >= 0 else \"\"\n",
        "        score = \"{:.3f}\".format(scores.flat[i]) if scores is not None else \"\"\n",
        "        if class_name or score:\n",
        "            ax.text(\n",
        "                xmin,\n",
        "                ymin - 2,\n",
        "                \"{:s} {:s}\".format(class_name, score),\n",
        "                bbox=dict(facecolor=colors[cls_id], alpha=0.5),\n",
        "                fontsize=fontsize,\n",
        "                color=\"white\",\n",
        "            )\n",
        "    return ax"
      ],
      "metadata": {
        "id": "UOBx-ugXa7hw"
      },
      "execution_count": null,
      "outputs": []
    },
    {
      "cell_type": "code",
      "source": [
        "ids, scores, bboxes, masks, image_with_masks = (\n",
        "    np.array(ids),\n",
        "    np.array(scores),\n",
        "    np.array(bboxes),\n",
        "    np.array(masks),\n",
        "    np.array(image_with_masks))"
      ],
      "metadata": {
        "id": "tTlKCLA0a7mh"
      },
      "execution_count": null,
      "outputs": []
    },
    {
      "cell_type": "code",
      "source": [
        "ids"
      ],
      "metadata": {
        "id": "VLBUpCnnyqCR"
      },
      "execution_count": null,
      "outputs": []
    },
    {
      "cell_type": "code",
      "source": [
        "scores"
      ],
      "metadata": {
        "id": "7w1i8EwPyqFQ"
      },
      "execution_count": null,
      "outputs": []
    },
    {
      "cell_type": "code",
      "source": [
        "bboxes"
      ],
      "metadata": {
        "id": "tprFpAIRyqH5"
      },
      "execution_count": null,
      "outputs": []
    },
    {
      "cell_type": "code",
      "source": [
        "masks"
      ],
      "metadata": {
        "id": "JEvqcB_pytXB"
      },
      "execution_count": null,
      "outputs": []
    },
    {
      "cell_type": "code",
      "source": [
        "image_with_masks"
      ],
      "metadata": {
        "id": "u5e-WQ8bytaI"
      },
      "execution_count": null,
      "outputs": []
    },
    {
      "cell_type": "code",
      "source": [
        "width, height = image_with_masks.shape[1], image_with_masks.shape[0]"
      ],
      "metadata": {
        "id": "THRKA5Huckxg"
      },
      "execution_count": null,
      "outputs": []
    },
    {
      "cell_type": "code",
      "source": [
        "width"
      ],
      "metadata": {
        "id": "GipANXo6yk8P"
      },
      "execution_count": null,
      "outputs": []
    },
    {
      "cell_type": "code",
      "source": [
        "height"
      ],
      "metadata": {
        "id": "F920SRk5ykRB"
      },
      "execution_count": null,
      "outputs": []
    },
    {
      "cell_type": "code",
      "source": [
        "fig = plt.figure(figsize=(20, 20))\n",
        "ax = fig.add_subplot(1, 1, 1)\n",
        "ax = plot_bbox(image_with_masks, bboxes, scores, ids, class_names=labels, ax=ax)\n",
        "plt.show()"
      ],
      "metadata": {
        "id": "2FM0bhh2ck0Y"
      },
      "execution_count": null,
      "outputs": []
    },
    {
      "cell_type": "code",
      "source": [
        "base_model_predictor.delete_model()"
      ],
      "metadata": {
        "id": "CWN-T20Eck3T"
      },
      "execution_count": null,
      "outputs": []
    },
    {
      "cell_type": "code",
      "source": [
        "base_model_predictor.delete_endpoint()"
      ],
      "metadata": {
        "id": "qzXKOHJTa7pp"
      },
      "execution_count": null,
      "outputs": []
    }
  ]
}