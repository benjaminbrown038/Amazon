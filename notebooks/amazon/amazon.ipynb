{
  "nbformat": 4,
  "nbformat_minor": 0,
  "metadata": {
    "colab": {
      "provenance": [],
      "authorship_tag": "ABX9TyMqH4H1wjwTnX0U+bANnzd1",
      "include_colab_link": true
    },
    "kernelspec": {
      "name": "python3",
      "display_name": "Python 3"
    },
    "language_info": {
      "name": "python"
    }
  },
  "cells": [
    {
      "cell_type": "markdown",
      "metadata": {
        "id": "view-in-github",
        "colab_type": "text"
      },
      "source": [
        "<a href=\"https://colab.research.google.com/github/benjaminbrown038/Amazon/blob/main/notebooks/amazon/amazon.ipynb\" target=\"_parent\"><img src=\"https://colab.research.google.com/assets/colab-badge.svg\" alt=\"Open In Colab\"/></a>"
      ]
    },
    {
      "cell_type": "markdown",
      "source": [
        "# Sagemaker\n",
        "\n",
        "- Hugging Face\n",
        "- PyTorch\n",
        "- Tensorflow"
      ],
      "metadata": {
        "id": "eSDVecTsglGb"
      }
    },
    {
      "cell_type": "markdown",
      "source": [
        "## Sagemaker"
      ],
      "metadata": {
        "id": "K_yAr6Q65xjS"
      }
    },
    {
      "cell_type": "markdown",
      "source": [
        "#### Imports"
      ],
      "metadata": {
        "id": "KVKF-sk0glSC"
      }
    },
    {
      "cell_type": "code",
      "source": [
        "%%capture\n",
        "!pip3 install sagemaker\n",
        "import logging\n",
        "import time\n",
        "\n",
        "import boto3\n",
        "\n",
        "import sagemaker\n",
        "from sagemaker.xgboost import XGBoost\n",
        "from sagemaker.experiments.run import Run\n",
        "from sagemaker.analytics import ExperimentAnalytics"
      ],
      "metadata": {
        "id": "UUeZGmrrglcC"
      },
      "execution_count": null,
      "outputs": []
    },
    {
      "cell_type": "markdown",
      "source": [
        "#### Role"
      ],
      "metadata": {
        "id": "YpTHksX2gljT"
      }
    },
    {
      "cell_type": "code",
      "source": [
        "role = sagemaker.get_execution_role()\n",
        "role"
      ],
      "metadata": {
        "id": "arqDqFHVuc3E"
      },
      "execution_count": null,
      "outputs": []
    },
    {
      "cell_type": "markdown",
      "source": [
        "#### Region"
      ],
      "metadata": {
        "id": "NJR50bDe3i9f"
      }
    },
    {
      "cell_type": "code",
      "source": [
        "region = boto3.Session().region_name\n",
        "region"
      ],
      "metadata": {
        "id": "qHyt9QQCglx6"
      },
      "execution_count": null,
      "outputs": []
    },
    {
      "cell_type": "markdown",
      "source": [
        "#### Session"
      ],
      "metadata": {
        "id": "RjtF6t_Y3j_v"
      }
    },
    {
      "cell_type": "code",
      "source": [
        "sagemaker_session = sagemaker.Session()\n",
        "sagemaker_session"
      ],
      "metadata": {
        "id": "wDJCHS6GumP7"
      },
      "execution_count": null,
      "outputs": []
    },
    {
      "cell_type": "markdown",
      "source": [
        "#### Bucket"
      ],
      "metadata": {
        "id": "whuVFEhn3nuK"
      }
    },
    {
      "cell_type": "code",
      "source": [
        "bucket_name = sagemaker_session.default_bucket()\n",
        "bucket_name"
      ],
      "metadata": {
        "id": "IU-oy3UUgmFt"
      },
      "execution_count": null,
      "outputs": []
    },
    {
      "cell_type": "markdown",
      "source": [],
      "metadata": {
        "id": "iiQtXyP64Mpw"
      }
    },
    {
      "cell_type": "code",
      "source": [
        "prefix = \"end-to-end-ml\""
      ],
      "metadata": {
        "id": "LsyYymx7gmPj"
      },
      "execution_count": null,
      "outputs": []
    },
    {
      "cell_type": "markdown",
      "source": [
        "## Hugging Face"
      ],
      "metadata": {
        "id": "M8JM_CVc4Pkn"
      }
    },
    {
      "cell_type": "markdown",
      "source": [
        "#### Imports"
      ],
      "metadata": {
        "id": "O0CgpIxE6GFM"
      }
    },
    {
      "cell_type": "code",
      "source": [
        "!pip3 install sagemaker --upgrade\n",
        "import sagemaker\n",
        "from sagemaker.huggingface import HuggingFace, TrainingCompilerConfig\n",
        "import sagemaker\n",
        "import boto3\n",
        "import transformers\n",
        "import datasets\n",
        "import argparse\n",
        "import os\n",
        "from sagemaker.huggingface import HuggingFace\n",
        "from sagemaker.s3 import S3Downloader"
      ],
      "metadata": {
        "id": "VDOzkIwa6VCV"
      },
      "execution_count": null,
      "outputs": []
    },
    {
      "cell_type": "markdown",
      "source": [],
      "metadata": {
        "id": "7XLP6RjvXvUk"
      }
    },
    {
      "cell_type": "code",
      "source": [
        "sess = sagemaker.Session()\n",
        "role = sagemaker.get_execution_role()\n",
        "iam_client = boto3.client('iam')\n",
        "role = iam_client.get_role(RoleName='role-name-of-your-iam-role-with-right-permissions')['Role']['Arn']\n",
        "sess = sagemaker.Session()"
      ],
      "metadata": {
        "id": "ybr8QknGXXlu"
      },
      "execution_count": null,
      "outputs": []
    },
    {
      "cell_type": "markdown",
      "source": [],
      "metadata": {
        "id": "J5ImmIk5Xu00"
      }
    },
    {
      "cell_type": "code",
      "source": [
        "if __name__ == \"__main__\":\n",
        "\n",
        "    parser = argparse.ArgumentParser()\n",
        "\n",
        "    # hyperparameters sent by the client are passed as command-line arguments to the script\n",
        "    parser.add_argument(\"--epochs\", type=int, default=3)\n",
        "    parser.add_argument(\"--per_device_train_batch_size\", type=int, default=32)\n",
        "    parser.add_argument(\"--model_name_or_path\", type=str)\n",
        "\n",
        "    # data, model, and output directories\n",
        "    parser.add_argument(\"--model-dir\", type=str, default=os.environ[\"SM_MODEL_DIR\"])\n",
        "    parser.add_argument(\"--training_dir\", type=str, default=os.environ[\"SM_CHANNEL_TRAIN\"])\n",
        "    parser.add_argument(\"--test_dir\", type=str, default=os.environ[\"SM_CHANNEL_TEST\"])"
      ],
      "metadata": {
        "id": "WyM-fTNjXXob"
      },
      "execution_count": null,
      "outputs": []
    },
    {
      "cell_type": "markdown",
      "source": [],
      "metadata": {
        "id": "EQ9G4F7RXx4V"
      }
    },
    {
      "cell_type": "code",
      "source": [
        "hyperparameters={'epochs': 1,\n",
        "                 'per_device_train_batch_size': 32,\n",
        "                 'model_name_or_path': 'distilbert-base-uncased'}"
      ],
      "metadata": {
        "id": "lng9UpW8XpXt"
      },
      "execution_count": null,
      "outputs": []
    },
    {
      "cell_type": "markdown",
      "source": [],
      "metadata": {
        "id": "_GisCiCQXyak"
      }
    },
    {
      "cell_type": "code",
      "source": [
        "huggingface_estimator = HuggingFace(\n",
        "        entry_point='train.py',\n",
        "        source_dir='./scripts',\n",
        "        instance_type='ml.p3.2xlarge',\n",
        "        instance_count=1,\n",
        "        role=role,\n",
        "        transformers_version='4.26',\n",
        "        pytorch_version='1.13',\n",
        "        py_version='py39',\n",
        "        hyperparameters = hyperparameters)"
      ],
      "metadata": {
        "id": "EyONKhm8X0u2"
      },
      "execution_count": null,
      "outputs": []
    },
    {
      "cell_type": "markdown",
      "source": [],
      "metadata": {
        "id": "aWj4moMWX2kU"
      }
    },
    {
      "cell_type": "code",
      "source": [
        "huggingface_estimator.fit(\n",
        "  {'train': 's3://sagemaker-us-east-1-558105141721/samples/datasets/imdb/train',\n",
        "   'test': 's3://sagemaker-us-east-1-558105141721/samples/datasets/imdb/test'})"
      ],
      "metadata": {
        "id": "scz5Bz7fXfUl"
      },
      "execution_count": null,
      "outputs": []
    },
    {
      "cell_type": "markdown",
      "source": [],
      "metadata": {
        "id": "EKDkbDYMX8rE"
      }
    },
    {
      "cell_type": "code",
      "source": [
        "/opt/conda/bin/python train.py --epochs 1 --model_name_or_path distilbert-base-uncased --per_device_train_batch_size 32"
      ],
      "metadata": {
        "id": "L2Jm40wVXfYE"
      },
      "execution_count": null,
      "outputs": []
    },
    {
      "cell_type": "markdown",
      "source": [],
      "metadata": {
        "id": "Zdxdm5d9YHro"
      }
    },
    {
      "cell_type": "code",
      "source": [
        "S3Downloader.download(\n",
        "    s3_uri=huggingface_estimator.model_data,\n",
        "    local_path='.',\n",
        "    sagemaker_session=sess)"
      ],
      "metadata": {
        "id": "oReasakTXfdk"
      },
      "execution_count": null,
      "outputs": []
    },
    {
      "cell_type": "markdown",
      "source": [],
      "metadata": {
        "id": "dqdyPfWMYLy9"
      }
    },
    {
      "cell_type": "code",
      "source": [
        "distribution = {'smdistributed':{'dataparallel':{ 'enabled': True }}}"
      ],
      "metadata": {
        "id": "cjtokviOXfgz"
      },
      "execution_count": null,
      "outputs": []
    },
    {
      "cell_type": "markdown",
      "source": [],
      "metadata": {
        "id": "OuOFpQnSYRwN"
      }
    },
    {
      "cell_type": "code",
      "source": [
        "huggingface_estimator = HuggingFace(\n",
        "        entry_point='train.py',\n",
        "        source_dir='./scripts',\n",
        "        instance_type='ml.p3dn.24xlarge',\n",
        "        instance_count=2,\n",
        "        role=role,\n",
        "        transformers_version='4.26.0',\n",
        "        pytorch_version='1.13.1',\n",
        "        py_version='py39',\n",
        "        hyperparameters = hyperparameters,\n",
        "        distribution = distribution)"
      ],
      "metadata": {
        "id": "JAgh55UOYJ_g"
      },
      "execution_count": null,
      "outputs": []
    },
    {
      "cell_type": "markdown",
      "source": [],
      "metadata": {
        "id": "C3xbPeprYTjF"
      }
    },
    {
      "cell_type": "code",
      "source": [
        "mpi_options = {\n",
        "    \"enabled\" : True,\n",
        "    \"processes_per_host\" : 8}"
      ],
      "metadata": {
        "id": "EY26o46mYKCY"
      },
      "execution_count": null,
      "outputs": []
    },
    {
      "cell_type": "markdown",
      "source": [],
      "metadata": {
        "id": "KTftdiToYa7J"
      }
    },
    {
      "cell_type": "code",
      "source": [
        "smp_options = {\n",
        "    \"enabled\":True,\n",
        "    \"parameters\": {\n",
        "        \"microbatches\": 4,\n",
        "        \"placement_strategy\": \"spread\",\n",
        "        \"pipeline\": \"interleaved\",\n",
        "        \"optimize\": \"speed\",\n",
        "        \"partitions\": 4,\n",
        "        \"ddp\": True,\n",
        "    }\n",
        "}"
      ],
      "metadata": {
        "id": "CSmw5miOYKFk"
      },
      "execution_count": null,
      "outputs": []
    },
    {
      "cell_type": "markdown",
      "source": [],
      "metadata": {
        "id": "6W6HyPmGYeQ-"
      }
    },
    {
      "cell_type": "code",
      "source": [
        "distribution={\n",
        "    \"smdistributed\": {\"modelparallel\": smp_options},\n",
        "    \"mpi\": mpi_options}"
      ],
      "metadata": {
        "id": "-PCefXWfYKId"
      },
      "execution_count": null,
      "outputs": []
    },
    {
      "cell_type": "markdown",
      "source": [],
      "metadata": {
        "id": "TdqDU_A8Yg5K"
      }
    },
    {
      "cell_type": "code",
      "source": [
        "huggingface_estimator = HuggingFace(\n",
        "        entry_point='train.py',\n",
        "        source_dir='./scripts',\n",
        "        instance_type='ml.p3dn.24xlarge',\n",
        "        instance_count=2,\n",
        "        role=role,\n",
        "        transformers_version='4.26.0',\n",
        "        pytorch_version='1.13.1',\n",
        "        py_version='py39',\n",
        "        hyperparameters = hyperparameters,\n",
        "        distribution = distribution\n",
        ")"
      ],
      "metadata": {
        "id": "n0oTTeXrYKLS"
      },
      "execution_count": null,
      "outputs": []
    },
    {
      "cell_type": "markdown",
      "source": [],
      "metadata": {
        "id": "o5ASWiSiYmvu"
      }
    },
    {
      "cell_type": "code",
      "source": [
        "hyperparameters={'epochs': 1,\n",
        "                 'train_batch_size': 32,\n",
        "                 'model_name':'distilbert-base-uncased',\n",
        "                 'output_dir':'/opt/ml/checkpoints'}"
      ],
      "metadata": {
        "id": "kf8_di0iYKOF"
      },
      "execution_count": null,
      "outputs": []
    },
    {
      "cell_type": "markdown",
      "source": [],
      "metadata": {
        "id": "DbTWQNQIYrtH"
      }
    },
    {
      "cell_type": "code",
      "source": [
        "huggingface_estimator = HuggingFace(\n",
        "        entry_point='train.py',\n",
        "        source_dir='./scripts',\n",
        "        instance_type='ml.p3.2xlarge',\n",
        "        instance_count=1,\n",
        "\t      checkpoint_s3_uri=f's3://{sess.default_bucket()}/checkpoints'\n",
        "        use_spot_instances=True,\n",
        "        max_wait=3600,\n",
        "        max_run=1000,\n",
        "        role=role,\n",
        "        transformers_version='4.26',\n",
        "        pytorch_version='1.13',\n",
        "        py_version='py39',\n",
        "        hyperparameters = hyperparameters)"
      ],
      "metadata": {
        "id": "bEVvlAOzYKQ1"
      },
      "execution_count": null,
      "outputs": []
    },
    {
      "cell_type": "code",
      "source": [
        "git_config = {'repo': 'https://github.com/huggingface/transformers.git','branch': 'v4.4.2'}"
      ],
      "metadata": {
        "id": "tkCXlWHRYKTf"
      },
      "execution_count": null,
      "outputs": []
    },
    {
      "cell_type": "code",
      "source": [
        "huggingface_estimator = HuggingFace(\n",
        "        entry_point='run_glue.py',\n",
        "        source_dir='./examples/pytorch/text-classification',\n",
        "        git_config=git_config,\n",
        "        instance_type='ml.p3.2xlarge',\n",
        "        instance_count=1,\n",
        "        role=role,\n",
        "        transformers_version='4.26',\n",
        "        pytorch_version='1.13',\n",
        "        py_version='py39',\n",
        "        hyperparameters=hyperparameters\n",
        ")"
      ],
      "metadata": {
        "id": "UptX1RgXXXrj"
      },
      "execution_count": null,
      "outputs": []
    },
    {
      "cell_type": "code",
      "source": [
        "metric_definitions = [\n",
        "    {\"Name\": \"train_runtime\", \"Regex\": \"train_runtime.*=\\D*(.*?)$\"},\n",
        "    {\"Name\": \"eval_accuracy\", \"Regex\": \"eval_accuracy.*=\\D*(.*?)$\"},\n",
        "    {\"Name\": \"eval_loss\", \"Regex\": \"eval_loss.*=\\D*(.*?)$\"},\n",
        "]"
      ],
      "metadata": {
        "id": "o-HjxL60ZCDf"
      },
      "execution_count": null,
      "outputs": []
    },
    {
      "cell_type": "code",
      "source": [
        "huggingface_estimator = HuggingFace(\n",
        "        entry_point='train.py',\n",
        "        source_dir='./scripts',\n",
        "        instance_type='ml.p3.2xlarge',\n",
        "        instance_count=1,\n",
        "        role=role,\n",
        "        transformers_version='4.26',\n",
        "        pytorch_version='1.13',\n",
        "        py_version='py39',\n",
        "        metric_definitions=metric_definitions,\n",
        "        hyperparameters = hyperparameters)"
      ],
      "metadata": {
        "id": "L1VZ8L0nZD7v"
      },
      "execution_count": null,
      "outputs": []
    },
    {
      "cell_type": "code",
      "source": [
        "huggingface_estimator=HuggingFace(\n",
        "    compiler_config=TrainingCompilerConfig())"
      ],
      "metadata": {
        "id": "DqDDKrD86GKk"
      },
      "execution_count": null,
      "outputs": []
    },
    {
      "cell_type": "code",
      "source": [],
      "metadata": {
        "id": "nkubMnLn4Pw_"
      },
      "execution_count": null,
      "outputs": []
    },
    {
      "cell_type": "code",
      "source": [],
      "metadata": {
        "id": "3SAHukDw5uCx"
      },
      "execution_count": null,
      "outputs": []
    },
    {
      "cell_type": "code",
      "source": [],
      "metadata": {
        "id": "sk_4gruC5uFi"
      },
      "execution_count": null,
      "outputs": []
    },
    {
      "cell_type": "code",
      "source": [],
      "metadata": {
        "id": "hFyWo7dP5uIC"
      },
      "execution_count": null,
      "outputs": []
    },
    {
      "cell_type": "code",
      "source": [],
      "metadata": {
        "id": "GhEugEea5uKi"
      },
      "execution_count": null,
      "outputs": []
    },
    {
      "cell_type": "markdown",
      "source": [
        "## PyTorch"
      ],
      "metadata": {
        "id": "-nq2Oc6l50Iy"
      }
    },
    {
      "cell_type": "code",
      "source": [],
      "metadata": {
        "id": "6cALw4kw5uNJ"
      },
      "execution_count": null,
      "outputs": []
    },
    {
      "cell_type": "code",
      "source": [],
      "metadata": {
        "id": "-e68uA3P5uPa"
      },
      "execution_count": null,
      "outputs": []
    },
    {
      "cell_type": "code",
      "source": [],
      "metadata": {
        "id": "mTGWvekt5uR7"
      },
      "execution_count": null,
      "outputs": []
    },
    {
      "cell_type": "code",
      "source": [],
      "metadata": {
        "id": "f5GxUW285uUZ"
      },
      "execution_count": null,
      "outputs": []
    },
    {
      "cell_type": "code",
      "source": [],
      "metadata": {
        "id": "NlEVu9O65uW9"
      },
      "execution_count": null,
      "outputs": []
    },
    {
      "cell_type": "markdown",
      "source": [
        "## Tensorflow"
      ],
      "metadata": {
        "id": "so_m2Sn14P65"
      }
    },
    {
      "cell_type": "code",
      "source": [],
      "metadata": {
        "id": "W_RU9u3-4QAQ"
      },
      "execution_count": null,
      "outputs": []
    },
    {
      "cell_type": "code",
      "source": [],
      "metadata": {
        "id": "0y7SMMRp4QJw"
      },
      "execution_count": null,
      "outputs": []
    },
    {
      "cell_type": "code",
      "source": [],
      "metadata": {
        "id": "acCXR2x74QWo"
      },
      "execution_count": null,
      "outputs": []
    },
    {
      "cell_type": "code",
      "source": [],
      "metadata": {
        "id": "EnUzp8K64QZo"
      },
      "execution_count": null,
      "outputs": []
    },
    {
      "cell_type": "code",
      "source": [],
      "metadata": {
        "id": "O4fTkR0y4QcQ"
      },
      "execution_count": null,
      "outputs": []
    },
    {
      "cell_type": "code",
      "source": [],
      "metadata": {
        "id": "5sE8xGgh4Qe5"
      },
      "execution_count": null,
      "outputs": []
    },
    {
      "cell_type": "code",
      "source": [],
      "metadata": {
        "id": "PK8BHglb4Qj7"
      },
      "execution_count": null,
      "outputs": []
    },
    {
      "cell_type": "code",
      "source": [],
      "metadata": {
        "id": "fKUu9-bI4Qm4"
      },
      "execution_count": null,
      "outputs": []
    },
    {
      "cell_type": "code",
      "source": [],
      "metadata": {
        "id": "xz0202rM4Qpp"
      },
      "execution_count": null,
      "outputs": []
    },
    {
      "cell_type": "code",
      "source": [],
      "metadata": {
        "id": "5q0yiW4o4QsR"
      },
      "execution_count": null,
      "outputs": []
    }
  ]
}