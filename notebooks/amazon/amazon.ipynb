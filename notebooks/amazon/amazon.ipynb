{
  "nbformat": 4,
  "nbformat_minor": 0,
  "metadata": {
    "colab": {
      "provenance": [],
      "authorship_tag": "ABX9TyMm0V5X+pRpyDfdCb0PzPSa",
      "include_colab_link": true
    },
    "kernelspec": {
      "name": "python3",
      "display_name": "Python 3"
    },
    "language_info": {
      "name": "python"
    }
  },
  "cells": [
    {
      "cell_type": "markdown",
      "metadata": {
        "id": "view-in-github",
        "colab_type": "text"
      },
      "source": [
        "<a href=\"https://colab.research.google.com/github/benjaminbrown038/Amazon/blob/main/notebooks/amazon/amazon.ipynb\" target=\"_parent\"><img src=\"https://colab.research.google.com/assets/colab-badge.svg\" alt=\"Open In Colab\"/></a>"
      ]
    },
    {
      "cell_type": "markdown",
      "source": [
        "# Amazon\n",
        "\n",
        "- Hugging Face\n",
        "- PyTorch\n",
        "- Tensorflow"
      ],
      "metadata": {
        "id": "eSDVecTsglGb"
      }
    },
    {
      "cell_type": "markdown",
      "source": [
        "## Sagemaker"
      ],
      "metadata": {
        "id": "K_yAr6Q65xjS"
      }
    },
    {
      "cell_type": "markdown",
      "source": [
        "#### Imports"
      ],
      "metadata": {
        "id": "KVKF-sk0glSC"
      }
    },
    {
      "cell_type": "code",
      "source": [
        "%%capture\n",
        "!pip3 install sagemaker\n",
        "import logging\n",
        "import time\n",
        "\n",
        "import boto3\n",
        "\n",
        "import sagemaker\n",
        "from sagemaker.xgboost import XGBoost\n",
        "from sagemaker.experiments.run import Run\n",
        "from sagemaker.analytics import ExperimentAnalytics"
      ],
      "metadata": {
        "id": "UUeZGmrrglcC"
      },
      "execution_count": 1,
      "outputs": []
    },
    {
      "cell_type": "code",
      "source": [
        "role = sagemaker.get_execution_role()\n",
        "role"
      ],
      "metadata": {
        "id": "arqDqFHVuc3E",
        "outputId": "9967cff8-e147-4cc2-a50e-36825ded984d",
        "colab": {
          "base_uri": "https://localhost:8080/",
          "height": 338
        }
      },
      "execution_count": 2,
      "outputs": [
        {
          "output_type": "error",
          "ename": "ValueError",
          "evalue": "ignored",
          "traceback": [
            "\u001b[0;31m---------------------------------------------------------------------------\u001b[0m",
            "\u001b[0;31mValueError\u001b[0m                                Traceback (most recent call last)",
            "\u001b[0;32m<ipython-input-2-9cf55ff0d7f4>\u001b[0m in \u001b[0;36m<cell line: 1>\u001b[0;34m()\u001b[0m\n\u001b[0;32m----> 1\u001b[0;31m \u001b[0mrole\u001b[0m \u001b[0;34m=\u001b[0m \u001b[0msagemaker\u001b[0m\u001b[0;34m.\u001b[0m\u001b[0mget_execution_role\u001b[0m\u001b[0;34m(\u001b[0m\u001b[0;34m)\u001b[0m\u001b[0;34m\u001b[0m\u001b[0;34m\u001b[0m\u001b[0m\n\u001b[0m\u001b[1;32m      2\u001b[0m \u001b[0mrole\u001b[0m\u001b[0;34m\u001b[0m\u001b[0;34m\u001b[0m\u001b[0m\n",
            "\u001b[0;32m/usr/local/lib/python3.10/dist-packages/sagemaker/session.py\u001b[0m in \u001b[0;36mget_execution_role\u001b[0;34m(sagemaker_session)\u001b[0m\n\u001b[1;32m   6786\u001b[0m     \"\"\"\n\u001b[1;32m   6787\u001b[0m     \u001b[0;32mif\u001b[0m \u001b[0;32mnot\u001b[0m \u001b[0msagemaker_session\u001b[0m\u001b[0;34m:\u001b[0m\u001b[0;34m\u001b[0m\u001b[0;34m\u001b[0m\u001b[0m\n\u001b[0;32m-> 6788\u001b[0;31m         \u001b[0msagemaker_session\u001b[0m \u001b[0;34m=\u001b[0m \u001b[0mSession\u001b[0m\u001b[0;34m(\u001b[0m\u001b[0;34m)\u001b[0m\u001b[0;34m\u001b[0m\u001b[0;34m\u001b[0m\u001b[0m\n\u001b[0m\u001b[1;32m   6789\u001b[0m     \u001b[0marn\u001b[0m \u001b[0;34m=\u001b[0m \u001b[0msagemaker_session\u001b[0m\u001b[0;34m.\u001b[0m\u001b[0mget_caller_identity_arn\u001b[0m\u001b[0;34m(\u001b[0m\u001b[0;34m)\u001b[0m\u001b[0;34m\u001b[0m\u001b[0;34m\u001b[0m\u001b[0m\n\u001b[1;32m   6790\u001b[0m \u001b[0;34m\u001b[0m\u001b[0m\n",
            "\u001b[0;32m/usr/local/lib/python3.10/dist-packages/sagemaker/session.py\u001b[0m in \u001b[0;36m__init__\u001b[0;34m(self, boto_session, sagemaker_client, sagemaker_runtime_client, sagemaker_featurestore_runtime_client, default_bucket, settings, sagemaker_metrics_client, sagemaker_config, default_bucket_prefix)\u001b[0m\n\u001b[1;32m    254\u001b[0m         \u001b[0mself\u001b[0m\u001b[0;34m.\u001b[0m\u001b[0msettings\u001b[0m \u001b[0;34m=\u001b[0m \u001b[0msettings\u001b[0m\u001b[0;34m\u001b[0m\u001b[0;34m\u001b[0m\u001b[0m\n\u001b[1;32m    255\u001b[0m \u001b[0;34m\u001b[0m\u001b[0m\n\u001b[0;32m--> 256\u001b[0;31m         self._initialize(\n\u001b[0m\u001b[1;32m    257\u001b[0m             \u001b[0mboto_session\u001b[0m\u001b[0;34m=\u001b[0m\u001b[0mboto_session\u001b[0m\u001b[0;34m,\u001b[0m\u001b[0;34m\u001b[0m\u001b[0;34m\u001b[0m\u001b[0m\n\u001b[1;32m    258\u001b[0m             \u001b[0msagemaker_client\u001b[0m\u001b[0;34m=\u001b[0m\u001b[0msagemaker_client\u001b[0m\u001b[0;34m,\u001b[0m\u001b[0;34m\u001b[0m\u001b[0;34m\u001b[0m\u001b[0m\n",
            "\u001b[0;32m/usr/local/lib/python3.10/dist-packages/sagemaker/session.py\u001b[0m in \u001b[0;36m_initialize\u001b[0;34m(self, boto_session, sagemaker_client, sagemaker_runtime_client, sagemaker_featurestore_runtime_client, sagemaker_metrics_client, sagemaker_config)\u001b[0m\n\u001b[1;32m    281\u001b[0m         \u001b[0mself\u001b[0m\u001b[0;34m.\u001b[0m\u001b[0m_region_name\u001b[0m \u001b[0;34m=\u001b[0m \u001b[0mself\u001b[0m\u001b[0;34m.\u001b[0m\u001b[0mboto_session\u001b[0m\u001b[0;34m.\u001b[0m\u001b[0mregion_name\u001b[0m\u001b[0;34m\u001b[0m\u001b[0;34m\u001b[0m\u001b[0m\n\u001b[1;32m    282\u001b[0m         \u001b[0;32mif\u001b[0m \u001b[0mself\u001b[0m\u001b[0;34m.\u001b[0m\u001b[0m_region_name\u001b[0m \u001b[0;32mis\u001b[0m \u001b[0;32mNone\u001b[0m\u001b[0;34m:\u001b[0m\u001b[0;34m\u001b[0m\u001b[0;34m\u001b[0m\u001b[0m\n\u001b[0;32m--> 283\u001b[0;31m             raise ValueError(\n\u001b[0m\u001b[1;32m    284\u001b[0m                 \u001b[0;34m\"Must setup local AWS configuration with a region supported by SageMaker.\"\u001b[0m\u001b[0;34m\u001b[0m\u001b[0;34m\u001b[0m\u001b[0m\n\u001b[1;32m    285\u001b[0m             )\n",
            "\u001b[0;31mValueError\u001b[0m: Must setup local AWS configuration with a region supported by SageMaker."
          ]
        }
      ]
    },
    {
      "cell_type": "code",
      "source": [
        "region = boto3.Session().region_name\n",
        "region"
      ],
      "metadata": {
        "id": "qHyt9QQCglx6"
      },
      "execution_count": null,
      "outputs": []
    },
    {
      "cell_type": "code",
      "source": [
        "sagemaker_session = sagemaker.Session()\n",
        "sagemaker_session"
      ],
      "metadata": {
        "id": "wDJCHS6GumP7"
      },
      "execution_count": null,
      "outputs": []
    },
    {
      "cell_type": "code",
      "source": [
        "bucket_name = sagemaker_session.default_bucket()\n",
        "bucket_name"
      ],
      "metadata": {
        "id": "IU-oy3UUgmFt"
      },
      "execution_count": null,
      "outputs": []
    },
    {
      "cell_type": "code",
      "source": [
        "prefix = \"end-to-end-ml\""
      ],
      "metadata": {
        "id": "LsyYymx7gmPj"
      },
      "execution_count": null,
      "outputs": []
    },
    {
      "cell_type": "markdown",
      "source": [
        "## Hugging Face"
      ],
      "metadata": {
        "id": "M8JM_CVc4Pkn"
      }
    },
    {
      "cell_type": "markdown",
      "source": [
        "#### Imports"
      ],
      "metadata": {
        "id": "O0CgpIxE6GFM"
      }
    },
    {
      "cell_type": "code",
      "source": [
        "%%capture\n",
        "!pip3 install sagemaker --upgrade\n",
        "!pip3 install datasets\n",
        "\n",
        "import sagemaker\n",
        "from sagemaker.huggingface import HuggingFace, TrainingCompilerConfig\n",
        "import sagemaker\n",
        "from sagemaker.huggingface import HuggingFace\n",
        "from sagemaker.s3 import S3Downloader\n",
        "import transformers\n",
        "import datasets\n",
        "\n",
        "import boto3\n",
        "\n",
        "\n",
        "import argparse\n",
        "import os"
      ],
      "metadata": {
        "id": "VDOzkIwa6VCV"
      },
      "execution_count": 4,
      "outputs": []
    },
    {
      "cell_type": "code",
      "source": [
        "sess = sagemaker.Session()\n",
        "role = sagemaker.get_execution_role()\n",
        "iam_client = boto3.client('iam')\n",
        "role = iam_client.get_role(RoleName='role-name-of-your-iam-role-with-right-permissions')['Role']['Arn']\n",
        "sess = sagemaker.Session()"
      ],
      "metadata": {
        "id": "ybr8QknGXXlu"
      },
      "execution_count": null,
      "outputs": []
    },
    {
      "cell_type": "code",
      "source": [
        "if __name__ == \"__main__\":\n",
        "\n",
        "    parser = argparse.ArgumentParser()\n",
        "\n",
        "    parser.add_argument(\"--epochs\", type=int, default=3)\n",
        "    parser.add_argument(\"--per_device_train_batch_size\", type=int, default=32)\n",
        "    parser.add_argument(\"--model_name_or_path\", type=str)\n",
        "\n",
        "    parser.add_argument(\"--model-dir\", type=str, default=os.environ[\"SM_MODEL_DIR\"])\n",
        "    parser.add_argument(\"--training_dir\", type=str, default=os.environ[\"SM_CHANNEL_TRAIN\"])\n",
        "    parser.add_argument(\"--test_dir\", type=str, default=os.environ[\"SM_CHANNEL_TEST\"])"
      ],
      "metadata": {
        "id": "WyM-fTNjXXob"
      },
      "execution_count": null,
      "outputs": []
    },
    {
      "cell_type": "code",
      "source": [
        "hyperparameters={'epochs': 1,\n",
        "                 'per_device_train_batch_size': 32,\n",
        "                 'model_name_or_path': 'distilbert-base-uncased'}\n",
        "hyperparameters"
      ],
      "metadata": {
        "id": "lng9UpW8XpXt",
        "outputId": "e3f8745e-40da-4a29-c0db-e4a819cf0b58",
        "colab": {
          "base_uri": "https://localhost:8080/"
        }
      },
      "execution_count": 5,
      "outputs": [
        {
          "output_type": "execute_result",
          "data": {
            "text/plain": [
              "{'epochs': 1,\n",
              " 'per_device_train_batch_size': 32,\n",
              " 'model_name_or_path': 'distilbert-base-uncased'}"
            ]
          },
          "metadata": {},
          "execution_count": 5
        }
      ]
    },
    {
      "cell_type": "code",
      "source": [
        "huggingface_estimator = HuggingFace(\n",
        "        entry_point='train.py',\n",
        "        source_dir='./scripts',\n",
        "        instance_type='ml.p3.2xlarge',\n",
        "        instance_count=1,\n",
        "        role=role,\n",
        "        transformers_version='4.26',\n",
        "        pytorch_version='1.13',\n",
        "        py_version='py39',\n",
        "        hyperparameters = hyperparameters)\n",
        "huggingface_estimator"
      ],
      "metadata": {
        "id": "EyONKhm8X0u2",
        "outputId": "76283f96-d93b-4a1f-e15e-3888ea2d6ef9",
        "colab": {
          "base_uri": "https://localhost:8080/",
          "height": 245
        }
      },
      "execution_count": 6,
      "outputs": [
        {
          "output_type": "error",
          "ename": "NameError",
          "evalue": "ignored",
          "traceback": [
            "\u001b[0;31m---------------------------------------------------------------------------\u001b[0m",
            "\u001b[0;31mNameError\u001b[0m                                 Traceback (most recent call last)",
            "\u001b[0;32m<ipython-input-6-206c54691f54>\u001b[0m in \u001b[0;36m<cell line: 1>\u001b[0;34m()\u001b[0m\n\u001b[1;32m      4\u001b[0m         \u001b[0minstance_type\u001b[0m\u001b[0;34m=\u001b[0m\u001b[0;34m'ml.p3.2xlarge'\u001b[0m\u001b[0;34m,\u001b[0m\u001b[0;34m\u001b[0m\u001b[0;34m\u001b[0m\u001b[0m\n\u001b[1;32m      5\u001b[0m         \u001b[0minstance_count\u001b[0m\u001b[0;34m=\u001b[0m\u001b[0;36m1\u001b[0m\u001b[0;34m,\u001b[0m\u001b[0;34m\u001b[0m\u001b[0;34m\u001b[0m\u001b[0m\n\u001b[0;32m----> 6\u001b[0;31m         \u001b[0mrole\u001b[0m\u001b[0;34m=\u001b[0m\u001b[0mrole\u001b[0m\u001b[0;34m,\u001b[0m\u001b[0;34m\u001b[0m\u001b[0;34m\u001b[0m\u001b[0m\n\u001b[0m\u001b[1;32m      7\u001b[0m         \u001b[0mtransformers_version\u001b[0m\u001b[0;34m=\u001b[0m\u001b[0;34m'4.26'\u001b[0m\u001b[0;34m,\u001b[0m\u001b[0;34m\u001b[0m\u001b[0;34m\u001b[0m\u001b[0m\n\u001b[1;32m      8\u001b[0m         \u001b[0mpytorch_version\u001b[0m\u001b[0;34m=\u001b[0m\u001b[0;34m'1.13'\u001b[0m\u001b[0;34m,\u001b[0m\u001b[0;34m\u001b[0m\u001b[0;34m\u001b[0m\u001b[0m\n",
            "\u001b[0;31mNameError\u001b[0m: name 'role' is not defined"
          ]
        }
      ]
    },
    {
      "cell_type": "code",
      "source": [
        "huggingface_estimator.fit(\n",
        "  {'train': 's3://sagemaker-us-east-1-558105141721/samples/datasets/imdb/train',\n",
        "   'test': 's3://sagemaker-us-east-1-558105141721/samples/datasets/imdb/test'})"
      ],
      "metadata": {
        "id": "scz5Bz7fXfUl"
      },
      "execution_count": null,
      "outputs": []
    },
    {
      "cell_type": "code",
      "source": [
        "/opt/conda/bin/python train.py --epochs 1 --model_name_or_path distilbert-base-uncased --per_device_train_batch_size 32"
      ],
      "metadata": {
        "id": "L2Jm40wVXfYE"
      },
      "execution_count": null,
      "outputs": []
    },
    {
      "cell_type": "code",
      "source": [
        "S3Downloader.download(\n",
        "    s3_uri=huggingface_estimator.model_data,\n",
        "    local_path='.',\n",
        "    sagemaker_session=sess)"
      ],
      "metadata": {
        "id": "oReasakTXfdk"
      },
      "execution_count": null,
      "outputs": []
    },
    {
      "cell_type": "code",
      "source": [
        "distribution = {'smdistributed':{'dataparallel':{ 'enabled': True }}}\n",
        "distribution"
      ],
      "metadata": {
        "id": "cjtokviOXfgz",
        "outputId": "1bb7d8b8-c994-44c1-fd6e-d3e2af5bdee6",
        "colab": {
          "base_uri": "https://localhost:8080/"
        }
      },
      "execution_count": 7,
      "outputs": [
        {
          "output_type": "execute_result",
          "data": {
            "text/plain": [
              "{'smdistributed': {'dataparallel': {'enabled': True}}}"
            ]
          },
          "metadata": {},
          "execution_count": 7
        }
      ]
    },
    {
      "cell_type": "code",
      "source": [
        "huggingface_estimator = HuggingFace(\n",
        "        entry_point='train.py',\n",
        "        source_dir='./scripts',\n",
        "        instance_type='ml.p3dn.24xlarge',\n",
        "        instance_count=2,\n",
        "        role=role,\n",
        "        transformers_version='4.26.0',\n",
        "        pytorch_version='1.13.1',\n",
        "        py_version='py39',\n",
        "        hyperparameters = hyperparameters,\n",
        "        distribution = distribution)\n",
        "huggingface_estimator"
      ],
      "metadata": {
        "id": "JAgh55UOYJ_g"
      },
      "execution_count": null,
      "outputs": []
    },
    {
      "cell_type": "code",
      "source": [
        "mpi_options = {\n",
        "    \"enabled\" : True,\n",
        "    \"processes_per_host\" : 8}\n",
        "mpi_options"
      ],
      "metadata": {
        "id": "EY26o46mYKCY",
        "outputId": "15f232ab-0243-44e2-bd4c-dfbfb71c09c8",
        "colab": {
          "base_uri": "https://localhost:8080/"
        }
      },
      "execution_count": 8,
      "outputs": [
        {
          "output_type": "execute_result",
          "data": {
            "text/plain": [
              "{'enabled': True, 'processes_per_host': 8}"
            ]
          },
          "metadata": {},
          "execution_count": 8
        }
      ]
    },
    {
      "cell_type": "code",
      "source": [
        "smp_options = {\n",
        "        \"enabled\":True,\n",
        "        \"parameters\": {\n",
        "        \"microbatches\": 4,\n",
        "        \"placement_strategy\": \"spread\",\n",
        "        \"pipeline\": \"interleaved\",\n",
        "        \"optimize\": \"speed\",\n",
        "        \"partitions\": 4,\n",
        "        \"ddp\": True}}\n",
        "smp_options"
      ],
      "metadata": {
        "id": "CSmw5miOYKFk",
        "outputId": "7f8b7cde-8300-40b4-f17d-046f5caefc43",
        "colab": {
          "base_uri": "https://localhost:8080/"
        }
      },
      "execution_count": 9,
      "outputs": [
        {
          "output_type": "execute_result",
          "data": {
            "text/plain": [
              "{'enabled': True,\n",
              " 'parameters': {'microbatches': 4,\n",
              "  'placement_strategy': 'spread',\n",
              "  'pipeline': 'interleaved',\n",
              "  'optimize': 'speed',\n",
              "  'partitions': 4,\n",
              "  'ddp': True}}"
            ]
          },
          "metadata": {},
          "execution_count": 9
        }
      ]
    },
    {
      "cell_type": "code",
      "source": [
        "distribution={\n",
        "    \"smdistributed\": {\"modelparallel\": smp_options},\n",
        "    \"mpi\": mpi_options}\n",
        "distribution"
      ],
      "metadata": {
        "id": "-PCefXWfYKId",
        "outputId": "c093a270-1a7e-4a87-d03d-fca59bc8ebf1",
        "colab": {
          "base_uri": "https://localhost:8080/"
        }
      },
      "execution_count": 10,
      "outputs": [
        {
          "output_type": "execute_result",
          "data": {
            "text/plain": [
              "{'smdistributed': {'modelparallel': {'enabled': True,\n",
              "   'parameters': {'microbatches': 4,\n",
              "    'placement_strategy': 'spread',\n",
              "    'pipeline': 'interleaved',\n",
              "    'optimize': 'speed',\n",
              "    'partitions': 4,\n",
              "    'ddp': True}}},\n",
              " 'mpi': {'enabled': True, 'processes_per_host': 8}}"
            ]
          },
          "metadata": {},
          "execution_count": 10
        }
      ]
    },
    {
      "cell_type": "code",
      "source": [
        "huggingface_estimator = HuggingFace(\n",
        "        entry_point='train.py',\n",
        "        source_dir='./scripts',\n",
        "        instance_type='ml.p3dn.24xlarge',\n",
        "        instance_count=2,\n",
        "        role=role,\n",
        "        transformers_version='4.26.0',\n",
        "        pytorch_version='1.13.1',\n",
        "        py_version='py39',\n",
        "        hyperparameters = hyperparameters,\n",
        "        distribution = distribution)\n",
        "huggingface_estimator"
      ],
      "metadata": {
        "id": "n0oTTeXrYKLS"
      },
      "execution_count": null,
      "outputs": []
    },
    {
      "cell_type": "code",
      "source": [
        "hyperparameters={'epochs': 1,\n",
        "                 'train_batch_size': 32,\n",
        "                 'model_name':'distilbert-base-uncased',\n",
        "                 'output_dir':'/opt/ml/checkpoints'}\n",
        "hyperparameters"
      ],
      "metadata": {
        "id": "kf8_di0iYKOF",
        "outputId": "f431312b-d41a-467f-bae9-d98971959548",
        "colab": {
          "base_uri": "https://localhost:8080/"
        }
      },
      "execution_count": 11,
      "outputs": [
        {
          "output_type": "execute_result",
          "data": {
            "text/plain": [
              "{'epochs': 1,\n",
              " 'train_batch_size': 32,\n",
              " 'model_name': 'distilbert-base-uncased',\n",
              " 'output_dir': '/opt/ml/checkpoints'}"
            ]
          },
          "metadata": {},
          "execution_count": 11
        }
      ]
    },
    {
      "cell_type": "code",
      "source": [
        "huggingface_estimator = HuggingFace(\n",
        "        entry_point='train.py',\n",
        "        source_dir='./scripts',\n",
        "        instance_type='ml.p3.2xlarge',\n",
        "        instance_count=1,\n",
        "\t      checkpoint_s3_uri=f's3://{sess.default_bucket()}/checkpoints'\n",
        "        use_spot_instances=True,\n",
        "        max_wait=3600,\n",
        "        max_run=1000,\n",
        "        role=role,\n",
        "        transformers_version='4.26',\n",
        "        pytorch_version='1.13',\n",
        "        py_version='py39',\n",
        "        hyperparameters = hyperparameters)\n",
        "huggingface_estimator"
      ],
      "metadata": {
        "id": "bEVvlAOzYKQ1"
      },
      "execution_count": null,
      "outputs": []
    },
    {
      "cell_type": "code",
      "source": [
        "git_config = {'repo': 'https://github.com/huggingface/transformers.git','branch': 'v4.4.2'}\n",
        "git_config"
      ],
      "metadata": {
        "id": "tkCXlWHRYKTf",
        "outputId": "256521c5-02b4-4e0e-a861-fd98aae51f7f",
        "colab": {
          "base_uri": "https://localhost:8080/"
        }
      },
      "execution_count": 12,
      "outputs": [
        {
          "output_type": "execute_result",
          "data": {
            "text/plain": [
              "{'repo': 'https://github.com/huggingface/transformers.git', 'branch': 'v4.4.2'}"
            ]
          },
          "metadata": {},
          "execution_count": 12
        }
      ]
    },
    {
      "cell_type": "code",
      "source": [
        "huggingface_estimator = HuggingFace(\n",
        "        entry_point='run_glue.py',\n",
        "        source_dir='./examples/pytorch/text-classification',\n",
        "        git_config=git_config,\n",
        "        instance_type='ml.p3.2xlarge',\n",
        "        instance_count=1,\n",
        "        role=role,\n",
        "        transformers_version='4.26',\n",
        "        pytorch_version='1.13',\n",
        "        py_version='py39',\n",
        "        hyperparameters=hyperparameters)\n",
        "huggingface_estimator"
      ],
      "metadata": {
        "id": "UptX1RgXXXrj"
      },
      "execution_count": null,
      "outputs": []
    },
    {
      "cell_type": "code",
      "source": [
        "metric_definitions = [\n",
        "    {\"Name\": \"train_runtime\", \"Regex\": \"train_runtime.*=\\D*(.*?)$\"},\n",
        "    {\"Name\": \"eval_accuracy\", \"Regex\": \"eval_accuracy.*=\\D*(.*?)$\"},\n",
        "    {\"Name\": \"eval_loss\", \"Regex\": \"eval_loss.*=\\D*(.*?)$\"}]\n",
        "metric_definitions"
      ],
      "metadata": {
        "id": "o-HjxL60ZCDf",
        "outputId": "4de3e5aa-87a2-47ad-aad9-e25d79ad6d11",
        "colab": {
          "base_uri": "https://localhost:8080/"
        }
      },
      "execution_count": 13,
      "outputs": [
        {
          "output_type": "execute_result",
          "data": {
            "text/plain": [
              "[{'Name': 'train_runtime', 'Regex': 'train_runtime.*=\\\\D*(.*?)$'},\n",
              " {'Name': 'eval_accuracy', 'Regex': 'eval_accuracy.*=\\\\D*(.*?)$'},\n",
              " {'Name': 'eval_loss', 'Regex': 'eval_loss.*=\\\\D*(.*?)$'}]"
            ]
          },
          "metadata": {},
          "execution_count": 13
        }
      ]
    },
    {
      "cell_type": "code",
      "source": [
        "huggingface_estimator = HuggingFace(\n",
        "        entry_point='train.py',\n",
        "        source_dir='./scripts',\n",
        "        instance_type='ml.p3.2xlarge',\n",
        "        instance_count=1,\n",
        "        role=role,\n",
        "        transformers_version='4.26',\n",
        "        pytorch_version='1.13',\n",
        "        py_version='py39',\n",
        "        metric_definitions=metric_definitions,\n",
        "        hyperparameters = hyperparameters)\n",
        "huggingface_estimator"
      ],
      "metadata": {
        "id": "L1VZ8L0nZD7v"
      },
      "execution_count": null,
      "outputs": []
    },
    {
      "cell_type": "code",
      "source": [
        "huggingface_estimator=HuggingFace(\n",
        "    compiler_config=TrainingCompilerConfig())\n",
        "huggingface_estimator"
      ],
      "metadata": {
        "id": "DqDDKrD86GKk"
      },
      "execution_count": null,
      "outputs": []
    },
    {
      "cell_type": "markdown",
      "source": [
        "# PyTorch\n",
        "### Use PyTorch with the SageMaker Python SDK\n",
        "\n",
        "- Train\n",
        "\n",
        "- Deploy"
      ],
      "metadata": {
        "id": "-nq2Oc6l50Iy"
      }
    },
    {
      "cell_type": "code",
      "source": [
        "%%capture\n",
        "\n",
        "import argparse\n",
        "import os\n",
        "\n",
        "import torch\n",
        "import torch.distributed as dist\n",
        "from sagemaker.pytorch import PyTorch\n",
        "\n",
        "from six import BytesIO\n",
        "\n",
        "\n",
        "from sagemaker import get_execution_role\n",
        "from sagemaker.tensorflow import TensorFlow\n",
        "from sagemaker.tensorflow import TensorFlowModel"
      ],
      "metadata": {
        "id": "4dDRyS4bilAh"
      },
      "execution_count": 17,
      "outputs": []
    },
    {
      "cell_type": "code",
      "source": [
        "if __name__ =='__main__':\n",
        "\n",
        "    parser = argparse.ArgumentParser()\n",
        "\n",
        "\n",
        "    parser.add_argument('--epochs', type=int, default=50)\n",
        "    parser.add_argument('--batch-size', type=int, default=64)\n",
        "    parser.add_argument('--learning-rate', type=float, default=0.05)\n",
        "    parser.add_argument('--use-cuda', type=bool, default=False)\n",
        "\n",
        "    parser.add_argument('--output-data-dir', type=str, default=os.environ['SM_OUTPUT_DATA_DIR'])\n",
        "    parser.add_argument('--model-dir', type=str, default=os.environ['SM_MODEL_DIR'])\n",
        "    parser.add_argument('--train', type=str, default=os.environ['SM_CHANNEL_TRAIN'])\n",
        "    parser.add_argument('--test', type=str, default=os.environ['SM_CHANNEL_TEST'])\n",
        "\n",
        "    args, _ = parser.parse_known_args()"
      ],
      "metadata": {
        "id": "zU778pcgbwqp",
        "outputId": "67c032b6-5418-4c9e-e8b4-5e26fd0650ca",
        "colab": {
          "base_uri": "https://localhost:8080/",
          "height": 366
        }
      },
      "execution_count": 18,
      "outputs": [
        {
          "output_type": "error",
          "ename": "KeyError",
          "evalue": "ignored",
          "traceback": [
            "\u001b[0;31m---------------------------------------------------------------------------\u001b[0m",
            "\u001b[0;31mKeyError\u001b[0m                                  Traceback (most recent call last)",
            "\u001b[0;32m<ipython-input-18-74787269f812>\u001b[0m in \u001b[0;36m<cell line: 1>\u001b[0;34m()\u001b[0m\n\u001b[1;32m      9\u001b[0m     \u001b[0mparser\u001b[0m\u001b[0;34m.\u001b[0m\u001b[0madd_argument\u001b[0m\u001b[0;34m(\u001b[0m\u001b[0;34m'--use-cuda'\u001b[0m\u001b[0;34m,\u001b[0m \u001b[0mtype\u001b[0m\u001b[0;34m=\u001b[0m\u001b[0mbool\u001b[0m\u001b[0;34m,\u001b[0m \u001b[0mdefault\u001b[0m\u001b[0;34m=\u001b[0m\u001b[0;32mFalse\u001b[0m\u001b[0;34m)\u001b[0m\u001b[0;34m\u001b[0m\u001b[0;34m\u001b[0m\u001b[0m\n\u001b[1;32m     10\u001b[0m \u001b[0;34m\u001b[0m\u001b[0m\n\u001b[0;32m---> 11\u001b[0;31m     \u001b[0mparser\u001b[0m\u001b[0;34m.\u001b[0m\u001b[0madd_argument\u001b[0m\u001b[0;34m(\u001b[0m\u001b[0;34m'--output-data-dir'\u001b[0m\u001b[0;34m,\u001b[0m \u001b[0mtype\u001b[0m\u001b[0;34m=\u001b[0m\u001b[0mstr\u001b[0m\u001b[0;34m,\u001b[0m \u001b[0mdefault\u001b[0m\u001b[0;34m=\u001b[0m\u001b[0mos\u001b[0m\u001b[0;34m.\u001b[0m\u001b[0menviron\u001b[0m\u001b[0;34m[\u001b[0m\u001b[0;34m'SM_OUTPUT_DATA_DIR'\u001b[0m\u001b[0;34m]\u001b[0m\u001b[0;34m)\u001b[0m\u001b[0;34m\u001b[0m\u001b[0;34m\u001b[0m\u001b[0m\n\u001b[0m\u001b[1;32m     12\u001b[0m     \u001b[0mparser\u001b[0m\u001b[0;34m.\u001b[0m\u001b[0madd_argument\u001b[0m\u001b[0;34m(\u001b[0m\u001b[0;34m'--model-dir'\u001b[0m\u001b[0;34m,\u001b[0m \u001b[0mtype\u001b[0m\u001b[0;34m=\u001b[0m\u001b[0mstr\u001b[0m\u001b[0;34m,\u001b[0m \u001b[0mdefault\u001b[0m\u001b[0;34m=\u001b[0m\u001b[0mos\u001b[0m\u001b[0;34m.\u001b[0m\u001b[0menviron\u001b[0m\u001b[0;34m[\u001b[0m\u001b[0;34m'SM_MODEL_DIR'\u001b[0m\u001b[0;34m]\u001b[0m\u001b[0;34m)\u001b[0m\u001b[0;34m\u001b[0m\u001b[0;34m\u001b[0m\u001b[0m\n\u001b[1;32m     13\u001b[0m     \u001b[0mparser\u001b[0m\u001b[0;34m.\u001b[0m\u001b[0madd_argument\u001b[0m\u001b[0;34m(\u001b[0m\u001b[0;34m'--train'\u001b[0m\u001b[0;34m,\u001b[0m \u001b[0mtype\u001b[0m\u001b[0;34m=\u001b[0m\u001b[0mstr\u001b[0m\u001b[0;34m,\u001b[0m \u001b[0mdefault\u001b[0m\u001b[0;34m=\u001b[0m\u001b[0mos\u001b[0m\u001b[0;34m.\u001b[0m\u001b[0menviron\u001b[0m\u001b[0;34m[\u001b[0m\u001b[0;34m'SM_CHANNEL_TRAIN'\u001b[0m\u001b[0;34m]\u001b[0m\u001b[0;34m)\u001b[0m\u001b[0;34m\u001b[0m\u001b[0;34m\u001b[0m\u001b[0m\n",
            "\u001b[0;32m/usr/lib/python3.10/os.py\u001b[0m in \u001b[0;36m__getitem__\u001b[0;34m(self, key)\u001b[0m\n\u001b[1;32m    678\u001b[0m         \u001b[0;32mexcept\u001b[0m \u001b[0mKeyError\u001b[0m\u001b[0;34m:\u001b[0m\u001b[0;34m\u001b[0m\u001b[0;34m\u001b[0m\u001b[0m\n\u001b[1;32m    679\u001b[0m             \u001b[0;31m# raise KeyError with the original key value\u001b[0m\u001b[0;34m\u001b[0m\u001b[0;34m\u001b[0m\u001b[0m\n\u001b[0;32m--> 680\u001b[0;31m             \u001b[0;32mraise\u001b[0m \u001b[0mKeyError\u001b[0m\u001b[0;34m(\u001b[0m\u001b[0mkey\u001b[0m\u001b[0;34m)\u001b[0m \u001b[0;32mfrom\u001b[0m \u001b[0;32mNone\u001b[0m\u001b[0;34m\u001b[0m\u001b[0;34m\u001b[0m\u001b[0m\n\u001b[0m\u001b[1;32m    681\u001b[0m         \u001b[0;32mreturn\u001b[0m \u001b[0mself\u001b[0m\u001b[0;34m.\u001b[0m\u001b[0mdecodevalue\u001b[0m\u001b[0;34m(\u001b[0m\u001b[0mvalue\u001b[0m\u001b[0;34m)\u001b[0m\u001b[0;34m\u001b[0m\u001b[0;34m\u001b[0m\u001b[0m\n\u001b[1;32m    682\u001b[0m \u001b[0;34m\u001b[0m\u001b[0m\n",
            "\u001b[0;31mKeyError\u001b[0m: 'SM_OUTPUT_DATA_DIR'"
          ]
        }
      ]
    },
    {
      "cell_type": "code",
      "source": [
        "if __name__=='__main__':\n",
        "\n",
        "    parser.add_argument('--model-dir', type=str, default=os.environ['SM_MODEL_DIR'])\n",
        "    args, _ = parser.parse_known_args()\n",
        "\n",
        "\n",
        "    with open(os.path.join(args.model_dir, 'model.pth'), 'wb') as f:\n",
        "        torch.save(model.state_dict(), f)"
      ],
      "metadata": {
        "id": "4T_PCDsDbw1d"
      },
      "execution_count": null,
      "outputs": []
    },
    {
      "cell_type": "code",
      "source": [
        "model_dir = os.path.join(model_dir, \"model.pt\")\n",
        "model_dir"
      ],
      "metadata": {
        "id": "yowfABH-bw_x",
        "outputId": "87316da0-7823-4f9d-98ef-2fc8684ee0b3",
        "colab": {
          "base_uri": "https://localhost:8080/",
          "height": 193
        }
      },
      "execution_count": 19,
      "outputs": [
        {
          "output_type": "error",
          "ename": "NameError",
          "evalue": "ignored",
          "traceback": [
            "\u001b[0;31m---------------------------------------------------------------------------\u001b[0m",
            "\u001b[0;31mNameError\u001b[0m                                 Traceback (most recent call last)",
            "\u001b[0;32m<ipython-input-19-a93027dc476f>\u001b[0m in \u001b[0;36m<cell line: 1>\u001b[0;34m()\u001b[0m\n\u001b[0;32m----> 1\u001b[0;31m \u001b[0mmodel_dir\u001b[0m \u001b[0;34m=\u001b[0m \u001b[0mos\u001b[0m\u001b[0;34m.\u001b[0m\u001b[0mpath\u001b[0m\u001b[0;34m.\u001b[0m\u001b[0mjoin\u001b[0m\u001b[0;34m(\u001b[0m\u001b[0mmodel_dir\u001b[0m\u001b[0;34m,\u001b[0m \u001b[0;34m\"model.pt\"\u001b[0m\u001b[0;34m)\u001b[0m\u001b[0;34m\u001b[0m\u001b[0;34m\u001b[0m\u001b[0m\n\u001b[0m\u001b[1;32m      2\u001b[0m \u001b[0mmodel_dir\u001b[0m\u001b[0;34m\u001b[0m\u001b[0;34m\u001b[0m\u001b[0m\n",
            "\u001b[0;31mNameError\u001b[0m: name 'model_dir' is not defined"
          ]
        }
      ]
    },
    {
      "cell_type": "code",
      "source": [
        "torch.jit.save(model, model_dir)"
      ],
      "metadata": {
        "id": "a-ajC9Aag3FQ"
      },
      "execution_count": null,
      "outputs": []
    },
    {
      "cell_type": "code",
      "source": [
        "pytorch_estimator = PyTorch('pytorch-train.py',\n",
        "                            instance_type='ml.p3.2xlarge',\n",
        "                            instance_count=1,\n",
        "                            framework_version='1.8.0',\n",
        "                            py_version='py3',\n",
        "                            hyperparameters = {'epochs': 20, 'batch-size': 64, 'learning-rate': 0.1})\n",
        "pytorch_estimator"
      ],
      "metadata": {
        "id": "u2_w-o64bxJZ"
      },
      "execution_count": null,
      "outputs": []
    },
    {
      "cell_type": "code",
      "source": [
        "pytorch_estimator.fit({'train': 's3://my-data-bucket/path/to/my/training/data',\n",
        "                       'test': 's3://my-data-bucket/path/to/my/test/data'})"
      ],
      "metadata": {
        "id": "QCmSrTubglbn"
      },
      "execution_count": null,
      "outputs": []
    },
    {
      "cell_type": "code",
      "source": [
        "{'train':'s3://my-bucket/my-training-data',\n",
        " 'eval':'s3://my-bucket/my-evaluation-data'}"
      ],
      "metadata": {
        "id": "yK1dMj-UbxTE",
        "outputId": "14ce173d-63fb-4422-f613-4068f62d7377",
        "colab": {
          "base_uri": "https://localhost:8080/"
        }
      },
      "execution_count": 20,
      "outputs": [
        {
          "output_type": "execute_result",
          "data": {
            "text/plain": [
              "{'train': 's3://my-bucket/my-training-data',\n",
              " 'eval': 's3://my-bucket/my-evaluation-data'}"
            ]
          },
          "metadata": {},
          "execution_count": 20
        }
      ]
    },
    {
      "cell_type": "code",
      "source": [
        "if args.distributed:\n",
        "    world_size = len(args.hosts)\n",
        "    os.environ['WORLD_SIZE'] = str(world_size)\n",
        "    host_rank = args.hosts.index(args.current_host)\n",
        "    dist.init_process_group(backend=args.backend, rank=host_rank)"
      ],
      "metadata": {
        "id": "66BVK-bBbxc6"
      },
      "execution_count": null,
      "outputs": []
    },
    {
      "cell_type": "code",
      "source": [
        "pt_estimator = PyTorch(\n",
        "    entry_point=\"train_ptddp.py\",\n",
        "    role=\"SageMakerRole\",\n",
        "    framework_version=\"1.12.0\",\n",
        "    py_version=\"py38\",\n",
        "    instance_count=2,\n",
        "    instance_type=\"ml.p4d.24xlarge\",\n",
        "    distribution={\n",
        "        \"pytorchddp\": {\n",
        "            \"enabled\": True}})\n",
        "pt_estimator"
      ],
      "metadata": {
        "id": "KdFKTTdJbyTW"
      },
      "execution_count": null,
      "outputs": []
    },
    {
      "cell_type": "code",
      "source": [
        "pt_estimator = PyTorch(\n",
        "    entry_point=\"train_ptddp.py\",\n",
        "    role=\"SageMakerRole\",\n",
        "    framework_version=\"1.13.1\",\n",
        "    py_version=\"py38\",\n",
        "    instance_count=2,\n",
        "    instance_type=\"ml.p4d.24xlarge\",\n",
        "    distribution={\n",
        "        \"torch_distributed\": {\n",
        "        \"enabled\": True}})\n",
        "pt_estimator"
      ],
      "metadata": {
        "id": "YFUD-PRzfhyy"
      },
      "execution_count": null,
      "outputs": []
    },
    {
      "cell_type": "code",
      "source": [
        "dist.init_process_group('xla')"
      ],
      "metadata": {
        "id": "KFhxeprffiH-"
      },
      "execution_count": null,
      "outputs": []
    },
    {
      "cell_type": "code",
      "source": [
        "pt_estimator = PyTorch(\n",
        "    entry_point=\"train_torch_distributed.py\",\n",
        "    role=\"SageMakerRole\",\n",
        "    framework_version=\"1.11.0\",\n",
        "    py_version=\"py38\",\n",
        "    instance_count=1,\n",
        "    instance_type=\"ml.trn1.2xlarge\",\n",
        "    distribution={\n",
        "        \"torch_distributed\": {\n",
        "            \"enabled\": True}})\n",
        "pt_estimator"
      ],
      "metadata": {
        "id": "Dwu_FiFIfiR1"
      },
      "execution_count": null,
      "outputs": []
    },
    {
      "cell_type": "code",
      "source": [
        "pt_estimator.fit(\"s3://bucket/path/to/training/data\")"
      ],
      "metadata": {
        "id": "Uo8GN80hhauH"
      },
      "execution_count": null,
      "outputs": []
    },
    {
      "cell_type": "code",
      "source": [
        "pt_estimator = PyTorch(\n",
        "    entry_point=\"train_torch_distributed.py\",\n",
        "    role=\"SageMakerRole\",\n",
        "    framework_version=\"1.11.0\",\n",
        "    py_version=\"py38\",\n",
        "    instance_count=2,\n",
        "    instance_type=\"ml.trn1.32xlarge\",\n",
        "    distribution={\n",
        "        \"torch_distributed\": {\n",
        "            \"enabled\": True}})\n",
        "pt_estimator"
      ],
      "metadata": {
        "id": "CIl8PIk_fibh"
      },
      "execution_count": null,
      "outputs": []
    },
    {
      "cell_type": "code",
      "source": [
        "pt_estimator.fit(\"s3://bucket/path/to/training/data\")"
      ],
      "metadata": {
        "id": "5A3tFB_Ehj4o"
      },
      "execution_count": null,
      "outputs": []
    },
    {
      "cell_type": "code",
      "source": [
        "pytorch_estimator = PyTorch(entry_point='train_and_deploy.py',\n",
        "                            instance_type='ml.p3.2xlarge',\n",
        "                            instance_count=1,\n",
        "                            framework_version='1.8.0',\n",
        "                            py_version='py3')\n",
        "pytorch_estimator"
      ],
      "metadata": {
        "id": "VHFWV0bBfiuo"
      },
      "execution_count": null,
      "outputs": []
    },
    {
      "cell_type": "code",
      "source": [
        "pytorch_estimator.fit('s3://my_bucket/my_training_data/')"
      ],
      "metadata": {
        "id": "qwlXtyxMhu-3"
      },
      "execution_count": null,
      "outputs": []
    },
    {
      "cell_type": "code",
      "source": [
        "predictor = pytorch_estimator.deploy(instance_type='ml.m4.xlarge',initial_instance_count=1)\n",
        "predictor"
      ],
      "metadata": {
        "id": "wlEG0MPmhvB_",
        "outputId": "bca984c7-4f89-49d9-9588-c7b85f5776be",
        "colab": {
          "base_uri": "https://localhost:8080/",
          "height": 193
        }
      },
      "execution_count": 21,
      "outputs": [
        {
          "output_type": "error",
          "ename": "NameError",
          "evalue": "ignored",
          "traceback": [
            "\u001b[0;31m---------------------------------------------------------------------------\u001b[0m",
            "\u001b[0;31mNameError\u001b[0m                                 Traceback (most recent call last)",
            "\u001b[0;32m<ipython-input-21-81d1f8581de4>\u001b[0m in \u001b[0;36m<cell line: 1>\u001b[0;34m()\u001b[0m\n\u001b[0;32m----> 1\u001b[0;31m \u001b[0mpredictor\u001b[0m \u001b[0;34m=\u001b[0m \u001b[0mpytorch_estimator\u001b[0m\u001b[0;34m.\u001b[0m\u001b[0mdeploy\u001b[0m\u001b[0;34m(\u001b[0m\u001b[0minstance_type\u001b[0m\u001b[0;34m=\u001b[0m\u001b[0;34m'ml.m4.xlarge'\u001b[0m\u001b[0;34m,\u001b[0m\u001b[0minitial_instance_count\u001b[0m\u001b[0;34m=\u001b[0m\u001b[0;36m1\u001b[0m\u001b[0;34m)\u001b[0m\u001b[0;34m\u001b[0m\u001b[0;34m\u001b[0m\u001b[0m\n\u001b[0m\u001b[1;32m      2\u001b[0m \u001b[0mpredictor\u001b[0m\u001b[0;34m\u001b[0m\u001b[0;34m\u001b[0m\u001b[0m\n",
            "\u001b[0;31mNameError\u001b[0m: name 'pytorch_estimator' is not defined"
          ]
        }
      ]
    },
    {
      "cell_type": "code",
      "source": [
        "response = predictor.predict(data)\n",
        "response"
      ],
      "metadata": {
        "id": "WScteVtyhx0Q",
        "outputId": "81d74202-b42a-48e0-9d52-22ce78214007",
        "colab": {
          "base_uri": "https://localhost:8080/",
          "height": 193
        }
      },
      "execution_count": 22,
      "outputs": [
        {
          "output_type": "error",
          "ename": "NameError",
          "evalue": "ignored",
          "traceback": [
            "\u001b[0;31m---------------------------------------------------------------------------\u001b[0m",
            "\u001b[0;31mNameError\u001b[0m                                 Traceback (most recent call last)",
            "\u001b[0;32m<ipython-input-22-c1012fbb875b>\u001b[0m in \u001b[0;36m<cell line: 1>\u001b[0;34m()\u001b[0m\n\u001b[0;32m----> 1\u001b[0;31m \u001b[0mresponse\u001b[0m \u001b[0;34m=\u001b[0m \u001b[0mpredictor\u001b[0m\u001b[0;34m.\u001b[0m\u001b[0mpredict\u001b[0m\u001b[0;34m(\u001b[0m\u001b[0mdata\u001b[0m\u001b[0;34m)\u001b[0m\u001b[0;34m\u001b[0m\u001b[0;34m\u001b[0m\u001b[0m\n\u001b[0m\u001b[1;32m      2\u001b[0m \u001b[0mresponse\u001b[0m\u001b[0;34m\u001b[0m\u001b[0;34m\u001b[0m\u001b[0m\n",
            "\u001b[0;31mNameError\u001b[0m: name 'predictor' is not defined"
          ]
        }
      ]
    },
    {
      "cell_type": "code",
      "source": [
        "predictor = pytorch_estimator.deploy(instance_type='ml.m4.xlarge',\n",
        "                                     initial_instance_count=1,\n",
        "                                     accelerator_type='ml.eia2.medium')\n",
        "predictor"
      ],
      "metadata": {
        "id": "i3ZX0gG-fi4Q"
      },
      "execution_count": null,
      "outputs": []
    },
    {
      "cell_type": "code",
      "source": [
        "def model_fn(model_dir, context)"
      ],
      "metadata": {
        "id": "6G8JN94ZbycX",
        "outputId": "0f9e41ad-09f2-45ae-fa1e-9848886756ca",
        "colab": {
          "base_uri": "https://localhost:8080/",
          "height": 140
        }
      },
      "execution_count": 23,
      "outputs": [
        {
          "output_type": "error",
          "ename": "SyntaxError",
          "evalue": "ignored",
          "traceback": [
            "\u001b[0;36m  File \u001b[0;32m\"<ipython-input-23-876e92f2c20d>\"\u001b[0;36m, line \u001b[0;32m1\u001b[0m\n\u001b[0;31m    def model_fn(model_dir, context)\u001b[0m\n\u001b[0m                                    ^\u001b[0m\n\u001b[0;31mSyntaxError\u001b[0m\u001b[0;31m:\u001b[0m expected ':'\n"
          ]
        }
      ]
    },
    {
      "cell_type": "code",
      "source": [
        "def model_fn(model_dir, context):\n",
        "    model = Your_Model()\n",
        "    with open(os.path.join(model_dir, 'model.pth'), 'rb') as f:\n",
        "        model.load_state_dict(torch.load(f))\n",
        "    return model"
      ],
      "metadata": {
        "id": "6Ko8HtfofxjY"
      },
      "execution_count": 24,
      "outputs": []
    },
    {
      "cell_type": "code",
      "source": [
        "def model_fn(model_dir):\n",
        "    model = torch.jit.load('model.pth', map_location=torch.device('cpu'))\n",
        "    if torch.__version__ == '1.5.1':\n",
        "        import torcheia\n",
        "        model = model.eval()\n",
        "        model = torcheia.jit.attach_eia(model, 0)\n",
        "    return model"
      ],
      "metadata": {
        "id": "qIHSxAJ9fxzo"
      },
      "execution_count": 25,
      "outputs": []
    },
    {
      "cell_type": "code",
      "source": [
        "input_object = input_fn(request_body, request_content_type, context)\n",
        "input_object"
      ],
      "metadata": {
        "id": "piZDyR7-fyAY",
        "outputId": "74df7894-868d-4ae1-e3b9-dc65ebb01b21",
        "colab": {
          "base_uri": "https://localhost:8080/",
          "height": 193
        }
      },
      "execution_count": 26,
      "outputs": [
        {
          "output_type": "error",
          "ename": "NameError",
          "evalue": "ignored",
          "traceback": [
            "\u001b[0;31m---------------------------------------------------------------------------\u001b[0m",
            "\u001b[0;31mNameError\u001b[0m                                 Traceback (most recent call last)",
            "\u001b[0;32m<ipython-input-26-ef64bad32def>\u001b[0m in \u001b[0;36m<cell line: 1>\u001b[0;34m()\u001b[0m\n\u001b[0;32m----> 1\u001b[0;31m \u001b[0minput_object\u001b[0m \u001b[0;34m=\u001b[0m \u001b[0minput_fn\u001b[0m\u001b[0;34m(\u001b[0m\u001b[0mrequest_body\u001b[0m\u001b[0;34m,\u001b[0m \u001b[0mrequest_content_type\u001b[0m\u001b[0;34m,\u001b[0m \u001b[0mcontext\u001b[0m\u001b[0;34m)\u001b[0m\u001b[0;34m\u001b[0m\u001b[0;34m\u001b[0m\u001b[0m\n\u001b[0m\u001b[1;32m      2\u001b[0m \u001b[0minput_object\u001b[0m\u001b[0;34m\u001b[0m\u001b[0;34m\u001b[0m\u001b[0m\n",
            "\u001b[0;31mNameError\u001b[0m: name 'input_fn' is not defined"
          ]
        }
      ]
    },
    {
      "cell_type": "code",
      "source": [
        "prediction = predict_fn(input_object, model, context)\n",
        "prediction"
      ],
      "metadata": {
        "id": "FuvnUhBNiEfQ"
      },
      "execution_count": null,
      "outputs": []
    },
    {
      "cell_type": "code",
      "source": [
        "output = output_fn(prediction, response_content_type, context)\n",
        "output"
      ],
      "metadata": {
        "id": "2tc5HsHjiEiB"
      },
      "execution_count": null,
      "outputs": []
    },
    {
      "cell_type": "code",
      "source": [
        "def input_fn(request_body, request_content_type):\n",
        "    if request_content_type == 'application/python-pickle':\n",
        "        return torch.load(BytesIO(request_body))\n",
        "    else:\n",
        "        pass"
      ],
      "metadata": {
        "id": "f0H5IF4PfyWQ"
      },
      "execution_count": null,
      "outputs": []
    },
    {
      "cell_type": "code",
      "source": [
        "def predict_fn(input_object, model, context)"
      ],
      "metadata": {
        "id": "Ue41sWIhfyjZ"
      },
      "execution_count": null,
      "outputs": []
    },
    {
      "cell_type": "code",
      "source": [
        "def predict_fn(input_data, model):\n",
        "    device = torch.device('cuda' if torch.cuda.is_available() else 'cpu')\n",
        "    model.to(device)\n",
        "    model.eval()\n",
        "    with torch.no_grad():\n",
        "        return model(input_data.to(device))"
      ],
      "metadata": {
        "id": "urcRCEAPfyvw"
      },
      "execution_count": 27,
      "outputs": []
    },
    {
      "cell_type": "code",
      "source": [
        "def predict_fn(input_data, model, context):\n",
        "    device = torch.device(\"cuda:\" + str(context.system_properties.get(\"gpu_id\")) if torch.cuda.is_available() else \"cpu\")\n",
        "    model.to(device)\n",
        "    model.eval()\n",
        "    with torch.no_grad():\n",
        "        return model(input_data.to(device))"
      ],
      "metadata": {
        "id": "eKwS9g1Kf-KI"
      },
      "execution_count": 28,
      "outputs": []
    },
    {
      "cell_type": "code",
      "source": [
        "def predict_fn(input_data, model):\n",
        "    device = torch.device(\"cpu\")\n",
        "    model = model.to(device)\n",
        "    input_data = data.to(device)\n",
        "    model.eval()\n",
        "    with torch.jit.optimized_execution(True, {\"target_device\": \"eia:0\"}):\n",
        "        output = model(input_data)"
      ],
      "metadata": {
        "id": "96HgTihif-VR"
      },
      "execution_count": 29,
      "outputs": []
    },
    {
      "cell_type": "code",
      "source": [
        "def predict_fn(input_data, model):\n",
        "    device = torch.device(\"cpu\")\n",
        "    input_data = data.to(device)\n",
        "    torch._C._jit_set_profiling_executor(False)\n",
        "    with torch.jit.optimized_execution(True):\n",
        "        output = model.forward(input_data)"
      ],
      "metadata": {
        "id": "VrTfIjhrf-g0"
      },
      "execution_count": 30,
      "outputs": []
    },
    {
      "cell_type": "code",
      "source": [
        "def output_fn(prediction, content_type, context):"
      ],
      "metadata": {
        "id": "aTwdSciyf-sC",
        "outputId": "8c9dee78-9dd5-4b32-cbf0-9e641d42c096",
        "colab": {
          "base_uri": "https://localhost:8080/",
          "height": 140
        }
      },
      "execution_count": 32,
      "outputs": [
        {
          "output_type": "error",
          "ename": "SyntaxError",
          "evalue": "ignored",
          "traceback": [
            "\u001b[0;36m  File \u001b[0;32m\"<ipython-input-32-053c20490585>\"\u001b[0;36m, line \u001b[0;32m1\u001b[0m\n\u001b[0;31m    def output_fn(prediction, content_type, context):\u001b[0m\n\u001b[0m                                                     ^\u001b[0m\n\u001b[0;31mSyntaxError\u001b[0m\u001b[0;31m:\u001b[0m incomplete input\n"
          ]
        }
      ]
    },
    {
      "cell_type": "code",
      "source": [
        "role = get_execution_role()\n",
        "role"
      ],
      "metadata": {
        "id": "CCNV58zmf-2b"
      },
      "execution_count": null,
      "outputs": []
    },
    {
      "cell_type": "code",
      "source": [
        "pytorch_model = PyTorchModel(model_data='s3://my-bucket/my-path/model.tar.gz', role=role,entry_point='inference.py')\n",
        "pytorch_model"
      ],
      "metadata": {
        "id": "UKMUnsGxi_Cx"
      },
      "execution_count": null,
      "outputs": []
    },
    {
      "cell_type": "code",
      "source": [
        "predictor = pytorch_model.deploy(instance_type='ml.c4.xlarge', initial_instance_count=1)\n",
        "predictor"
      ],
      "metadata": {
        "id": "DA3_Prhli_Fi"
      },
      "execution_count": null,
      "outputs": []
    },
    {
      "cell_type": "code",
      "source": [
        "my_training_job_name = 'MyAwesomePyTorchTrainingJob'\n",
        "my_training_job_name"
      ],
      "metadata": {
        "id": "fQgBK37pf_BC"
      },
      "execution_count": null,
      "outputs": []
    },
    {
      "cell_type": "code",
      "source": [
        "pytorch_estimator = PyTorch.attach(my_training_job_name)\n",
        "pytorch_estimator"
      ],
      "metadata": {
        "id": "qeSK_guujGNT"
      },
      "execution_count": null,
      "outputs": []
    },
    {
      "cell_type": "markdown",
      "source": [
        "## Tensorflow\n",
        "\n",
        "#### Deploying to TensorFlow Serving Endpoints"
      ],
      "metadata": {
        "id": "so_m2Sn14P65"
      }
    },
    {
      "cell_type": "code",
      "source": [
        "estimator = TensorFlow(\n",
        "    entry_point=\"tf-train.py\",\n",
        "    instance_count=1,\n",
        "    instance_type=\"ml.c4.xlarge\",\n",
        "    framework_version=\"2.2\",\n",
        "    py_version=\"py37\")\n",
        "estimator"
      ],
      "metadata": {
        "id": "W_RU9u3-4QAQ"
      },
      "execution_count": null,
      "outputs": []
    },
    {
      "cell_type": "code",
      "source": [
        "estimator.fit(inputs)"
      ],
      "metadata": {
        "id": "zkH-vZOIjxwd"
      },
      "execution_count": null,
      "outputs": []
    },
    {
      "cell_type": "code",
      "source": [
        "predictor = estimator.deploy(initial_instance_count=1, instance_type=\"ml.c5.xlarge\")\n",
        "predictor"
      ],
      "metadata": {
        "id": "oa0-OUTajxy0"
      },
      "execution_count": null,
      "outputs": []
    },
    {
      "cell_type": "code",
      "source": [
        "model = TensorFlowModel(model_data='s3://mybucket/model.tar.gz', role='MySageMakerRole')\n",
        "model"
      ],
      "metadata": {
        "id": "ZPQj38xEcaEg"
      },
      "execution_count": null,
      "outputs": []
    },
    {
      "cell_type": "code",
      "source": [
        "predictor = model.deploy(initial_instance_count=1, instance_type='ml.c5.xlarge')\n",
        "predictor"
      ],
      "metadata": {
        "id": "3yjeIisPkFWl"
      },
      "execution_count": null,
      "outputs": []
    },
    {
      "cell_type": "code",
      "source": [
        "model = TensorFlowModel(model_data='s3://mybucket/model.tar.gz', role='MySageMakerRole')\n",
        "model"
      ],
      "metadata": {
        "id": "ZNWBrA86cagX"
      },
      "execution_count": null,
      "outputs": []
    },
    {
      "cell_type": "code",
      "source": [
        "predictor = model.deploy(initial_instance_count=1, instance_type='ml.c5.xlarge', accelerator_type='ml.eia1.medium')\n",
        "predictor"
      ],
      "metadata": {
        "id": "6TNt79UikF9i"
      },
      "execution_count": null,
      "outputs": []
    },
    {
      "cell_type": "code",
      "source": [
        "input = {'instances': [1.0, 2.0, 5.0]}\n",
        "input"
      ],
      "metadata": {
        "id": "mKOjptWWcaqq"
      },
      "execution_count": null,
      "outputs": []
    },
    {
      "cell_type": "code",
      "source": [
        "result = predictor.predict(input)\n",
        "result"
      ],
      "metadata": {
        "id": "tMrFxZpAkVz0"
      },
      "execution_count": null,
      "outputs": []
    },
    {
      "cell_type": "code",
      "source": [
        "{'predictions': [3.5, 4.0, 5.5]}"
      ],
      "metadata": {
        "id": "99xi7gTfca1A"
      },
      "execution_count": null,
      "outputs": []
    },
    {
      "cell_type": "code",
      "source": [
        "input = {'signature_name': 'tensorflow/serving/regress',\n",
        "         'examples': [{'x': 1.0}, {'x': 2.0}]}\n",
        "input"
      ],
      "metadata": {
        "id": "rUb-mvz-ca-w"
      },
      "execution_count": null,
      "outputs": []
    },
    {
      "cell_type": "code",
      "source": [
        "result = predictor.regress(input)\n",
        "result"
      ],
      "metadata": {
        "id": "JkV3ot2Rke3d"
      },
      "execution_count": null,
      "outputs": []
    },
    {
      "cell_type": "code",
      "source": [
        "{'results': [3.5, 4.0]}"
      ],
      "metadata": {
        "id": "XsxcqXvMke6b"
      },
      "execution_count": null,
      "outputs": []
    },
    {
      "cell_type": "code",
      "source": [
        "input = {'instances': [\n",
        "    [1.0, 2.0, 5.0],\n",
        "    [1.0, 2.0, 5.0],\n",
        "    [1.0, 2.0, 5.0]]}\n",
        "input"
      ],
      "metadata": {
        "id": "SiIeL6UCcbP_"
      },
      "execution_count": null,
      "outputs": []
    },
    {
      "cell_type": "code",
      "source": [
        "result = predictor.predict(input)\n",
        "result"
      ],
      "metadata": {
        "id": "5oDG3k63kwTV"
      },
      "execution_count": null,
      "outputs": []
    },
    {
      "cell_type": "code",
      "source": [
        "{'predictions': [\n",
        "  [3.5, 4.0, 5.5],\n",
        "  [3.5, 4.0, 5.5],\n",
        "  [3.5, 4.0, 5.5]]}"
      ],
      "metadata": {
        "id": "2Vwfs6HLkwWj"
      },
      "execution_count": null,
      "outputs": []
    },
    {
      "cell_type": "code",
      "source": [
        "input = [[1.0, 2.0, 5.0],\n",
        "        [1.0, 2.0, 5.0]]\n",
        "input"
      ],
      "metadata": {
        "id": "DZg-QzYfcbY5"
      },
      "execution_count": null,
      "outputs": []
    },
    {
      "cell_type": "code",
      "source": [
        "result = predictor.predict(input)\n",
        "result"
      ],
      "metadata": {
        "id": "GozjIhVbleLU"
      },
      "execution_count": null,
      "outputs": []
    },
    {
      "cell_type": "code",
      "source": [
        "{'predictions': [\n",
        "  [3.5, 4.0, 5.5],\n",
        "  [3.5, 4.0, 5.5]]}"
      ],
      "metadata": {
        "id": "yh_dhg_KleOZ"
      },
      "execution_count": null,
      "outputs": []
    },
    {
      "cell_type": "code",
      "source": [
        "input = {'x': [1.0, 2.0, 5.0]}\n",
        "input"
      ],
      "metadata": {
        "id": "_7RqsMezcbiQ"
      },
      "execution_count": null,
      "outputs": []
    },
    {
      "cell_type": "code",
      "source": [
        "{'predictions': [[3.5, 4.0, 5.5]]}"
      ],
      "metadata": {
        "id": "MCaeB9TilqU0"
      },
      "execution_count": null,
      "outputs": []
    },
    {
      "cell_type": "code",
      "source": [
        "predictor = Predictor('endpoint-name', serializer=None, content_type='application/jsonlines')\n",
        "predictor"
      ],
      "metadata": {
        "id": "wyeY_YBucbz3"
      },
      "execution_count": null,
      "outputs": []
    },
    {
      "cell_type": "code",
      "source": [
        "input = '''{'x': [1.0, 2.0, 5.0]}\n",
        "{'x': [1.0, 2.0, 5.0]}\n",
        "{'x': [1.0, 2.0, 5.0]}'''\n",
        "input"
      ],
      "metadata": {
        "id": "Tub5Kizvlt40"
      },
      "execution_count": null,
      "outputs": []
    },
    {
      "cell_type": "code",
      "source": [
        "result = predictor.predict(input)\n",
        "result"
      ],
      "metadata": {
        "id": "iQctNr9rlt7V"
      },
      "execution_count": null,
      "outputs": []
    },
    {
      "cell_type": "code",
      "source": [
        "{'predictions': [\n",
        "  [3.5, 4.0, 5.5],\n",
        "  [3.5, 4.0, 5.5],\n",
        "  [3.5, 4.0, 5.5]]}"
      ],
      "metadata": {
        "id": "TBA0l754lsNM"
      },
      "execution_count": null,
      "outputs": []
    },
    {
      "cell_type": "code",
      "source": [
        "predictor = Predictor('endpoint-name', serializer=sagemaker.serializers.CSVSerializer())\n",
        "predictor"
      ],
      "metadata": {
        "id": "y1bUiYIucb95"
      },
      "execution_count": null,
      "outputs": []
    },
    {
      "cell_type": "code",
      "source": [
        "input = '1.0,2.0,5.0\\n1.0,2.0,5.0\\n1.0,2.0,5.0'\n",
        "input"
      ],
      "metadata": {
        "id": "wANe1NSjpLBH"
      },
      "execution_count": null,
      "outputs": []
    },
    {
      "cell_type": "code",
      "source": [
        "result = predictor.predict(input)\n",
        "result"
      ],
      "metadata": {
        "id": "P7-FEf7ZpLDt"
      },
      "execution_count": null,
      "outputs": []
    },
    {
      "cell_type": "code",
      "source": [
        "{'predictions': [\n",
        "  [3.5, 4.0, 5.5],\n",
        "  [3.5, 4.0, 5.5],\n",
        "  [3.5, 4.0, 5.5]]}"
      ],
      "metadata": {
        "id": "ydXgTdVgpNo_"
      },
      "execution_count": null,
      "outputs": []
    },
    {
      "cell_type": "code",
      "source": [
        "model = Model(entry_point='inference.py',\n",
        "              model_data='s3://mybucket/model.tar.gz',\n",
        "              role='MySageMakerRole')\n",
        "model"
      ],
      "metadata": {
        "id": "_3Ckos1jccGh"
      },
      "execution_count": null,
      "outputs": []
    },
    {
      "cell_type": "code",
      "source": [
        "def input_handler(data, context):\n",
        "\n",
        "    if context.request_content_type == 'application/json':\n",
        "        d = data.read().decode('utf-8')\n",
        "        return d if len(d) else ''\n",
        "\n",
        "    if context.request_content_type == 'text/csv':\n",
        "        return json.dumps({\n",
        "            'instances': [float(x) for x in data.read().decode('utf-8').split(',')]})\n",
        "\n",
        "    raise ValueError('{{\"error\": \"unsupported content type {}\"}}'.format(\n",
        "        context.request_content_type or \"unknown\"))\n",
        "\n",
        "\n",
        "def output_handler(data, context):\n",
        "    if data.status_code != 200:\n",
        "        raise ValueError(data.content.decode('utf-8'))\n",
        "    response_content_type = context.accept_header\n",
        "    prediction = data.content\n",
        "    return prediction, response_content_type"
      ],
      "metadata": {
        "id": "-dm_OWnEcgIH"
      },
      "execution_count": null,
      "outputs": []
    },
    {
      "cell_type": "code",
      "source": [
        "def handler(data, context):\n",
        "    processed_input = _process_input(data, context)\n",
        "    response = requests.post(context.rest_uri, data=processed_input)\n",
        "    return _process_output(response, context)\n",
        "\n",
        "def _process_input(data, context):\n",
        "    if context.request_content_type == 'application/json':\n",
        "\n",
        "        d = data.read().decode('utf-8')\n",
        "        return d if len(d) else ''\n",
        "\n",
        "    if context.request_content_type == 'text/csv':\n",
        "\n",
        "        return json.dumps({\n",
        "            'instances': [float(x) for x in data.read().decode('utf-8').split(',')]})\n",
        "\n",
        "    raise ValueError('{{\"error\": \"unsupported content type {}\"}}'.format(\n",
        "        context.request_content_type or \"unknown\"))\n",
        "\n",
        "def _process_output(data, context):\n",
        "    if data.status_code != 200:\n",
        "        raise ValueError(data.content.decode('utf-8'))\n",
        "\n",
        "    response_content_type = context.accept_header\n",
        "    prediction = data.content\n",
        "    return prediction, response_content_type"
      ],
      "metadata": {
        "id": "xrMs3Gn0dcNx"
      },
      "execution_count": null,
      "outputs": []
    },
    {
      "cell_type": "code",
      "source": [
        "model = Model(entry_point='inference.py',\n",
        "              source_dir='source/directory',\n",
        "              model_data='s3://mybucket/model.tar.gz',\n",
        "              role='MySageMakerRole')\n",
        "model"
      ],
      "metadata": {
        "id": "FS37IjOedcXZ"
      },
      "execution_count": null,
      "outputs": []
    },
    {
      "cell_type": "code",
      "source": [
        "model = Model(entry_point='inference.py',\n",
        "              dependencies=['/path/to/folder/named/lib'],\n",
        "              model_data='s3://mybucket/model.tar.gz',\n",
        "              role='MySageMakerRole')\n",
        "model"
      ],
      "metadata": {
        "id": "k-w_fa4Rdchd"
      },
      "execution_count": null,
      "outputs": []
    },
    {
      "cell_type": "code",
      "source": [
        "aws s3 cp s3://mybucket/models/model1/model.tar.gz model1.tar.gz"
      ],
      "metadata": {
        "id": "hThwX1ROdcrk"
      },
      "execution_count": null,
      "outputs": []
    },
    {
      "cell_type": "code",
      "source": [
        "aws s3 cp s3://mybucket/models/model2/model.tar.gz model2.tar.gz"
      ],
      "metadata": {
        "id": "9gGTlLBJp6cf"
      },
      "execution_count": null,
      "outputs": []
    },
    {
      "cell_type": "code",
      "source": [
        "mkdir -p multi/model1"
      ],
      "metadata": {
        "id": "yZwxVSLWp6hw"
      },
      "execution_count": null,
      "outputs": []
    },
    {
      "cell_type": "code",
      "source": [
        "mkdir -p multi/model2"
      ],
      "metadata": {
        "id": "QvkXKC__p6kx"
      },
      "execution_count": null,
      "outputs": []
    },
    {
      "cell_type": "code",
      "source": [
        "tar xvf model1.tar.gz -C ./multi/model1"
      ],
      "metadata": {
        "id": "0k-6B72Wp6np"
      },
      "execution_count": null,
      "outputs": []
    },
    {
      "cell_type": "code",
      "source": [
        "tar xvf model2.tar.gz -C ./multi/model2"
      ],
      "metadata": {
        "id": "FPOE8MNup6p4"
      },
      "execution_count": null,
      "outputs": []
    },
    {
      "cell_type": "code",
      "source": [
        "mv multi/model1/export/Servo/* multi/model1/"
      ],
      "metadata": {
        "id": "WduSktHWdc1C"
      },
      "execution_count": null,
      "outputs": []
    },
    {
      "cell_type": "code",
      "source": [
        "mv multi/model2/export/Servo/* multi/model2/"
      ],
      "metadata": {
        "id": "ZqYsUFMrqEHZ"
      },
      "execution_count": null,
      "outputs": []
    },
    {
      "cell_type": "code",
      "source": [
        "rm -fr multi/model1/export"
      ],
      "metadata": {
        "id": "gS9vT2E1qEKO"
      },
      "execution_count": null,
      "outputs": []
    },
    {
      "cell_type": "code",
      "source": [
        "rm -fr multi/model2/export"
      ],
      "metadata": {
        "id": "QRsQ38BRqEM_"
      },
      "execution_count": null,
      "outputs": []
    },
    {
      "cell_type": "code",
      "source": [
        "tar -C \"$PWD/multi/\" -czvf multi.tar.gz multi/"
      ],
      "metadata": {
        "id": "rme5hMgWdc_L"
      },
      "execution_count": null,
      "outputs": []
    },
    {
      "cell_type": "code",
      "source": [
        "aws s3 cp multi.tar.gz s3://mybucket/models/multi.tar.gz"
      ],
      "metadata": {
        "id": "Lf5P7QJdddIq"
      },
      "execution_count": null,
      "outputs": []
    },
    {
      "cell_type": "code",
      "source": [
        "role = 'SageMakerRole'\n",
        "role"
      ],
      "metadata": {
        "id": "Odfaq43RddSD"
      },
      "execution_count": null,
      "outputs": []
    },
    {
      "cell_type": "code",
      "source": [
        "model_data = 's3://mybucket/models/multi.tar.gz'\n",
        "model_data"
      ],
      "metadata": {
        "id": "1mcO_wLeqU7u"
      },
      "execution_count": null,
      "outputs": []
    },
    {
      "cell_type": "code",
      "source": [
        "env = {'SAGEMAKER_TFS_DEFAULT_MODEL_NAME': 'model1'}\n",
        "env"
      ],
      "metadata": {
        "id": "bshQInLzqU_G"
      },
      "execution_count": null,
      "outputs": []
    },
    {
      "cell_type": "code",
      "source": [
        "model = Model(model_data=model_data, role=role, framework_version='1.11', env=env)\n",
        "model"
      ],
      "metadata": {
        "id": "vk9LxsZ7qVB-"
      },
      "execution_count": null,
      "outputs": []
    },
    {
      "cell_type": "code",
      "source": [
        "predictor = model.deploy(initial_instance_count=1, instance_type='ml.c5.xlarge')\n",
        "predictor"
      ],
      "metadata": {
        "id": "2yn35CstqVEh"
      },
      "execution_count": null,
      "outputs": []
    },
    {
      "cell_type": "code",
      "source": [
        "endpoint = predictor.endpoint_name\n",
        "endpoint"
      ],
      "metadata": {
        "id": "nInNiFBoddby"
      },
      "execution_count": null,
      "outputs": []
    },
    {
      "cell_type": "code",
      "source": [
        "model2_predictor = Predictor(endpoint, model_name='model2')\n",
        "model2_predictor"
      ],
      "metadata": {
        "id": "8gXxDgp_qmhf"
      },
      "execution_count": null,
      "outputs": []
    },
    {
      "cell_type": "code",
      "source": [
        "result = model2_predictor.predict()\n",
        "result"
      ],
      "metadata": {
        "id": "GG7FvT7Wqmkw"
      },
      "execution_count": null,
      "outputs": []
    },
    {
      "cell_type": "code",
      "source": [
        "\n",
        "aws sagemaker-runtime invoke-endpoint \\\n",
        "    --endpoint-name my-endpoint \\\n",
        "    --content-type 'application/json' \\\n",
        "    --body '{\"instances\": [1.0, 2.0, 5.0]}' \\\n",
        "    >(cat) 1>/dev/null\n",
        "\n",
        "# Predict request for specific model name\n",
        "aws sagemaker-runtime invoke-endpoint \\\n",
        "    --endpoint-name my-endpoint \\\n",
        "    --content-type 'application/json' \\\n",
        "    --body '{\"instances\": [1.0, 2.0, 5.0]}' \\\n",
        "    --custom-attributes 'tfs-model-name=other_model' \\\n",
        "    >(cat) 1>/dev/null\n",
        "\n",
        "# TensorFlow Serving REST API - regress request\n",
        "aws sagemaker-runtime invoke-endpoint \\\n",
        "    --endpoint-name my-endpoint \\\n",
        "    --content-type 'application/json' \\\n",
        "    --body '{\"signature_name\": \"tensorflow/serving/regress\",\"examples\": [{\"x\": 1.0}]}' \\\n",
        "    --custom-attributes 'tfs-method=regress' \\\n",
        "    >(cat) 1>/dev/null\n",
        "\n",
        "# Simple json request (2 instances)\n",
        "aws sagemaker-runtime invoke-endpoint \\\n",
        "    --endpoint-name my-endpoint \\\n",
        "    --content-type 'application/json' \\\n",
        "    --body '[[1.0, 2.0, 5.0],[2.0, 3.0, 4.0]]' \\\n",
        "    >(cat) 1>/dev/null\n",
        "\n",
        "# CSV request (2 rows)\n",
        "aws sagemaker-runtime invoke-endpoint \\\n",
        "    --endpoint-name my-endpoint \\\n",
        "    --content-type 'text/csv' \\\n",
        "    --body \"1.0,2.0,5.0\"$'\\n'\"2.0,3.0,4.0\" \\\n",
        "    >(cat) 1>/dev/null\n",
        "\n",
        "# Line delimited JSON from an input file\n",
        "aws sagemaker-runtime invoke-endpoint \\\n",
        "    --endpoint-name my-endpoint \\\n",
        "    --content-type 'application/jsons' \\\n",
        "    --body \"$(cat input.jsons)\" \\\n",
        "    results.json"
      ],
      "metadata": {
        "id": "2CB2lBdIddlC"
      },
      "execution_count": null,
      "outputs": []
    },
    {
      "cell_type": "markdown",
      "source": [
        "# Tensorflow\n"
      ],
      "metadata": {
        "id": "ktbkIiilddp7"
      }
    },
    {
      "cell_type": "code",
      "source": [],
      "metadata": {
        "id": "KR3p9qjPddum"
      },
      "execution_count": null,
      "outputs": []
    },
    {
      "cell_type": "markdown",
      "source": [],
      "metadata": {
        "id": "Em8IbEL0ddzC"
      }
    },
    {
      "cell_type": "code",
      "source": [],
      "metadata": {
        "id": "MppDaCPmdd4O"
      },
      "execution_count": null,
      "outputs": []
    }
  ]
}