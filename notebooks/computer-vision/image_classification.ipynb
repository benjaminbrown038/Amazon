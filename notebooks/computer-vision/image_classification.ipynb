{
  "nbformat": 4,
  "nbformat_minor": 0,
  "metadata": {
    "colab": {
      "provenance": [],
      "authorship_tag": "ABX9TyMvzhr8GE3cX1x8I7xWQ7/g",
      "include_colab_link": true
    },
    "kernelspec": {
      "name": "python3",
      "display_name": "Python 3"
    },
    "language_info": {
      "name": "python"
    }
  },
  "cells": [
    {
      "cell_type": "markdown",
      "metadata": {
        "id": "view-in-github",
        "colab_type": "text"
      },
      "source": [
        "<a href=\"https://colab.research.google.com/github/benjaminbrown038/Amazon/blob/main/notebooks/computer-vision/image_classification.ipynb\" target=\"_parent\"><img src=\"https://colab.research.google.com/assets/colab-badge.svg\" alt=\"Open In Colab\"/></a>"
      ]
    },
    {
      "cell_type": "markdown",
      "source": [
        "# Amazon - Image Classification"
      ],
      "metadata": {
        "id": "9GlGDto4Hf8W"
      }
    },
    {
      "cell_type": "markdown",
      "source": [
        "#### Imports"
      ],
      "metadata": {
        "id": "TQ3o7SB8HgHk"
      }
    },
    {
      "cell_type": "code",
      "source": [],
      "metadata": {
        "id": "wfy-vfMCHgQ8"
      },
      "execution_count": null,
      "outputs": []
    },
    {
      "cell_type": "markdown",
      "source": [
        "#### Role"
      ],
      "metadata": {
        "id": "vQXfVIQxHgYc"
      }
    },
    {
      "cell_type": "code",
      "source": [
        "aws_role = get_execution_role()"
      ],
      "metadata": {
        "id": "x8D_v2OpHgh9"
      },
      "execution_count": null,
      "outputs": []
    },
    {
      "cell_type": "markdown",
      "source": [
        "#### Execution Role"
      ],
      "metadata": {
        "id": "a4Hpg9aJHgtV"
      }
    },
    {
      "cell_type": "code",
      "source": [
        "aws_region = boto3.Session().region_name"
      ],
      "metadata": {
        "id": "DBpL0SHHHgzE"
      },
      "execution_count": null,
      "outputs": []
    },
    {
      "cell_type": "markdown",
      "source": [],
      "metadata": {
        "id": "pW0-3EvuHg69"
      }
    },
    {
      "cell_type": "code",
      "source": [],
      "metadata": {
        "id": "Q5TldCM-HhB9"
      },
      "execution_count": null,
      "outputs": []
    },
    {
      "cell_type": "markdown",
      "source": [],
      "metadata": {
        "id": "mMdWUB3SHhH-"
      }
    },
    {
      "cell_type": "code",
      "source": [],
      "metadata": {
        "id": "CdTvFQ3DHhOO"
      },
      "execution_count": null,
      "outputs": []
    },
    {
      "cell_type": "markdown",
      "source": [],
      "metadata": {
        "id": "RwsQZFJJHhUf"
      }
    },
    {
      "cell_type": "code",
      "source": [],
      "metadata": {
        "id": "pRskOcy5HhZ9"
      },
      "execution_count": null,
      "outputs": []
    }
  ]
}