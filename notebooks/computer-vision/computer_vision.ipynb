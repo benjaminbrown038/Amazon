{
  "nbformat": 4,
  "nbformat_minor": 0,
  "metadata": {
    "colab": {
      "provenance": [],
      "authorship_tag": "ABX9TyOuC2QbdxrcJBr45lf0v4IN",
      "include_colab_link": true
    },
    "kernelspec": {
      "name": "python3",
      "display_name": "Python 3"
    },
    "language_info": {
      "name": "python"
    }
  },
  "cells": [
    {
      "cell_type": "markdown",
      "metadata": {
        "id": "view-in-github",
        "colab_type": "text"
      },
      "source": [
        "<a href=\"https://colab.research.google.com/github/benjaminbrown038/Amazon/blob/main/notebooks/computer-vision/computer_vision.ipynb\" target=\"_parent\"><img src=\"https://colab.research.google.com/assets/colab-badge.svg\" alt=\"Open In Colab\"/></a>"
      ]
    },
    {
      "cell_type": "markdown",
      "source": [
        "# Computer Vision\n",
        "\n",
        "- Image Classification\n",
        "\n",
        "- Object Detection\n",
        "\n",
        "- Semantic Segmentation\n",
        "\n",
        "- Video Classification\n",
        "\n",
        "- Depth Estimation"
      ],
      "metadata": {
        "id": "vE3g4smErTwJ"
      }
    },
    {
      "cell_type": "markdown",
      "source": [],
      "metadata": {
        "id": "vUpMHL-YrUy5"
      }
    },
    {
      "cell_type": "code",
      "source": [],
      "metadata": {
        "id": "o_VhtzXfrUIw"
      },
      "execution_count": null,
      "outputs": []
    },
    {
      "cell_type": "markdown",
      "source": [],
      "metadata": {
        "id": "jjJgWd2yrVin"
      }
    },
    {
      "cell_type": "code",
      "source": [],
      "metadata": {
        "id": "TCjigUXKrVnP"
      },
      "execution_count": null,
      "outputs": []
    },
    {
      "cell_type": "markdown",
      "source": [],
      "metadata": {
        "id": "q7tGV2TsrVsI"
      }
    },
    {
      "cell_type": "code",
      "source": [],
      "metadata": {
        "id": "qRHpIXNPrVwo"
      },
      "execution_count": null,
      "outputs": []
    },
    {
      "cell_type": "markdown",
      "source": [],
      "metadata": {
        "id": "BjOFS5j9rV04"
      }
    },
    {
      "cell_type": "code",
      "source": [],
      "metadata": {
        "id": "gx1XWwqVrV5f"
      },
      "execution_count": null,
      "outputs": []
    }
  ]
}