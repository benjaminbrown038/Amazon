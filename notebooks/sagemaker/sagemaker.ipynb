{
  "nbformat": 4,
  "nbformat_minor": 0,
  "metadata": {
    "colab": {
      "provenance": [],
      "authorship_tag": "ABX9TyNp1Pj6youGig3awNw9haba",
      "include_colab_link": true
    },
    "kernelspec": {
      "name": "python3",
      "display_name": "Python 3"
    },
    "language_info": {
      "name": "python"
    }
  },
  "cells": [
    {
      "cell_type": "markdown",
      "metadata": {
        "id": "view-in-github",
        "colab_type": "text"
      },
      "source": [
        "<a href=\"https://colab.research.google.com/github/benjaminbrown038/Amazon/blob/main/notebooks/sagemaker/sagemaker.ipynb\" target=\"_parent\"><img src=\"https://colab.research.google.com/assets/colab-badge.svg\" alt=\"Open In Colab\"/></a>"
      ]
    },
    {
      "cell_type": "markdown",
      "source": [
        "# Sagemaker\n",
        "\n",
        "### Vision\n",
        "\n",
        "- Image Classification\n",
        "\n",
        "- Object Detection\n",
        "\n",
        "- Semantic Segmentation\n",
        "\n",
        "- Instance Segmentation\n",
        "\n",
        "- Image Embedding\n",
        "\n",
        "### Text\n",
        "\n",
        "- Text Classification\n",
        "\n",
        "- Sentence Pair Classification\n",
        "\n",
        "- Question Answering\n",
        "\n",
        "- Named Entity Recognition\n",
        "\n",
        "- Text Summarization\n",
        "\n",
        "- Text Generation\n",
        "\n",
        "- Machine Translation\n",
        "\n",
        "- Text Embedding\n",
        "\n",
        "### Tabular\n",
        "\n",
        "- Tabular Classification (LightGBM & Catboost)\n",
        "\n",
        "- Tabular Classification (XGBoost & Scikit-learn Linear Learner)\n",
        "\n",
        "- Tabular Classification (AutoGluon)\n",
        "\n",
        "- Tabular Classification (TabTransformer)\n",
        "\n",
        "- Tabular Regression (LightGBM & Catboost)\n",
        "\n",
        "- Tabular Regression (XGBoost & Scikit-learn Linear Learner)\n",
        "\n",
        "- Tabular Regression (AutoGluon)\n",
        "\n",
        "- Tabular Regression (TabTransformer)\n",
        "\n"
      ],
      "metadata": {
        "id": "GRCAHUx3525W"
      }
    },
    {
      "cell_type": "markdown",
      "source": [],
      "metadata": {
        "id": "9ktUipjw528l"
      }
    },
    {
      "cell_type": "code",
      "source": [],
      "metadata": {
        "id": "Upu-4boA54rE"
      },
      "execution_count": null,
      "outputs": []
    },
    {
      "cell_type": "markdown",
      "source": [],
      "metadata": {
        "id": "RLsPUhSD54w-"
      }
    },
    {
      "cell_type": "code",
      "source": [],
      "metadata": {
        "id": "k6BdHVfd5420"
      },
      "execution_count": null,
      "outputs": []
    },
    {
      "cell_type": "markdown",
      "source": [],
      "metadata": {
        "id": "fQQk2XDp549O"
      }
    },
    {
      "cell_type": "code",
      "source": [],
      "metadata": {
        "id": "wblcdq-455Dt"
      },
      "execution_count": null,
      "outputs": []
    },
    {
      "cell_type": "markdown",
      "source": [],
      "metadata": {
        "id": "at1VLS-e55Jk"
      }
    },
    {
      "cell_type": "code",
      "source": [],
      "metadata": {
        "id": "zD3imLDX55RF"
      },
      "execution_count": null,
      "outputs": []
    },
    {
      "cell_type": "markdown",
      "source": [],
      "metadata": {
        "id": "hJwc-znL55We"
      }
    },
    {
      "cell_type": "code",
      "source": [],
      "metadata": {
        "id": "z9xiMKo855c-"
      },
      "execution_count": null,
      "outputs": []
    }
  ]
}